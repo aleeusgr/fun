{
 "cells": [
  {
   "cell_type": "code",
   "execution_count": 5,
   "id": "c246aa6c-6191-42a8-91c3-c1b5656423e9",
   "metadata": {},
   "outputs": [],
   "source": [
    "import warnings\n",
    "\n",
    "import arviz as az\n",
    "import matplotlib.pyplot as plt\n",
    "import numpy as np\n",
    "import pymc3 as pm\n",
    "import theano.tensor as tt\n",
    "\n",
    "warnings.simplefilter(action=\"ignore\", category=FutureWarning)\n"
   ]
  },
  {
   "cell_type": "code",
   "execution_count": 6,
   "id": "c6054cba-9d71-4a1c-9503-f7d460beee0d",
   "metadata": {},
   "outputs": [],
   "source": [
    "# this code takes ages to compile\n",
    "with pm.Model() as model:\n",
    "    mu = pm.Normal(\"mu\", mu=0, sigma=1)\n",
    "    obs = pm.Normal(\"obs\", mu=mu, sigma=1, observed=np.random.randn(100))"
   ]
  },
  {
   "cell_type": "code",
   "execution_count": 9,
   "id": "c015f361-a564-4f3d-9348-596042109aa4",
   "metadata": {},
   "outputs": [
    {
     "name": "stdout",
     "output_type": "stream",
     "text": [
      "-143.96590493262892\n"
     ]
    },
    {
     "data": {
      "text/plain": [
       "[mu ~ Normal, obs ~ Normal]"
      ]
     },
     "execution_count": 9,
     "metadata": {},
     "output_type": "execute_result"
    }
   ],
   "source": [
    "\n",
    "print(model.logp({\"mu\": 0}))\n",
    "model.basic_RVs"
   ]
  },
  {
   "cell_type": "markdown",
   "id": "68139a42-108d-45a6-af0a-271281008407",
   "metadata": {},
   "source": [
    "Observed RVs are defined via likelihood distributions, while unobserved RVs are defined via prior distributions. "
   ]
  }
 ],
 "metadata": {
  "kernelspec": {
   "display_name": "Python 3",
   "language": "python",
   "name": "python3"
  },
  "language_info": {
   "codemirror_mode": {
    "name": "ipython",
    "version": 3
   },
   "file_extension": ".py",
   "mimetype": "text/x-python",
   "name": "python",
   "nbconvert_exporter": "python",
   "pygments_lexer": "ipython3",
   "version": "3.7.11"
  }
 },
 "nbformat": 4,
 "nbformat_minor": 5
}
