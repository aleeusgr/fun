{
 "cells": [
  {
   "cell_type": "markdown",
   "metadata": {},
   "source": [
    "#### marketing\n"
   ]
  },
  {
   "cell_type": "code",
   "execution_count": 1,
   "metadata": {},
   "outputs": [],
   "source": [
    "import pandas as pd\n",
    "import datetime as dt\n",
    "import numpy as np\n",
    "import matplotlib as mpl\n",
    "import matplotlib.pyplot as plt\n",
    "# pd.set_option('display.max_colwidth',20) #change this to increse width cutoff limit\n",
    "plt.rcParams['figure.figsize'] = [20, 10]\n",
    "pd.set_option('display.max_columns', 500)\n",
    "pd.set_option('display.width', 1000)\n",
    "plt.rcParams['axes.facecolor'] = 'black'"
   ]
  },
  {
   "cell_type": "code",
   "execution_count": 2,
   "metadata": {},
   "outputs": [
    {
     "data": {
      "text/html": [
       "<div>\n",
       "<style scoped>\n",
       "    .dataframe tbody tr th:only-of-type {\n",
       "        vertical-align: middle;\n",
       "    }\n",
       "\n",
       "    .dataframe tbody tr th {\n",
       "        vertical-align: top;\n",
       "    }\n",
       "\n",
       "    .dataframe thead th {\n",
       "        text-align: right;\n",
       "    }\n",
       "</style>\n",
       "<table border=\"1\" class=\"dataframe\">\n",
       "  <thead>\n",
       "    <tr style=\"text-align: right;\">\n",
       "      <th></th>\n",
       "      <th>name</th>\n",
       "      <th>amt</th>\n",
       "      <th>in</th>\n",
       "      <th>Out</th>\n",
       "      <th>Prof %</th>\n",
       "      <th>Profit</th>\n",
       "    </tr>\n",
       "  </thead>\n",
       "  <tbody>\n",
       "    <tr>\n",
       "      <th>3</th>\n",
       "      <td>20 Знак нагрудный (№ 9)</td>\n",
       "      <td>5.0</td>\n",
       "      <td>50.0</td>\n",
       "      <td>100.0</td>\n",
       "      <td>100.00</td>\n",
       "      <td>50.0</td>\n",
       "    </tr>\n",
       "    <tr>\n",
       "      <th>5</th>\n",
       "      <td>200 Отл. караул. зн  нагруд. № 7</td>\n",
       "      <td>1.0</td>\n",
       "      <td>23.0</td>\n",
       "      <td>50.0</td>\n",
       "      <td>117.39</td>\n",
       "      <td>27.0</td>\n",
       "    </tr>\n",
       "    <tr>\n",
       "      <th>6</th>\n",
       "      <td>46/176 К-м ВКБО</td>\n",
       "      <td>4.0</td>\n",
       "      <td>5600.0</td>\n",
       "      <td>11200.0</td>\n",
       "      <td>100.00</td>\n",
       "      <td>5600.0</td>\n",
       "    </tr>\n",
       "    <tr>\n",
       "      <th>7</th>\n",
       "      <td>48/170 К-м ВКБО</td>\n",
       "      <td>2.0</td>\n",
       "      <td>2800.0</td>\n",
       "      <td>5600.0</td>\n",
       "      <td>100.00</td>\n",
       "      <td>2800.0</td>\n",
       "    </tr>\n",
       "    <tr>\n",
       "      <th>8</th>\n",
       "      <td>48/176 К-м ВКБО</td>\n",
       "      <td>3.0</td>\n",
       "      <td>4200.0</td>\n",
       "      <td>8400.0</td>\n",
       "      <td>100.00</td>\n",
       "      <td>4200.0</td>\n",
       "    </tr>\n",
       "    <tr>\n",
       "      <th>...</th>\n",
       "      <td>...</td>\n",
       "      <td>...</td>\n",
       "      <td>...</td>\n",
       "      <td>...</td>\n",
       "      <td>...</td>\n",
       "      <td>...</td>\n",
       "    </tr>\n",
       "    <tr>\n",
       "      <th>3256</th>\n",
       "      <td>Эмблема п/а</td>\n",
       "      <td>256.0</td>\n",
       "      <td>4260.0</td>\n",
       "      <td>7680.0</td>\n",
       "      <td>80.28</td>\n",
       "      <td>3420.0</td>\n",
       "    </tr>\n",
       "    <tr>\n",
       "      <th>3257</th>\n",
       "      <td>Эмблема УФСИН п/а черн.</td>\n",
       "      <td>100.0</td>\n",
       "      <td>2000.0</td>\n",
       "      <td>3997.6</td>\n",
       "      <td>99.88</td>\n",
       "      <td>1997.6</td>\n",
       "    </tr>\n",
       "    <tr>\n",
       "      <th>3258</th>\n",
       "      <td>Якорь 24 мм</td>\n",
       "      <td>8.0</td>\n",
       "      <td>56.0</td>\n",
       "      <td>120.0</td>\n",
       "      <td>114.29</td>\n",
       "      <td>64.0</td>\n",
       "    </tr>\n",
       "    <tr>\n",
       "      <th>3259</th>\n",
       "      <td>Якорь 34 мм</td>\n",
       "      <td>5.0</td>\n",
       "      <td>50.0</td>\n",
       "      <td>100.0</td>\n",
       "      <td>100.00</td>\n",
       "      <td>50.0</td>\n",
       "    </tr>\n",
       "    <tr>\n",
       "      <th>3260</th>\n",
       "      <td>Якорь 60 мм</td>\n",
       "      <td>1.0</td>\n",
       "      <td>17.0</td>\n",
       "      <td>35.0</td>\n",
       "      <td>105.88</td>\n",
       "      <td>18.0</td>\n",
       "    </tr>\n",
       "  </tbody>\n",
       "</table>\n",
       "<p>3149 rows × 6 columns</p>\n",
       "</div>"
      ],
      "text/plain": [
       "                                  name    amt      in      Out  Prof %  Profit\n",
       "3              20 Знак нагрудный (№ 9)    5.0    50.0    100.0  100.00    50.0\n",
       "5     200 Отл. караул. зн  нагруд. № 7    1.0    23.0     50.0  117.39    27.0\n",
       "6                      46/176 К-м ВКБО    4.0  5600.0  11200.0  100.00  5600.0\n",
       "7                      48/170 К-м ВКБО    2.0  2800.0   5600.0  100.00  2800.0\n",
       "8                      48/176 К-м ВКБО    3.0  4200.0   8400.0  100.00  4200.0\n",
       "...                                ...    ...     ...      ...     ...     ...\n",
       "3256                       Эмблема п/а  256.0  4260.0   7680.0   80.28  3420.0\n",
       "3257           Эмблема УФСИН п/а черн.  100.0  2000.0   3997.6   99.88  1997.6\n",
       "3258                       Якорь 24 мм    8.0    56.0    120.0  114.29    64.0\n",
       "3259                       Якорь 34 мм    5.0    50.0    100.0  100.00    50.0\n",
       "3260                       Якорь 60 мм    1.0    17.0     35.0  105.88    18.0\n",
       "\n",
       "[3149 rows x 6 columns]"
      ]
     },
     "execution_count": 2,
     "metadata": {},
     "output_type": "execute_result"
    }
   ],
   "source": [
    "by_good = pd.read_excel('by_name.xls',skiprows=list(range(8)),header = 0,na_values=[' ']).fillna(0)\n",
    "by_good = by_good.drop(columns = ['Unnamed: 1','Unnamed: 2'])\n",
    "by_good = by_good.rename(columns={'Unnamed: 0':'name','единица':'amt',\n",
    "                                  'Сумма':'in','Сумма.1':'Out','Процент':'Prof %','Сумма.2':'Profit'})\n",
    "\n",
    "drop = [0,3261] \n",
    "# # Profit <=0\n",
    "# drop_old = [742, 1041, 326, 325, 1468, 2304, 1733, 751, 1289, 2294,584,1456, 1505, 2460, 686, 758, 378, 1294, 2552, 2639, 844, \n",
    "#          2437, 3106, 80, 2686, 125, 3124, 1753, 92, 330, 1544, 2446, 2395, 1903, 79, 1887, 2673, 986, 2384, 2398, 2739, 2621,\n",
    "#          2828, 2810, 1073, 696, 31, 2812, 2811, 2229, 24, 1932, 1884, 49, 63, 2742, 3098, 75, 682, 1206, 1380, 744, 2259, 48, \n",
    "#          1823, 3118,83, 136, 199, 286, 741, 846, 919, 943, 1063, 1245, 1638, 1857]\n",
    "drop += [769, 1082, 113, 332, 333, 1531, 2133, 2401, 799, 1804, 1519, 778, 1338, 2391, 1518, 1568, 2567, 707, 787, 385, 1344, 2665,\n",
    "         454, 2717, 2755, 2543, 3236, 85, 2561, 132, 2803, 3254, 1828, 97, 337, 1609, 2552, 2500, 3211, 1984, 84, 1968, 2790, 875, \n",
    "         1021, 2489, 1469, 1900, 2437, 2503, 2856, 2431, 2537, 2737, 2950, 2928, 1118, 2559, 719, 33, 2930, 2929, 2323, 26, 2013, \n",
    "         1965, 1812, 54, 68, 2859, 3227, 1450, 80, 703, 602, 1253, 1437, 771, 2353, 53, 1898, 3248, 2130, 953, 768, 1705, 143, 1934, \n",
    "         1292, 206, 1107, 877, 293, 1037, 977]\n",
    "# # Unreal profit\n",
    "drop+= [3170, 821, 90, 730, 1682, 1538, 1539, 1541, 2122, 62, 2299, 694, 819, 4, 1, 2]\n",
    "# drop_old += [1,2,3042, 791, 85, 707, 1615, 1475, 1476, 1478, 2038, 57, 2208, 673, 789, 4, 2685]\n",
    "# drop += [268\n",
    "df = by_good.drop(drop)\n",
    "# df = df.reset_index(drop=True)\n",
    "df"
   ]
  },
  {
   "cell_type": "code",
   "execution_count": 3,
   "metadata": {},
   "outputs": [],
   "source": [
    "def prt_summary(df,colName = 'Profit'):\n",
    "    '''Prints statistical data for the DataFrame'''\n",
    "    print(colName.center(130,'='))\n",
    "\n",
    "    print(\n",
    "        'mean   :{} '.format(df[colName].mean()),\n",
    "        'std_dev:{} '.format(df[colName].std()),\n",
    "        'Max:    {} '.format(df[colName].max()),\n",
    "        'Min:    {} '.format(df[colName].min()),\n",
    "        sep='\\n'\n",
    "\n",
    "         )\n",
    "    print('MIN/MAX'.center(130,'-'))\n",
    "    print(\n",
    "        df[df[colName]==df[colName].max()].sort_values(colName),\n",
    "        df[df[colName]==df[colName].min()].sort_values(colName),\n",
    "        sep = '\\n'\n",
    "    )\n"
   ]
  },
  {
   "cell_type": "code",
   "execution_count": 4,
   "metadata": {},
   "outputs": [],
   "source": [
    "def graphs(df,colName='Profit'):\n",
    "    for i in reversed(df.columns[[1,-2,-1]]):\n",
    "        prt_summary(df,colName=i)\n",
    "        plt.figure()\n",
    "        plt.yscale('log')\n",
    "        df[i].hist(bins=50)\n",
    "        plt.show()"
   ]
  },
  {
   "cell_type": "markdown",
   "metadata": {},
   "source": [
    "#### Unexpected data:"
   ]
  },
  {
   "cell_type": "code",
   "execution_count": 5,
   "metadata": {},
   "outputs": [
    {
     "data": {
      "text/plain": [
       "Int64Index([], dtype='int64')"
      ]
     },
     "execution_count": 5,
     "metadata": {},
     "output_type": "execute_result"
    }
   ],
   "source": [
    "# Items with negative profit\n",
    "col = 'Profit'  \n",
    "df.loc[lambda df: df[col]<=0].sort_values(col).index"
   ]
  },
  {
   "cell_type": "code",
   "execution_count": 6,
   "metadata": {},
   "outputs": [
    {
     "data": {
      "text/plain": [
       "Int64Index([], dtype='int64')"
      ]
     },
     "execution_count": 6,
     "metadata": {},
     "output_type": "execute_result"
    }
   ],
   "source": [
    "# items with unrealistic prof %\n",
    "df[df['Prof %']>200].sort_values('Prof %').index"
   ]
  },
  {
   "cell_type": "markdown",
   "metadata": {},
   "source": [
    "#### Goods by quartile"
   ]
  },
  {
   "cell_type": "code",
   "execution_count": 7,
   "metadata": {},
   "outputs": [],
   "source": [
    "col = 'Profit'\n",
    "q = {}\n",
    "q[1] = df.loc[lambda df: df[col] > df.quantile(0.75)[col]]\n",
    "q[4] = df.loc[lambda df:df[col] < df.quantile(0.25)[col]]\n",
    "q[23] = df.drop(q[1].index)\n",
    "q[23] = q[23].drop(q[4].index)"
   ]
  }
 ],
 "metadata": {
  "kernelspec": {
   "display_name": "Python 3",
   "language": "python",
   "name": "python3"
  },
  "language_info": {
   "codemirror_mode": {
    "name": "ipython",
    "version": 3
   },
   "file_extension": ".py",
   "mimetype": "text/x-python",
   "name": "python",
   "nbconvert_exporter": "python",
   "pygments_lexer": "ipython3",
   "version": "3.7.6"
  }
 },
 "nbformat": 4,
 "nbformat_minor": 4
}
