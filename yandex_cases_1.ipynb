{
 "cells": [
  {
   "cell_type": "markdown",
   "id": "89f92a53-ab09-40de-97f9-c22e91b92621",
   "metadata": {
    "tags": []
   },
   "source": [
    "## case1 "
   ]
  },
  {
   "cell_type": "markdown",
   "id": "3cd6ad28-0a9b-4284-a60f-6093ae4f9059",
   "metadata": {
    "jupyter": {
     "source_hidden": true
    },
    "tags": []
   },
   "source": [
    "Выполнить арифметические операции теории вероятности. <br>\n",
    "\n",
    "Find dispersion of a linear combination of two random variables, given expected value, dispersion, covariance; \n",
    "\n",
    "E - expected value, математическое ожидание, mean <br>\n",
    "D - Dispersion, дисперсия, variance <br>\n",
    "covariance - мера линейной зависимости. measure of linear dependence. <br>\n",
    "\n",
    "how to do random variable arithmetic? <br>\n",
    "https://www.khanacademy.org/math/ap-statistics/random-variables-ap/transforming-random-variables/v/impact-of-scaling-and-shifting-random-variables\n",
    "\n",
    "how to calculate dispersion? <br>\n",
    "what covariance has to do with it? <br> \n",
    "http://personal.psu.edu/jol2/course/stat418/notes/chap6.pdf\n",
    "\n",
    "https://web.mst.edu/~kosbar/ee5440/notes/20210113/28.pdf <br>\n",
    "\n",
    "https://www.youtube.com/watch?v=91SjTf-YX2c\n"
   ]
  },
  {
   "cell_type": "markdown",
   "id": "68ceadbc-e0cc-439d-86c4-278aec8cc294",
   "metadata": {
    "jupyter": {
     "source_hidden": true
    },
    "tags": []
   },
   "source": [
    "    https://www.youtube.com/watch?v=91SjTf-YX2c\n",
    "If two rv's are independent, variance of the sum is the sum of vairances.\n",
    "Lemma, proof.\n",
    "Covariance\n",
    "Var(X+Y) = E(X+Y-E(X+Y))^2 = E((X-EX) + (y-EY))^2\n",
    "using root expansion: a^2 + 2 ab + b^2 where a = X-EX, b= Y-EY\n",
    "Covariance = 2ab; \n",
    "Cov = 0 -> X & Y are independent. \n",
    "Proof.\n"
   ]
  },
  {
   "cell_type": "code",
   "execution_count": 90,
   "id": "f59dd899-bf02-407b-9d32-d1a3a3857fb9",
   "metadata": {
    "jupyter": {
     "source_hidden": true
    },
    "tags": []
   },
   "outputs": [
    {
     "name": "stdout",
     "output_type": "stream",
     "text": [
      "49.1\n"
     ]
    }
   ],
   "source": [
    "import numpy as np\n",
    "# x(E,D)?\n",
    "x = np.array((0.5, 2))\n",
    "y = np.array((7, 3.5))\n",
    "covariance = -0.8\n",
    "a = 2\n",
    "b = -3\n",
    "var_X, var_Y = [i[1] for i in (x,y) ]\n",
    "variance = a**2*var_X + b**2*var_Y + 2*a*b* covariance\n",
    "\n",
    "\n",
    "print(variance)\n",
    "#find dispersion of z"
   ]
  },
  {
   "cell_type": "markdown",
   "id": "fc71832c-cc5e-472d-b791-9c2146ab303d",
   "metadata": {
    "jupyter": {
     "source_hidden": true
    },
    "tags": []
   },
   "source": [
    "Даны две случайные величины X и Y. Про них известно, что:\n",
    "\n",
    "E X = 0.5, D X = 2\n",
    "\n",
    "E Y = 7, D Y = 3.5\n",
    "\n",
    "cov (X, Y) = -0.8\n",
    "\n",
    "Найдите дисперсию случайной величины Z = 2 X - 3 Y (верное решение будет между 45 и 50).\n",
    "\n",
    "Укажите ответ (только число, описывать ход решения не нужно).\n"
   ]
  },
  {
   "cell_type": "markdown",
   "id": "b7433b23-12d0-46da-8efd-02d0adceafde",
   "metadata": {},
   "source": [
    "## case2 \n",
    "Оценить работу алгоритма регрессии в двух вариантах.<br>\n",
    "Interpet MSE to evaluate performance of a regression algorithm."
   ]
  },
  {
   "cell_type": "markdown",
   "id": "371956d7-6bf5-44e3-a315-29342328be97",
   "metadata": {},
   "source": [
    "https://www.statology.org/mse-calculator/ <br>\n",
    "MSE = Σ(Pi – Oi)^2 / n\n"
   ]
  },
  {
   "cell_type": "code",
   "execution_count": 106,
   "id": "b26a1ca9-2ecb-48eb-bd7c-de94efb63175",
   "metadata": {
    "tags": []
   },
   "outputs": [
    {
     "name": "stdout",
     "output_type": "stream",
     "text": [
      "MSE_V =  0.298\n",
      "coefficient of determination: 4.800019200101868e-05\n",
      "0.1599923199692799\n",
      "[-0.8  0.2]\n"
     ]
    }
   ],
   "source": [
    "# find MSE for a model with given performance\n",
    "n_objects = 500\n",
    "n_high = 400\n",
    "n_low = 100\n",
    "error_high = 0.5\n",
    "error_low = -0.7\n",
    "# find MSE\n",
    "\n",
    "#\n",
    "MSE = (n_high*error_high**2 + n_low*error_low**2)/n_objects\n",
    "print(f'MSE_V = ',MSE)\n",
    "\n",
    "#lin_reg model; https://realpython.com/linear-regression-in-python/\n",
    "import numpy as np\n",
    "a = 0.0\n",
    "b = 0\n",
    "x = np.arange(n_objects).reshape((-1, 1))\n",
    "y = a*x+b\n",
    "#offset\n",
    "n = -1\n",
    "ith = n_objects//n_low\n",
    "y[::ith] += n\n",
    "\n",
    "import numpy as np\n",
    "from sklearn.linear_model import LinearRegression\n",
    "model = LinearRegression()\n",
    "model.fit(x, y)\n",
    "model = LinearRegression().fit(x, y)\n",
    "r_sq = model.score(x, y)\n",
    "print('coefficient of determination:', r_sq)\n",
    "from sklearn.metrics import mean_squared_error\n",
    "\n",
    "\n",
    "y_pred = model.predict(x)\n",
    "\n",
    "#import matplotlib.pyplot as plt\n",
    "#plt.figure(figsize = (12,8))\n",
    "#plt.plot(y_pred, label = 'prediction')\n",
    "#plt.plot(y, '.', label = 'data')\n",
    "#plt.legend()\n",
    "#plt.show()\n",
    "\n",
    "from sklearn.metrics import mean_squared_error\n",
    "true_val = y\n",
    "predicted_val = y_pred\n",
    "mse = mean_squared_error(true_val, predicted_val)\n",
    "print(mse)\n",
    "errors = np.round(true_val-predicted_val,2 )\n",
    "print(np.unique(errors))"
   ]
  },
  {
   "cell_type": "code",
   "execution_count": 104,
   "id": "3b5da51f-74ed-4502-8dce-4aa62159f822",
   "metadata": {},
   "outputs": [
    {
     "data": {
      "text/plain": [
       "0.09799999999999999"
      ]
     },
     "execution_count": 104,
     "metadata": {},
     "output_type": "execute_result"
    }
   ],
   "source": [
    "0.7**2/5"
   ]
  },
  {
   "cell_type": "markdown",
   "id": "f79ef354-aa02-42b0-889f-5a9636d7cf16",
   "metadata": {
    "tags": []
   },
   "source": [
    "Вася обучил линейную регрессию и получил, что на 400 объектах тестовой выборки модель выдаёт ответ на 0.5 выше, чем нужно, и на 100 объектах тестовой выборки на 0.7 ниже, чем нужно. Всего в выборке 500 объектов. Чему равно MSE для его модели?\n",
    "\n",
    "Маша утверждает, что линейная регрессия обучена неправильно, и что можно сделать лучше, изменив все ответы на константную величину. Чему будет равно MSE у неё? Можете считать, что Маша нашла наименьшую ошибку из возможных при её ограничениях.\n",
    "\n",
    "В результате решения у вас должно получиться два числа: ошибка Васи и ошибка Маши. Укажите их. Описывать ход решения не нужно.\n"
   ]
  },
  {
   "cell_type": "markdown",
   "id": "d25d9468-4670-4c48-9ac8-cf4485e19ea2",
   "metadata": {},
   "source": [
    "## case3\n",
    "Найти x, одну из компонент системы линейных уравнений. При каком х вектора сохраняют линейную независимость. <br>\n",
    "Solve for x, subject to constraint - vectors linear independence."
   ]
  },
  {
   "cell_type": "markdown",
   "id": "209d9233-d6c4-4bb7-adad-4ba51c440b58",
   "metadata": {},
   "source": [
    "линейная независимоть, linear independence.\n",
    "https://textbooks.math.gatech.edu/ila/linear-independence.html\n"
   ]
  },
  {
   "cell_type": "code",
   "execution_count": 23,
   "id": "e2a070e1-2b79-4107-97c9-9280250c52ef",
   "metadata": {
    "collapsed": true,
    "jupyter": {
     "outputs_hidden": true
    },
    "tags": []
   },
   "outputs": [
    {
     "data": {
      "text/plain": [
       "(Matrix([\n",
       " [1, 0, -1, 0],\n",
       " [0, 1, -1, 0],\n",
       " [0, 0,  0, 1]]),\n",
       " (0, 1, 3))"
      ]
     },
     "execution_count": 23,
     "metadata": {},
     "output_type": "execute_result"
    }
   ],
   "source": [
    "from sympy import symbols\n",
    "from sympy.matrices import Matrix\n",
    "x = symbols('x')\n",
    "a_1 = Matrix([-1,1,0,x])\n",
    "a_2 = Matrix([2,-3,1,2])\n",
    "a_3 = Matrix([1,-2,1,-1])\n",
    "\n",
    "M = Matrix((a_1,a_2,a_3)).reshape(3,4)\n",
    "M.rref()\n",
    "# for all x?"
   ]
  },
  {
   "cell_type": "markdown",
   "id": "597e2114-e57f-44af-b08b-9c507788528d",
   "metadata": {
    "tags": []
   },
   "source": [
    "При каких значениях параметра x система из векторов является линейно независимой:\n",
    "\n",
    "a_1 = (-1, 1, 0, x)\n",
    "\n",
    "a_2 = (2, -3, 1, 2)\n",
    "\n",
    "a_3 = (1, -2, 1, -1)\n",
    "\n",
    "Укажите ответ, описывать ход решения не нужно.\n"
   ]
  },
  {
   "cell_type": "markdown",
   "id": "8cf8e281-86e6-4abb-aa0f-03ca46dbf391",
   "metadata": {
    "tags": []
   },
   "source": [
    "## Case 4"
   ]
  },
  {
   "cell_type": "markdown",
   "id": "91ef9800-23ce-4634-80c3-2559d7374662",
   "metadata": {},
   "source": [
    "для жанра hiphop есть названия (hip, hop, hip-hop)\n",
    "Если очередное название есть в таблице - выводить количество данных. Далее у нас будет задача заменить все варианты на один правильный - hiphop.\n",
    "\n",
    "Посмотрите на решение, предложенное студентом, сравните его с авторским решением и дайте комментарии с позиции ревьюера. Помните, вы пишете обратную связь студенту, а не нам. Как вы сформулируете свой ответ?"
   ]
  },
  {
   "cell_type": "code",
   "execution_count": 32,
   "id": "706f2cc0-8d04-42d4-acda-6adce5e94fd0",
   "metadata": {},
   "outputs": [
    {
     "name": "stdout",
     "output_type": "stream",
     "text": [
      "{'hip-hop', 'hiphop', 'hop', 'hip'}\n"
     ]
    }
   ],
   "source": [
    "name_genres = ()\n",
    "import random\n",
    "for i in range(100):\n",
    "    name_genres += random.choice('hip, hop, hip-hop, hiphop'.split(sep = ', ')),\n",
    "#print(name_genres)\n",
    "names = set(name_genres)\n",
    "\n",
    "print(names)"
   ]
  },
  {
   "cell_type": "code",
   "execution_count": 43,
   "id": "d2a3e08a-44f5-49e2-a2f8-2bfcac3620da",
   "metadata": {},
   "outputs": [
    {
     "name": "stdout",
     "output_type": "stream",
     "text": [
      "hiphop\n",
      "24\n",
      "24\n",
      "24\n"
     ]
    }
   ],
   "source": [
    "def find_genre(name):\n",
    "    count = 0\n",
    "    for a in name_genres:\n",
    "        if a ==name:\n",
    "            count+=1\n",
    "    print(count)\n",
    "    return count\n",
    "    \n",
    "def find_genre_2(name):\n",
    "    count = 0\n",
    "    for i in range(len(name_genres)):\n",
    "        if name_genres[i] == name:\n",
    "            count +=1\n",
    "    return count\n",
    "\n",
    "name = list(names)[1]\n",
    "print(name)\n",
    "print(name_genres.count(name))\n",
    "find_genre(name)\n",
    "print(find_genre_2(name))"
   ]
  }
 ],
 "metadata": {
  "kernelspec": {
   "display_name": "Python 3",
   "language": "python",
   "name": "python3"
  },
  "language_info": {
   "codemirror_mode": {
    "name": "ipython",
    "version": 3
   },
   "file_extension": ".py",
   "mimetype": "text/x-python",
   "name": "python",
   "nbconvert_exporter": "python",
   "pygments_lexer": "ipython3",
   "version": "3.7.11"
  }
 },
 "nbformat": 4,
 "nbformat_minor": 5
}
