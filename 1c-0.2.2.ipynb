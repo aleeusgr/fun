{
 "cells": [
  {
   "cell_type": "markdown",
   "metadata": {},
   "source": [
    "### TODO:\n",
    "\n",
    "1. Decide on number of clusters (5??)  \n",
    "2. Create training set, labelling datapoints manually  \n",
    "3. Use ML model to predict labels.  \n",
    "Classification, multioutput;  \n",
    "Models to use: ??  \n",
    "Use ensemble learning??  \n",
    "\n",
    "CV search for optimal results\n",
    "\n",
    "4. Build model into a pipeline \n",
    " "
   ]
  },
  {
   "cell_type": "code",
   "execution_count": 1,
   "metadata": {
    "jupyter": {
     "source_hidden": true
    }
   },
   "outputs": [
    {
     "name": "stdout",
     "output_type": "stream",
     "text": [
      "imports and options\n"
     ]
    }
   ],
   "source": [
    "print('imports and options')\n",
    "import pandas as pd\n",
    "import datetime as dt\n",
    "import numpy as np\n",
    "import matplotlib as mpl\n",
    "import matplotlib.pyplot as plt\n",
    "# pd.set_option('display.max_colwidth',20) #change this to increse width cutoff limit\n",
    "pd.set_option('display.max_columns', 500)\n",
    "pd.set_option('display.max_rows', 20)\n",
    "pd.set_option('display.width', 1000)\n",
    "\n",
    "plt.rcParams['figure.figsize'] = [5,5]#[20, 10]\n",
    "# plt.rcParams['axes.facecolor'] = 'black'"
   ]
  },
  {
   "cell_type": "code",
   "execution_count": 2,
   "metadata": {
    "jupyter": {
     "source_hidden": true
    }
   },
   "outputs": [
    {
     "name": "stdout",
     "output_type": "stream",
     "text": [
      "Load file\n"
     ]
    }
   ],
   "source": [
    "print('Load file')\n",
    "by_good = pd.read_excel('by_name.xls',skiprows=list(range(8)),header = 0,na_values=[' ']).fillna(0)\n",
    "by_good = by_good.drop(columns = ['Unnamed: 1','Unnamed: 2'])\n",
    "by_good = by_good.rename(columns={'Unnamed: 0':'name','единица':'amt',\n",
    "                                  'Сумма':'in','Сумма.1':'Out','Процент':'Prof %','Сумма.2':'Profit'})"
   ]
  },
  {
   "cell_type": "code",
   "execution_count": 3,
   "metadata": {
    "jupyter": {
     "source_hidden": true
    }
   },
   "outputs": [
    {
     "name": "stdout",
     "output_type": "stream",
     "text": [
      "Deal with anomalies\n"
     ]
    }
   ],
   "source": [
    "print('Deal with anomalies')\n",
    "drop = [0,3261] \n",
    "# # Profit <=0\n",
    "drop += [769, 1082, 113, 332, 333, 1531, 2133, 2401, 799, 1804, 1519, 778, 1338, 2391, 1518, 1568, 2567, 707, 787, 385, 1344, 2665,\n",
    "         454, 2717, 2755, 2543, 3236, 85, 2561, 132, 2803, 3254, 1828, 97, 337, 1609, 2552, 2500, 3211, 1984, 84, 1968, 2790, 875, \n",
    "         1021, 2489, 1469, 1900, 2437, 2503, 2856, 2431, 2537, 2737, 2950, 2928, 1118, 2559, 719, 33, 2930, 2929, 2323, 26, 2013, \n",
    "         1965, 1812, 54, 68, 2859, 3227, 1450, 80, 703, 602, 1253, 1437, 771, 2353, 53, 1898, 3248, 2130, 953, 768, 1705, 143, 1934, \n",
    "         1292, 206, 1107, 877, 293, 1037, 977]\n",
    "# Unreal profit\n",
    "drop+= [3170, 821, 90, 730, 1682, 1538, 1539, 1541, 2122, 62, 2299, 694, 819, 4, 1, 2,1485]\n",
    "\n",
    "by_good.loc[sorted(drop),:]\n",
    "\n",
    "df = by_good.drop(drop)\n",
    "df = df.drop(columns = ['in','Out'])\n",
    "df = df.reset_index(drop=True)\n"
   ]
  },
  {
   "cell_type": "code",
   "execution_count": 11,
   "metadata": {},
   "outputs": [
    {
     "name": "stdout",
     "output_type": "stream",
     "text": [
      "Feature extraction and pipeline\n"
     ]
    }
   ],
   "source": [
    "print('Feature extraction and pipeline')\n",
    "'''\n",
    "Try differents scaling approach\n",
    "CountVectorizer parameters??\n",
    "Stop words??\n",
    "feature selection: nums?, \n",
    "'''\n",
    "# profit per unit\n",
    "df['PPU'] = df['Profit']/df['amt'] \n",
    "\n",
    "# pipeline\n",
    "from sklearn.compose import ColumnTransformer\n",
    "\n",
    "from sklearn.feature_extraction.text import CountVectorizer\n",
    "\n",
    "from sklearn.preprocessing import StandardScaler\n",
    "from sklearn.preprocessing import RobustScaler\n",
    "\n",
    "\n",
    "nums = ['amt','Profit','PPU']\n",
    "nums = ['PPU']\n",
    "\n",
    "colTrans = ColumnTransformer([\n",
    "    ('freq_terms',CountVectorizer(),'name'),\n",
    "#     ('std',StandardScaler(),nums),\n",
    "    ('robust',RobustScaler(),nums),\n",
    "\n",
    "])\n",
    "\n",
    "# Features: \n",
    "X = colTrans.fit_transform(df)"
   ]
  },
  {
   "cell_type": "code",
   "execution_count": 12,
   "metadata": {},
   "outputs": [
    {
     "name": "stdout",
     "output_type": "stream",
     "text": [
      "K-means\n"
     ]
    },
    {
     "data": {
      "text/html": [
       "<div>\n",
       "<style scoped>\n",
       "    .dataframe tbody tr th:only-of-type {\n",
       "        vertical-align: middle;\n",
       "    }\n",
       "\n",
       "    .dataframe tbody tr th {\n",
       "        vertical-align: top;\n",
       "    }\n",
       "\n",
       "    .dataframe thead th {\n",
       "        text-align: right;\n",
       "    }\n",
       "</style>\n",
       "<table border=\"1\" class=\"dataframe\">\n",
       "  <thead>\n",
       "    <tr style=\"text-align: right;\">\n",
       "      <th></th>\n",
       "      <th>name</th>\n",
       "      <th>amt</th>\n",
       "      <th>Prof %</th>\n",
       "      <th>Profit</th>\n",
       "      <th>PPU</th>\n",
       "      <th>cat</th>\n",
       "      <th>test_cat</th>\n",
       "    </tr>\n",
       "  </thead>\n",
       "  <tbody>\n",
       "    <tr>\n",
       "      <th>0</th>\n",
       "      <td>20 Знак нагрудный (№ 9)</td>\n",
       "      <td>5.0</td>\n",
       "      <td>100.00</td>\n",
       "      <td>50.0</td>\n",
       "      <td>10.0</td>\n",
       "      <td>0</td>\n",
       "      <td>2</td>\n",
       "    </tr>\n",
       "    <tr>\n",
       "      <th>1</th>\n",
       "      <td>200 Отл. караул. зн  нагруд. № 7</td>\n",
       "      <td>1.0</td>\n",
       "      <td>117.39</td>\n",
       "      <td>27.0</td>\n",
       "      <td>27.0</td>\n",
       "      <td>0</td>\n",
       "      <td>2</td>\n",
       "    </tr>\n",
       "    <tr>\n",
       "      <th>2</th>\n",
       "      <td>46/176 К-м ВКБО</td>\n",
       "      <td>4.0</td>\n",
       "      <td>100.00</td>\n",
       "      <td>5600.0</td>\n",
       "      <td>1400.0</td>\n",
       "      <td>3</td>\n",
       "      <td>1</td>\n",
       "    </tr>\n",
       "    <tr>\n",
       "      <th>3</th>\n",
       "      <td>48/170 К-м ВКБО</td>\n",
       "      <td>2.0</td>\n",
       "      <td>100.00</td>\n",
       "      <td>2800.0</td>\n",
       "      <td>1400.0</td>\n",
       "      <td>3</td>\n",
       "      <td>1</td>\n",
       "    </tr>\n",
       "    <tr>\n",
       "      <th>4</th>\n",
       "      <td>48/176 К-м ВКБО</td>\n",
       "      <td>3.0</td>\n",
       "      <td>100.00</td>\n",
       "      <td>4200.0</td>\n",
       "      <td>1400.0</td>\n",
       "      <td>3</td>\n",
       "      <td>1</td>\n",
       "    </tr>\n",
       "  </tbody>\n",
       "</table>\n",
       "</div>"
      ],
      "text/plain": [
       "                               name  amt  Prof %  Profit     PPU  cat  test_cat\n",
       "0           20 Знак нагрудный (№ 9)  5.0  100.00    50.0    10.0    0         2\n",
       "1  200 Отл. караул. зн  нагруд. № 7  1.0  117.39    27.0    27.0    0         2\n",
       "2                   46/176 К-м ВКБО  4.0  100.00  5600.0  1400.0    3         1\n",
       "3                   48/170 К-м ВКБО  2.0  100.00  2800.0  1400.0    3         1\n",
       "4                   48/176 К-м ВКБО  3.0  100.00  4200.0  1400.0    3         1"
      ]
     },
     "execution_count": 12,
     "metadata": {},
     "output_type": "execute_result"
    }
   ],
   "source": [
    "print('K-means')\n",
    "\n",
    "from sklearn.cluster import KMeans \n",
    "\n",
    "model = KMeans(n_clusters=5,random_state=8934) # poor accuracy, need to find optimal number of clusters\n",
    "\n",
    "\n",
    "model.fit_transform(X)\n",
    "df['cat'] = model.labels_\n",
    "df.head()"
   ]
  },
  {
   "cell_type": "code",
   "execution_count": 13,
   "metadata": {},
   "outputs": [
    {
     "name": "stdout",
     "output_type": "stream",
     "text": [
      "PCA and and unsupervised model experimantation\n"
     ]
    },
    {
     "data": {
      "image/png": "[encoded data removed]",
      "text/plain": [
       "<Figure size 360x360 with 1 Axes>"
      ]
     },
     "metadata": {
      "needs_background": "light"
     },
     "output_type": "display_data"
    }
   ],
   "source": [
    "print('PCA and and unsupervised model experimantation')\n",
    "\n",
    "from sklearn.decomposition import PCA\n",
    "\n",
    "n_comp = X.shape[1]\n",
    "# n_comp = 30\n",
    "clusters = 5\n",
    "\n",
    "pca = PCA(n_components = n_comp)\n",
    "X_reduced = pca.fit_transform(X.toarray())\n",
    "evr = pca.explained_variance_ratio_\n",
    "\n",
    "plt.figure()\n",
    "plt.title('pca.explained_variance_ratio_')\n",
    "plt.plot(evr)\n",
    "plt.show()\n",
    "\n",
    "\n",
    "'''models tried '''\n",
    "from sklearn.mixture import BayesianGaussianMixture \n",
    "from sklearn import cluster as cl\n",
    "\n",
    "model = BayesianGaussianMixture(n_components = clusters,n_init=10) # O(kmn^2+ kn^3) -> slow;  \n",
    "# model = cl.AffinityPropagation() #did not converge\n",
    "# model = cl.SpectralClustering(n_clusters=15) # number of distinct clusters (2) found smaller than n_clusters (15). Possibly due to duplicate points in X.\n",
    "model = cl.AgglomerativeClustering(n_clusters = clusters)\n",
    "# model = cl.MeanShift()   # Slow\n",
    "\n",
    "\n",
    "df['test_cat'] = model.fit_predict(X_reduced)"
   ]
  },
  {
   "cell_type": "code",
   "execution_count": 14,
   "metadata": {},
   "outputs": [
    {
     "name": "stdout",
     "output_type": "stream",
     "text": [
      "plotting\n"
     ]
    },
    {
     "data": {
      "text/plain": [
       "<matplotlib.axes._subplots.AxesSubplot at 0x7ff5c5ef9a90>"
      ]
     },
     "execution_count": 14,
     "metadata": {},
     "output_type": "execute_result"
    },
    {
     "data": {
      "image/png": "[encoded data removed]",
      "text/plain": [
       "<Figure size 360x360 with 4 Axes>"
      ]
     },
     "metadata": {
      "needs_background": "light"
     },
     "output_type": "display_data"
    }
   ],
   "source": [
    "print(\"plotting\")\n",
    "\n",
    "fig, axes = plt.subplots(nrows=2, ncols=2)\n",
    "\n",
    "df.boxplot('PPU','cat',ax=axes[0,0])\n",
    "df.boxplot('Prof %','cat',ax=axes[0,1])\n",
    "df.boxplot('amt','cat',ax=axes[1,0])"
   ]
  },
  {
   "cell_type": "code",
   "execution_count": 15,
   "metadata": {},
   "outputs": [
    {
     "name": "stdout",
     "output_type": "stream",
     "text": [
      "Stats by category\n",
      "                                                 0                                                  \n",
      "                                  name    amt  Prof %   Profit         PPU  cat  test_cat\n",
      "0              20 Знак нагрудный (№ 9)    5.0  100.00    50.00   10.000000    0         2\n",
      "1     200 Отл. караул. зн  нагруд. № 7    1.0  117.39    27.00   27.000000    0         2\n",
      "19                85 лет ВДВ 1930 мед.    1.0   48.65   180.00  180.000000    0         2\n",
      "20              Multi-банд. dance gold    1.0  103.31   168.96  168.960000    0         2\n",
      "21               Multi-банд. dig. grey    7.0   50.83   816.20  116.600000    0         2\n",
      "...                                ...    ...     ...      ...         ...  ...       ...\n",
      "3143                       Эмблема п/а  256.0   80.28  3420.00   13.359375    0         2\n",
      "3144           Эмблема УФСИН п/а черн.  100.0   99.88  1997.60   19.976000    0         2\n",
      "3145                       Якорь 24 мм    8.0  114.29    64.00    8.000000    0         2\n",
      "3146                       Якорь 34 мм    5.0  100.00    50.00   10.000000    0         2\n",
      "3147                       Якорь 60 мм    1.0  105.88    18.00   18.000000    0         2\n",
      "\n",
      "[1777 rows x 7 columns]\n",
      "                                                 1                                                  \n",
      "                                     name  amt  Prof %  Profit     PPU  cat  test_cat\n",
      "6                    50/170 К-м ВКБО ст/о  4.0  100.00  5600.0  1400.0    1         1\n",
      "95             Бот. 'Спецназ' нат. мех 43  1.0   28.58  1178.2  1178.2    1         3\n",
      "96             Бот. 'Спецназ' нат. мех 44  1.0   59.87  1984.8  1984.8    1         3\n",
      "97             Бот. 'Спецназ' нат. мех 45  1.0   40.72  1678.2  1678.2    1         3\n",
      "98                         Бот. 0339 О 42  1.0   63.14  1490.0  1490.0    1         3\n",
      "...                                   ...  ...     ...     ...     ...  ...       ...\n",
      "2392                       Сп. мешок арм.  1.0  100.00  1000.0  1000.0    1         0\n",
      "2431            Сумка дорож. \"Contour 90\"  1.0   52.49   998.2   998.2    1         2\n",
      "2620  Термобелье фуф. б/ш Active Bamboo S  1.0   87.41   886.2   886.2    1         0\n",
      "2680       Тропик арт.386\" рант. черн. 42  1.0   26.66   841.9   841.9    1         2\n",
      "2701                         Туфли 231 44  1.0   46.89   830.0   830.0    1         0\n",
      "\n",
      "[382 rows x 7 columns]\n",
      "                                                 2                                                  \n",
      "                                               name  amt  Prof %  Profit      PPU  cat  test_cat\n",
      "5                                   48/182 К-м ВКБО  2.0   76.10  2420.0  1210.00    2         1\n",
      "8                                   50/182 К-м ВКБО  1.0  100.00  1400.0  1400.00    2         1\n",
      "11                                  52/182 К-м ВКБО  2.0   95.00  2660.0  1330.00    2         1\n",
      "12                             52/182 К-м ВКБО Кедр  1.0   81.23  1255.0  1255.00    2         1\n",
      "15                                  54/182 К-м ВКБО  1.0  100.00  1400.0  1400.00    2         1\n",
      "...                                             ...  ...     ...     ...      ...  ...       ...\n",
      "3128  Шорты \"Нато\" (смес., хаки) 7.62,52-54/182-188  1.0   62.78   578.5   578.50    2         0\n",
      "3130  Шорты \"Нато\" (смес., хаки) 7.62,56-58/182-188  1.0   62.78   578.5   578.50    2         0\n",
      "3131  Шорты \"Нато\" (смес., хаки) 7.62,60-62/182-188  1.0   72.06   712.0   712.00    2         0\n",
      "3135        Шорты (смес. Атакс, 7.62) 56-58/182-188  2.0   54.33   686.5   343.25    2         0\n",
      "3136        Шорты (смес. Атакс, 7.62) 60-62/182-188  1.0   77.91   525.5   525.50    2         0\n",
      "\n",
      "[338 rows x 7 columns]\n",
      "                                                 3                                                  \n",
      "                                               name  amt  Prof %  Profit     PPU  cat  test_cat\n",
      "2                                   46/176 К-м ВКБО  4.0  100.00  5600.0  1400.0    3         1\n",
      "3                                   48/170 К-м ВКБО  2.0  100.00  2800.0  1400.0    3         1\n",
      "4                                   48/176 К-м ВКБО  3.0  100.00  4200.0  1400.0    3         1\n",
      "7                                   50/176 К-м ВКБО  3.0  100.00  4200.0  1400.0    3         1\n",
      "10                                  52/176 К-м ВКБО  2.0  100.00  2800.0  1400.0    3         1\n",
      "...                                             ...  ...     ...     ...     ...  ...       ...\n",
      "3127  Шорты \"Нато\" (смес., хаки) 7.62,52-54/170+176  2.0   62.78  1157.0   578.5    3         0\n",
      "3129  Шорты \"Нато\" (смес., хаки) 7.62,56-58/170-176  1.0   57.89   533.5   533.5    3         0\n",
      "3132        Шорты (смес. Атакс, 7.62) 44-46/170-176  2.0   72.56   841.0   420.5    3         0\n",
      "3133        Шорты (смес. Атакс, 7.62) 48-50/170-176  3.0   69.78  1233.0   411.0    3         0\n",
      "3134        Шорты (смес. Атакс, 7.62) 52-54/170-176  1.0   64.47   392.0   392.0    3         0\n",
      "\n",
      "[457 rows x 7 columns]\n",
      "                                                 4                                                  \n",
      "                                       name  amt  Prof %  Profit      PPU  cat  test_cat\n",
      "9                           52/170 К-м ВКБО  1.0  100.00  1400.0  1400.00    4         1\n",
      "14                     54/176 К-м ВКБО Кедр  1.0  120.47  1530.0  1530.00    4         1\n",
      "94               Бот. 'Спецназ' нат. мех 42  1.0   74.95  2484.8  2484.80    4         3\n",
      "148                          Бот. 12034  40  2.0   71.99  4060.0  2030.00    4         3\n",
      "149                          Бот. 12034  41  1.0   77.30  2180.0  2180.00    4         3\n",
      "...                                     ...  ...     ...     ...      ...  ...       ...\n",
      "2320                  Рюкз. Raptor 60 олива  2.0   59.71  4598.5  2299.25    4         1\n",
      "2321                  Рюкз. Raptor 80 олива  2.0   52.68  4623.6  2311.80    4         1\n",
      "2328            Рюкз. Sherkhan 110 v.2 зел.  1.0   70.17  2103.0  2103.00    4         1\n",
      "2333              Сап. \"Norfin Husky\" ут.46  1.0  105.16  2357.8  2357.80    4         1\n",
      "2670  Точильный станок Ganzo TouchPro Ultra  1.0   69.66  1642.3  1642.30    4         0\n",
      "\n",
      "[194 rows x 7 columns]\n"
     ]
    }
   ],
   "source": [
    "print('Stats by category')\n",
    "'''TODO:\n",
    "Plotting by category\n",
    "'''\n",
    "# pd.set_option('display.max_rows', df.shape[0]+1)\n",
    "\n",
    "\n",
    "for i in sorted(df['cat'].unique()):\n",
    "    frame = df[df['cat']==i]\n",
    "    print(str(i).center(100))\n",
    "    print(frame)\n",
    "#     frame.drop(columns=['name']).plot(title=i)"
   ]
  },
  {
   "cell_type": "code",
   "execution_count": 9,
   "metadata": {},
   "outputs": [
    {
     "name": "stdout",
     "output_type": "stream",
     "text": [
      "Interactive plot, bokeh\n"
     ]
    },
    {
     "data": {
      "text/html": [
       "<div style=\"display: table;\"><div style=\"display: table-row;\"><div style=\"display: table-cell;\"><b title=\"bokeh.models.renderers.GlyphRenderer\">GlyphRenderer</b>(</div><div style=\"display: table-cell;\">id&nbsp;=&nbsp;'1025', <span id=\"1028\" style=\"cursor: pointer;\">&hellip;)</span></div></div><div class=\"1027\" style=\"display: none;\"><div style=\"display: table-cell;\"></div><div style=\"display: table-cell;\">data_source&nbsp;=&nbsp;ColumnDataSource(id='1001', ...),</div></div><div class=\"1027\" style=\"display: none;\"><div style=\"display: table-cell;\"></div><div style=\"display: table-cell;\">glyph&nbsp;=&nbsp;Scatter(id='1023', ...),</div></div><div class=\"1027\" style=\"display: none;\"><div style=\"display: table-cell;\"></div><div style=\"display: table-cell;\">hover_glyph&nbsp;=&nbsp;None,</div></div><div class=\"1027\" style=\"display: none;\"><div style=\"display: table-cell;\"></div><div style=\"display: table-cell;\">js_event_callbacks&nbsp;=&nbsp;{},</div></div><div class=\"1027\" style=\"display: none;\"><div style=\"display: table-cell;\"></div><div style=\"display: table-cell;\">js_property_callbacks&nbsp;=&nbsp;{},</div></div><div class=\"1027\" style=\"display: none;\"><div style=\"display: table-cell;\"></div><div style=\"display: table-cell;\">level&nbsp;=&nbsp;'glyph',</div></div><div class=\"1027\" style=\"display: none;\"><div style=\"display: table-cell;\"></div><div style=\"display: table-cell;\">muted&nbsp;=&nbsp;False,</div></div><div class=\"1027\" style=\"display: none;\"><div style=\"display: table-cell;\"></div><div style=\"display: table-cell;\">muted_glyph&nbsp;=&nbsp;None,</div></div><div class=\"1027\" style=\"display: none;\"><div style=\"display: table-cell;\"></div><div style=\"display: table-cell;\">name&nbsp;=&nbsp;None,</div></div><div class=\"1027\" style=\"display: none;\"><div style=\"display: table-cell;\"></div><div style=\"display: table-cell;\">nonselection_glyph&nbsp;=&nbsp;Scatter(id='1024', ...),</div></div><div class=\"1027\" style=\"display: none;\"><div style=\"display: table-cell;\"></div><div style=\"display: table-cell;\">selection_glyph&nbsp;=&nbsp;None,</div></div><div class=\"1027\" style=\"display: none;\"><div style=\"display: table-cell;\"></div><div style=\"display: table-cell;\">subscribed_events&nbsp;=&nbsp;[],</div></div><div class=\"1027\" style=\"display: none;\"><div style=\"display: table-cell;\"></div><div style=\"display: table-cell;\">tags&nbsp;=&nbsp;[],</div></div><div class=\"1027\" style=\"display: none;\"><div style=\"display: table-cell;\"></div><div style=\"display: table-cell;\">view&nbsp;=&nbsp;CDSView(id='1026', ...),</div></div><div class=\"1027\" style=\"display: none;\"><div style=\"display: table-cell;\"></div><div style=\"display: table-cell;\">visible&nbsp;=&nbsp;True,</div></div><div class=\"1027\" style=\"display: none;\"><div style=\"display: table-cell;\"></div><div style=\"display: table-cell;\">x_range_name&nbsp;=&nbsp;'default',</div></div><div class=\"1027\" style=\"display: none;\"><div style=\"display: table-cell;\"></div><div style=\"display: table-cell;\">y_range_name&nbsp;=&nbsp;'default')</div></div></div>\n",
       "<script>\n",
       "(function() {\n",
       "  var expanded = false;\n",
       "  var ellipsis = document.getElementById(\"1028\");\n",
       "  ellipsis.addEventListener(\"click\", function() {\n",
       "    var rows = document.getElementsByClassName(\"1027\");\n",
       "    for (var i = 0; i < rows.length; i++) {\n",
       "      var el = rows[i];\n",
       "      el.style.display = expanded ? \"none\" : \"table-row\";\n",
       "    }\n",
       "    ellipsis.innerHTML = expanded ? \"&hellip;)\" : \"&lsaquo;&lsaquo;&lsaquo;\";\n",
       "    expanded = !expanded;\n",
       "  });\n",
       "})();\n",
       "</script>\n"
      ],
      "text/plain": [
       "GlyphRenderer(id='1025', ...)"
      ]
     },
     "execution_count": 9,
     "metadata": {},
     "output_type": "execute_result"
    }
   ],
   "source": [
    "print('Interactive plot, bokeh')\n",
    "\"\"\"\n",
    "NOTES:\n",
    "Fix colors?\n",
    "\n",
    "\"\"\"\n",
    "from bokeh.plotting import figure, show\n",
    "import bokeh.plotting as bpl\n",
    "# import bokeh.models as bmo\n",
    "# from bokeh.palettes import d3\n",
    "from bokeh.models.tools import HoverTool\n",
    "\n",
    "source = bpl.ColumnDataSource(df)\n",
    "hover = HoverTool(tooltips = [('name','@name'),('PPU','@PPU'),('amt','@amt') ])\n",
    "p = figure(width=1800,height = 1000,tools=[hover])\n",
    "\n",
    "# use whatever palette you want...\n",
    "# palette = d3['Category10'][len(df['cat'].unique())]\n",
    "# color_map = bmo.CategoricalColorMapper(factors = df['cat'].unique().astype('U'),palette=palette)\n",
    "\n",
    "# create figure and plot\n",
    "p.scatter('cat','PPU',\n",
    "#           color={'field': 'cat', 'transform': color_map},\n",
    "          source=source)\n",
    "\n",
    "# bpl.show(p) "
   ]
  }
 ],
 "metadata": {
  "kernelspec": {
   "display_name": "Python 3",
   "language": "python",
   "name": "python3"
  },
  "language_info": {
   "codemirror_mode": {
    "name": "ipython",
    "version": 3
   },
   "file_extension": ".py",
   "mimetype": "text/x-python",
   "name": "python",
   "nbconvert_exporter": "python",
   "pygments_lexer": "ipython3",
   "version": "3.7.6"
  }
 },
 "nbformat": 4,
 "nbformat_minor": 4
}
