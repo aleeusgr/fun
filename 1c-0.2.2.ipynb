{
 "cells": [
  {
   "cell_type": "markdown",
   "metadata": {},
   "source": [
    "### TODO:\n",
    "1. Find optimal number of clusters:  \n",
    "Entoropy measure from 6-034??  \n",
    "Try increasing performance using semi-supervised techniques.\n",
    "\n",
    "2. Try reducing dimenionality: remove unnecessary words. \n",
    "3. Build model into a pipeline, integrate CV search for optimal results??\n",
    "4. Use ensemble learning??"
   ]
  },
  {
   "cell_type": "code",
   "execution_count": 1,
   "metadata": {
    "jupyter": {
     "source_hidden": true
    }
   },
   "outputs": [
    {
     "name": "stdout",
     "output_type": "stream",
     "text": [
      "imports and options\n"
     ]
    }
   ],
   "source": [
    "print('imports and options')\n",
    "import pandas as pd\n",
    "import datetime as dt\n",
    "import numpy as np\n",
    "import matplotlib as mpl\n",
    "import matplotlib.pyplot as plt\n",
    "# pd.set_option('display.max_colwidth',20) #change this to increse width cutoff limit\n",
    "pd.set_option('display.max_columns', 500)\n",
    "pd.set_option('display.max_rows', 20)\n",
    "pd.set_option('display.width', 1000)\n",
    "\n",
    "plt.rcParams['figure.figsize'] = [5,5]#[20, 10]\n",
    "# plt.rcParams['axes.facecolor'] = 'black'"
   ]
  },
  {
   "cell_type": "code",
   "execution_count": 2,
   "metadata": {
    "jupyter": {
     "source_hidden": true
    }
   },
   "outputs": [
    {
     "name": "stdout",
     "output_type": "stream",
     "text": [
      "Load file\n"
     ]
    }
   ],
   "source": [
    "print('Load file')\n",
    "by_good = pd.read_excel('by_name.xls',skiprows=list(range(8)),header = 0,na_values=[' ']).fillna(0)\n",
    "by_good = by_good.drop(columns = ['Unnamed: 1','Unnamed: 2'])\n",
    "by_good = by_good.rename(columns={'Unnamed: 0':'name','единица':'amt',\n",
    "                                  'Сумма':'in','Сумма.1':'Out','Процент':'Prof %','Сумма.2':'Profit'})"
   ]
  },
  {
   "cell_type": "code",
   "execution_count": 3,
   "metadata": {
    "jupyter": {
     "source_hidden": true
    }
   },
   "outputs": [
    {
     "name": "stdout",
     "output_type": "stream",
     "text": [
      "Deal with anomalies\n"
     ]
    }
   ],
   "source": [
    "print('Deal with anomalies')\n",
    "drop = [0,3261] \n",
    "# # Profit <=0\n",
    "drop += [769, 1082, 113, 332, 333, 1531, 2133, 2401, 799, 1804, 1519, 778, 1338, 2391, 1518, 1568, 2567, 707, 787, 385, 1344, 2665,\n",
    "         454, 2717, 2755, 2543, 3236, 85, 2561, 132, 2803, 3254, 1828, 97, 337, 1609, 2552, 2500, 3211, 1984, 84, 1968, 2790, 875, \n",
    "         1021, 2489, 1469, 1900, 2437, 2503, 2856, 2431, 2537, 2737, 2950, 2928, 1118, 2559, 719, 33, 2930, 2929, 2323, 26, 2013, \n",
    "         1965, 1812, 54, 68, 2859, 3227, 1450, 80, 703, 602, 1253, 1437, 771, 2353, 53, 1898, 3248, 2130, 953, 768, 1705, 143, 1934, \n",
    "         1292, 206, 1107, 877, 293, 1037, 977]\n",
    "# Unreal profit\n",
    "drop+= [3170, 821, 90, 730, 1682, 1538, 1539, 1541, 2122, 62, 2299, 694, 819, 4, 1, 2,1485]\n",
    "\n",
    "by_good.loc[sorted(drop),:]\n",
    "\n",
    "df = by_good.drop(drop)\n",
    "df = df.drop(columns = ['in','Out'])\n",
    "df = df.reset_index(drop=True)\n"
   ]
  },
  {
   "cell_type": "code",
   "execution_count": 4,
   "metadata": {},
   "outputs": [
    {
     "name": "stdout",
     "output_type": "stream",
     "text": [
      "Feature extraction and pipeline\n"
     ]
    }
   ],
   "source": [
    "print('Feature extraction and pipeline')\n",
    "'''\n",
    "Try differents scaling approach\n",
    "CountVectorizer parameters??\n",
    "Stop words??\n",
    "feature selection: nums?, \n",
    "'''\n",
    "# profit per unit\n",
    "df['PPU'] = df['Profit']/df['amt'] \n",
    "\n",
    "# pipeline\n",
    "from sklearn.compose import ColumnTransformer\n",
    "\n",
    "from sklearn.feature_extraction.text import CountVectorizer\n",
    "\n",
    "from sklearn.preprocessing import StandardScaler\n",
    "from sklearn.preprocessing import RobustScaler\n",
    "\n",
    "\n",
    "nums = ['amt','Profit','PPU']\n",
    "nums = ['amt','PPU']\n",
    "\n",
    "column = ColumnTransformer([\n",
    "    ('freq_terms',CountVectorizer(),'name'),\n",
    "#     ('std',StandardScaler(),nums),\n",
    "#     ('robust',RobustScaler(),nums),\n",
    "\n",
    "])\n",
    "\n",
    "# Features: \n",
    "X = column.fit_transform(df)"
   ]
  },
  {
   "cell_type": "code",
   "execution_count": 5,
   "metadata": {},
   "outputs": [
    {
     "name": "stdout",
     "output_type": "stream",
     "text": [
      "PCA and and unsupervised model experimantation\n"
     ]
    },
    {
     "data": {
      "image/png": "[encoded data removed]",
      "text/plain": [
       "<Figure size 360x360 with 1 Axes>"
      ]
     },
     "metadata": {
      "needs_background": "light"
     },
     "output_type": "display_data"
    }
   ],
   "source": [
    "print('PCA and and unsupervised model experimantation')\n",
    "\n",
    "from sklearn.decomposition import PCA\n",
    "\n",
    "pca = PCA(n_components = 300)\n",
    "X_reduced = pca.fit_transform(X.toarray())\n",
    "evr = pca.explained_variance_ratio_\n",
    "\n",
    "plt.figure()\n",
    "plt.title('pca.explained_variance_ratio_')\n",
    "plt.plot(evr)\n",
    "plt.show()\n",
    "\n",
    "\n",
    "'''models tried'''\n",
    "from sklearn.mixture import BayesianGaussianMixture \n",
    "from sklearn import cluster as cl\n",
    "\n",
    "model = BayesianGaussianMixture(n_components=5,n_init=10) # O(kmn^2+ kn^3) -> slow;  \n",
    "# model = cl.AffinityPropagation() #did not converge\n",
    "# model = cl.SpectralClustering(n_clusters=15) # number of distinct clusters (2) found smaller than n_clusters (15). Possibly due to duplicate points in X.\n",
    "\n",
    "df['test_cat'] = model.fit_predict(X_reduced)"
   ]
  },
  {
   "cell_type": "code",
   "execution_count": 8,
   "metadata": {},
   "outputs": [
    {
     "name": "stdout",
     "output_type": "stream",
     "text": [
      "K-means\n"
     ]
    },
    {
     "data": {
      "text/html": [
       "<div>\n",
       "<style scoped>\n",
       "    .dataframe tbody tr th:only-of-type {\n",
       "        vertical-align: middle;\n",
       "    }\n",
       "\n",
       "    .dataframe tbody tr th {\n",
       "        vertical-align: top;\n",
       "    }\n",
       "\n",
       "    .dataframe thead th {\n",
       "        text-align: right;\n",
       "    }\n",
       "</style>\n",
       "<table border=\"1\" class=\"dataframe\">\n",
       "  <thead>\n",
       "    <tr style=\"text-align: right;\">\n",
       "      <th></th>\n",
       "      <th>name</th>\n",
       "      <th>amt</th>\n",
       "      <th>Prof %</th>\n",
       "      <th>Profit</th>\n",
       "      <th>PPU</th>\n",
       "      <th>test_cat</th>\n",
       "      <th>cat</th>\n",
       "    </tr>\n",
       "  </thead>\n",
       "  <tbody>\n",
       "    <tr>\n",
       "      <th>0</th>\n",
       "      <td>20 Знак нагрудный (№ 9)</td>\n",
       "      <td>5.0</td>\n",
       "      <td>100.00</td>\n",
       "      <td>50.0</td>\n",
       "      <td>10.0</td>\n",
       "      <td>2</td>\n",
       "      <td>0</td>\n",
       "    </tr>\n",
       "    <tr>\n",
       "      <th>1</th>\n",
       "      <td>200 Отл. караул. зн  нагруд. № 7</td>\n",
       "      <td>1.0</td>\n",
       "      <td>117.39</td>\n",
       "      <td>27.0</td>\n",
       "      <td>27.0</td>\n",
       "      <td>1</td>\n",
       "      <td>0</td>\n",
       "    </tr>\n",
       "    <tr>\n",
       "      <th>2</th>\n",
       "      <td>46/176 К-м ВКБО</td>\n",
       "      <td>4.0</td>\n",
       "      <td>100.00</td>\n",
       "      <td>5600.0</td>\n",
       "      <td>1400.0</td>\n",
       "      <td>4</td>\n",
       "      <td>2</td>\n",
       "    </tr>\n",
       "    <tr>\n",
       "      <th>3</th>\n",
       "      <td>48/170 К-м ВКБО</td>\n",
       "      <td>2.0</td>\n",
       "      <td>100.00</td>\n",
       "      <td>2800.0</td>\n",
       "      <td>1400.0</td>\n",
       "      <td>4</td>\n",
       "      <td>2</td>\n",
       "    </tr>\n",
       "    <tr>\n",
       "      <th>4</th>\n",
       "      <td>48/176 К-м ВКБО</td>\n",
       "      <td>3.0</td>\n",
       "      <td>100.00</td>\n",
       "      <td>4200.0</td>\n",
       "      <td>1400.0</td>\n",
       "      <td>4</td>\n",
       "      <td>2</td>\n",
       "    </tr>\n",
       "  </tbody>\n",
       "</table>\n",
       "</div>"
      ],
      "text/plain": [
       "                               name  amt  Prof %  Profit     PPU  test_cat  cat\n",
       "0           20 Знак нагрудный (№ 9)  5.0  100.00    50.0    10.0         2    0\n",
       "1  200 Отл. караул. зн  нагруд. № 7  1.0  117.39    27.0    27.0         1    0\n",
       "2                   46/176 К-м ВКБО  4.0  100.00  5600.0  1400.0         4    2\n",
       "3                   48/170 К-м ВКБО  2.0  100.00  2800.0  1400.0         4    2\n",
       "4                   48/176 К-м ВКБО  3.0  100.00  4200.0  1400.0         4    2"
      ]
     },
     "execution_count": 8,
     "metadata": {},
     "output_type": "execute_result"
    }
   ],
   "source": [
    "print('K-means')\n",
    "'''\n",
    "try:\n",
    "agglomerative,\n",
    "affinity-prop\n",
    "spectral\n",
    "mean-shift\n",
    "\n",
    "'''\n",
    "\n",
    "from sklearn.cluster import KMeans \n",
    "\n",
    "model = KMeans(n_clusters=5,random_state=8934) # poor accuracy, need to find optimal number of clusters\n",
    "\n",
    "\n",
    "model.fit_transform(X)\n",
    "df['cat'] = model.labels_\n",
    "df.head()"
   ]
  },
  {
   "cell_type": "code",
   "execution_count": 9,
   "metadata": {},
   "outputs": [
    {
     "name": "stdout",
     "output_type": "stream",
     "text": [
      "plotting\n"
     ]
    },
    {
     "data": {
      "text/plain": [
       "<matplotlib.axes._subplots.AxesSubplot at 0x7f6a31892090>"
      ]
     },
     "execution_count": 9,
     "metadata": {},
     "output_type": "execute_result"
    },
    {
     "data": {
      "image/png": "[encoded data removed]",
      "text/plain": [
       "<Figure size 360x360 with 1 Axes>"
      ]
     },
     "metadata": {
      "needs_background": "light"
     },
     "output_type": "display_data"
    },
    {
     "data": {
      "image/png": "[encoded data removed]",
      "text/plain": [
       "<Figure size 360x360 with 1 Axes>"
      ]
     },
     "metadata": {
      "needs_background": "light"
     },
     "output_type": "display_data"
    }
   ],
   "source": [
    "print(\"plotting\")\n",
    "'''\n",
    "Use figures to plot in a row\n",
    "'''\n",
    "\n",
    "df.boxplot('PPU','cat',)\n",
    "\n",
    "df.boxplot('Prof %','cat')\n",
    "\n",
    "# df.boxplot('amt','cat')"
   ]
  },
  {
   "cell_type": "code",
   "execution_count": 10,
   "metadata": {},
   "outputs": [
    {
     "name": "stdout",
     "output_type": "stream",
     "text": [
      "Stats by category\n",
      "                                                 0                                                  \n",
      "                                  name    amt  Prof %  Profit          PPU  test_cat  cat\n",
      "0              20 Знак нагрудный (№ 9)    5.0  100.00    50.0    10.000000         2    0\n",
      "1     200 Отл. караул. зн  нагруд. № 7    1.0  117.39    27.0    27.000000         1    0\n",
      "6                 50/170 К-м ВКБО ст/о    4.0  100.00  5600.0  1400.000000         2    0\n",
      "8                      50/182 К-м ВКБО    1.0  100.00  1400.0  1400.000000         4    0\n",
      "9                      52/170 К-м ВКБО    1.0  100.00  1400.0  1400.000000         4    0\n",
      "...                                ...    ...     ...     ...          ...       ...  ...\n",
      "3143                       Эмблема п/а  256.0   80.28  3420.0    13.359375         2    0\n",
      "3144           Эмблема УФСИН п/а черн.  100.0   99.88  1997.6    19.976000         2    0\n",
      "3145                       Якорь 24 мм    8.0  114.29    64.0     8.000000         2    0\n",
      "3146                       Якорь 34 мм    5.0  100.00    50.0    10.000000         2    0\n",
      "3147                       Якорь 60 мм    1.0  105.88    18.0    18.000000         2    0\n",
      "\n",
      "[1928 rows x 7 columns]\n",
      "                                                 1                                                  \n",
      "                                       name  amt  Prof %  Profit      PPU  test_cat  cat\n",
      "1975      Погоны выш л-т пол. на руб. карт.  4.0   50.00   800.0  200.000         3    1\n",
      "2129          Руб. Охр. д/р на поясе 39/176  4.0   70.57  1552.5  388.125         3    1\n",
      "2130          Руб. Охр. д/р на поясе 40/176  2.0   66.89   742.5  371.250         3    1\n",
      "2131          Руб. Охр. д/р на поясе 41/176  4.0   31.88   677.5  169.375         3    1\n",
      "2132          Руб. Охр. д/р на поясе 43/176  1.0   76.96   392.5  392.500         3    1\n",
      "...                                     ...  ...     ...     ...      ...       ...  ...\n",
      "2249  Руб. форм.-М св-голуб. к/р 45/170-176  1.0   77.45   567.4  567.400         3    1\n",
      "2250  Руб. форм.-М св-голуб. к/р 46/170-176  2.0   40.54   750.0  375.000         3    1\n",
      "2251  Руб. форм.-М св-голуб. к/р 46/182-188  1.0   40.54   375.0  375.000         3    1\n",
      "2252  Руб. форм.-М св-голуб. к/р 47/170-176  1.0   84.92   597.0  597.000         3    1\n",
      "2253  Руб. форм.-М св-голуб. к/р 47/182-188  3.0   40.54  1125.0  375.000         3    1\n",
      "\n",
      "[125 rows x 7 columns]\n",
      "                                                 2                                                  \n",
      "                                               name  amt  Prof %  Profit     PPU  test_cat  cat\n",
      "2                                   46/176 К-м ВКБО  4.0  100.00  5600.0  1400.0         4    2\n",
      "3                                   48/170 К-м ВКБО  2.0  100.00  2800.0  1400.0         4    2\n",
      "4                                   48/176 К-м ВКБО  3.0  100.00  4200.0  1400.0         4    2\n",
      "7                                   50/176 К-м ВКБО  3.0  100.00  4200.0  1400.0         4    2\n",
      "10                                  52/176 К-м ВКБО  2.0  100.00  2800.0  1400.0         4    2\n",
      "...                                             ...  ...     ...     ...     ...       ...  ...\n",
      "3127  Шорты \"Нато\" (смес., хаки) 7.62,52-54/170+176  2.0   62.78  1157.0   578.5         4    2\n",
      "3129  Шорты \"Нато\" (смес., хаки) 7.62,56-58/170-176  1.0   57.89   533.5   533.5         4    2\n",
      "3132        Шорты (смес. Атакс, 7.62) 44-46/170-176  2.0   72.56   841.0   420.5         4    2\n",
      "3133        Шорты (смес. Атакс, 7.62) 48-50/170-176  3.0   69.78  1233.0   411.0         4    2\n",
      "3134        Шорты (смес. Атакс, 7.62) 52-54/170-176  1.0   64.47   392.0   392.0         4    2\n",
      "\n",
      "[470 rows x 7 columns]\n",
      "                                                 3                                                  \n",
      "                                               name  amt  Prof %  Profit      PPU  test_cat  cat\n",
      "5                                   48/182 К-м ВКБО  2.0   76.10  2420.0  1210.00         4    3\n",
      "11                                  52/182 К-м ВКБО  2.0   95.00  2660.0  1330.00         4    3\n",
      "12                             52/182 К-м ВКБО Кедр  1.0   81.23  1255.0  1255.00         4    3\n",
      "15                                  54/182 К-м ВКБО  1.0  100.00  1400.0  1400.00         4    3\n",
      "16                            54/182 К-м цифра ст/о  1.0  100.00  1050.0  1050.00         2    3\n",
      "...                                             ...  ...     ...     ...      ...       ...  ...\n",
      "3128  Шорты \"Нато\" (смес., хаки) 7.62,52-54/182-188  1.0   62.78   578.5   578.50         4    3\n",
      "3130  Шорты \"Нато\" (смес., хаки) 7.62,56-58/182-188  1.0   62.78   578.5   578.50         4    3\n",
      "3131  Шорты \"Нато\" (смес., хаки) 7.62,60-62/182-188  1.0   72.06   712.0   712.00         4    3\n",
      "3135        Шорты (смес. Атакс, 7.62) 56-58/182-188  2.0   54.33   686.5   343.25         4    3\n",
      "3136        Шорты (смес. Атакс, 7.62) 60-62/182-188  1.0   77.91   525.5   525.50         4    3\n",
      "\n",
      "[350 rows x 7 columns]\n",
      "                                                 4                                                  \n",
      "                           name  amt  Prof %   Profit      PPU  test_cat  cat\n",
      "94   Бот. 'Спецназ' нат. мех 42  1.0   74.95  2484.80  2484.80         2    4\n",
      "95   Бот. 'Спецназ' нат. мех 43  1.0   28.58  1178.20  1178.20         2    4\n",
      "96   Бот. 'Спецназ' нат. мех 44  1.0   59.87  1984.80  1984.80         2    4\n",
      "97   Бот. 'Спецназ' нат. мех 45  1.0   40.72  1678.20  1678.20         2    4\n",
      "98               Бот. 0339 О 42  1.0   63.14  1490.00  1490.00         2    4\n",
      "..                          ...  ...     ...      ...      ...       ...  ...\n",
      "364      Бот. М 77 (Striker) 45  1.0   41.57   969.00   969.00         2    4\n",
      "365      Бот. М 77 (Striker) 46  1.0   41.57   969.00   969.00         2    4\n",
      "366      Бот. трек. GriSport 42  1.0   42.15  2075.77  2075.77         2    4\n",
      "367      Бот. Фарадей летние 45  1.0  100.00  2000.00  2000.00         2    4\n",
      "368               Бот.М 3521 37  1.0   67.10  1285.00  1285.00         2    4\n",
      "\n",
      "[275 rows x 7 columns]\n"
     ]
    }
   ],
   "source": [
    "print('Stats by category')\n",
    "'''TODO:\n",
    "Plotting by category\n",
    "'''\n",
    "# pd.set_option('display.max_rows', df.shape[0]+1)\n",
    "\n",
    "\n",
    "for i in sorted(df['cat'].unique()):\n",
    "    frame = df[df['cat']==i]\n",
    "    print(str(i).center(100))\n",
    "    print(frame)\n",
    "#     frame.drop(columns=['name']).plot(title=i)"
   ]
  },
  {
   "cell_type": "code",
   "execution_count": null,
   "metadata": {},
   "outputs": [],
   "source": [
    "df[df['cat']==0]"
   ]
  },
  {
   "cell_type": "code",
   "execution_count": null,
   "metadata": {},
   "outputs": [],
   "source": [
    "print('Interactive plot, bokeh')\n",
    "\"\"\"\n",
    "NOTES:\n",
    "Colors don't work!!\n",
    "\n",
    "\"\"\"\n",
    "from bokeh.plotting import figure, show\n",
    "import bokeh.plotting as bpl\n",
    "import bokeh.models as bmo\n",
    "from bokeh.palettes import d3\n",
    "from bokeh.models.tools import HoverTool\n",
    "\n",
    "source = bpl.ColumnDataSource(df)\n",
    "hover = HoverTool(tooltips = [('name','@name'),('PPU','@PPU'),('amt','@amt') ])\n",
    "p = figure(width=1800,height = 1000,tools=[hover])\n",
    "\n",
    "# use whatever palette you want...\n",
    "# palette = d3['Category10'][len(df['cat'].unique())]\n",
    "# color_map = bmo.CategoricalColorMapper(factors = df['cat'].unique().astype('U'),palette=palette)\n",
    "\n",
    "# create figure and plot\n",
    "p.scatter('cat','PPU',\n",
    "#           color={'field': 'cat', 'transform': color_map},\n",
    "          source=source)\n",
    "\n",
    "# bpl.show(p) "
   ]
  },
  {
   "cell_type": "code",
   "execution_count": null,
   "metadata": {},
   "outputs": [],
   "source": []
  }
 ],
 "metadata": {
  "kernelspec": {
   "display_name": "Python 3",
   "language": "python",
   "name": "python3"
  },
  "language_info": {
   "codemirror_mode": {
    "name": "ipython",
    "version": 3
   },
   "file_extension": ".py",
   "mimetype": "text/x-python",
   "name": "python",
   "nbconvert_exporter": "python",
   "pygments_lexer": "ipython3",
   "version": "3.7.6"
  }
 },
 "nbformat": 4,
 "nbformat_minor": 4
}
