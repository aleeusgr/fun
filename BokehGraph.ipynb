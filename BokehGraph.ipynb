{
 "cells": [
  {
   "cell_type": "code",
   "execution_count": 1,
   "metadata": {},
   "outputs": [],
   "source": [
    "import math\n",
    "from bokeh.plotting import figure\n",
    "from bokeh.models import GraphRenderer, Oval\n",
    "from bokeh.palettes import Spectral8\n",
    "\n",
    "N = 8\n",
    "node_indices = list(range(N))\n",
    "\n",
    "plot = figure(title=\"Graph Layout Demonstration\", x_range=(-1.1,1.1), y_range=(-1.1,1.1),\n",
    "              tools=\"\", toolbar_location=None)\n",
    "\n",
    "graph = GraphRenderer()\n",
    "\n",
    "graph.node_renderer.glyph = Oval(height=0.1, width=0.2, fill_color=\"fill_color\")\n",
    "graph.node_renderer.data_source.data = dict(\n",
    "    index=node_indices,\n",
    "    fill_color=Spectral8)\n",
    "\n",
    "graph.edge_renderer.data_source.data = dict(\n",
    "    start=[0]*N,\n",
    "    end=node_indices)\n"
   ]
  },
  {
   "cell_type": "code",
   "execution_count": 4,
   "metadata": {},
   "outputs": [
    {
     "data": {
      "text/html": [
       "\n",
       "\n",
       "\n",
       "\n",
       "\n",
       "\n",
       "  <div class=\"bk-root\" id=\"22efe401-6125-424d-8a26-cfa68fac99dd\" data-root-id=\"1360\"></div>\n"
      ]
     },
     "metadata": {},
     "output_type": "display_data"
    },
    {
     "data": {
      "application/javascript": [
       "(function(root) {\n",
       "  function embed_document(root) {\n",
       "    \n",
       "  var docs_json = {\"8ff29f73-9d9e-48d1-a062-d0fdc124036f\":{\"roots\":{\"references\":[{\"attributes\":{\"below\":[{\"id\":\"1371\",\"type\":\"LinearAxis\"}],\"center\":[{\"id\":\"1375\",\"type\":\"Grid\"},{\"id\":\"1380\",\"type\":\"Grid\"}],\"left\":[{\"id\":\"1376\",\"type\":\"LinearAxis\"}],\"renderers\":[{\"id\":\"1382\",\"type\":\"GraphRenderer\"}],\"title\":{\"id\":\"1361\",\"type\":\"Title\"},\"toolbar\":{\"id\":\"1381\",\"type\":\"Toolbar\"},\"toolbar_location\":null,\"x_range\":{\"id\":\"1363\",\"type\":\"Range1d\"},\"x_scale\":{\"id\":\"1367\",\"type\":\"LinearScale\"},\"y_range\":{\"id\":\"1365\",\"type\":\"Range1d\"},\"y_scale\":{\"id\":\"1369\",\"type\":\"LinearScale\"}},\"id\":\"1360\",\"subtype\":\"Figure\",\"type\":\"Plot\"},{\"attributes\":{\"callback\":null,\"data\":{\"color\":[\"#3288bd\",\"#66c2a5\",\"#abdda4\",\"#e6f598\",\"#fee08b\",\"#fdae61\",\"#f46d43\",\"#d53e4f\"],\"index\":[0,1,2,3,4,5,6,7]},\"selected\":{\"id\":\"1418\",\"type\":\"Selection\"},\"selection_policy\":{\"id\":\"1419\",\"type\":\"UnionRenderers\"}},\"id\":\"1384\",\"type\":\"ColumnDataSource\"},{\"attributes\":{},\"id\":\"1418\",\"type\":\"Selection\"},{\"attributes\":{\"text\":\"Graph Layout Demonstration\"},\"id\":\"1361\",\"type\":\"Title\"},{\"attributes\":{},\"id\":\"1396\",\"type\":\"MultiLine\"},{\"attributes\":{\"data_source\":{\"id\":\"1384\",\"type\":\"ColumnDataSource\"},\"glyph\":{\"id\":\"1391\",\"type\":\"Oval\"},\"hover_glyph\":null,\"muted_glyph\":null,\"view\":{\"id\":\"1386\",\"type\":\"CDSView\"}},\"id\":\"1385\",\"type\":\"GlyphRenderer\"},{\"attributes\":{\"fill_color\":{\"field\":\"color\"},\"height\":{\"units\":\"data\",\"value\":0.1},\"width\":{\"units\":\"data\",\"value\":0.2}},\"id\":\"1391\",\"type\":\"Oval\"},{\"attributes\":{\"callback\":null,\"end\":1.1,\"start\":-1.1},\"id\":\"1363\",\"type\":\"Range1d\"},{\"attributes\":{},\"id\":\"1367\",\"type\":\"LinearScale\"},{\"attributes\":{\"source\":{\"id\":\"1384\",\"type\":\"ColumnDataSource\"}},\"id\":\"1386\",\"type\":\"CDSView\"},{\"attributes\":{},\"id\":\"1406\",\"type\":\"NodesOnly\"},{\"attributes\":{\"callback\":null,\"end\":1.1,\"start\":-1.1},\"id\":\"1365\",\"type\":\"Range1d\"},{\"attributes\":{},\"id\":\"1417\",\"type\":\"UnionRenderers\"},{\"attributes\":{\"data_source\":{\"id\":\"1397\",\"type\":\"ColumnDataSource\"},\"glyph\":{\"id\":\"1396\",\"type\":\"MultiLine\"},\"hover_glyph\":null,\"muted_glyph\":null,\"view\":{\"id\":\"1399\",\"type\":\"CDSView\"}},\"id\":\"1398\",\"type\":\"GlyphRenderer\"},{\"attributes\":{},\"id\":\"1369\",\"type\":\"LinearScale\"},{\"attributes\":{\"formatter\":{\"id\":\"1404\",\"type\":\"BasicTickFormatter\"},\"ticker\":{\"id\":\"1372\",\"type\":\"BasicTicker\"}},\"id\":\"1371\",\"type\":\"LinearAxis\"},{\"attributes\":{},\"id\":\"1404\",\"type\":\"BasicTickFormatter\"},{\"attributes\":{},\"id\":\"1377\",\"type\":\"BasicTicker\"},{\"attributes\":{},\"id\":\"1372\",\"type\":\"BasicTicker\"},{\"attributes\":{\"callback\":null,\"data\":{\"end\":[0,1,2,3,4,5,6,7],\"start\":[0,0,0,0,0,0,0,0]},\"selected\":{\"id\":\"1416\",\"type\":\"Selection\"},\"selection_policy\":{\"id\":\"1417\",\"type\":\"UnionRenderers\"}},\"id\":\"1397\",\"type\":\"ColumnDataSource\"},{\"attributes\":{},\"id\":\"1402\",\"type\":\"BasicTickFormatter\"},{\"attributes\":{\"source\":{\"id\":\"1397\",\"type\":\"ColumnDataSource\"}},\"id\":\"1399\",\"type\":\"CDSView\"},{\"attributes\":{\"ticker\":{\"id\":\"1372\",\"type\":\"BasicTicker\"}},\"id\":\"1375\",\"type\":\"Grid\"},{\"attributes\":{},\"id\":\"1416\",\"type\":\"Selection\"},{\"attributes\":{\"dimension\":1,\"ticker\":{\"id\":\"1377\",\"type\":\"BasicTicker\"}},\"id\":\"1380\",\"type\":\"Grid\"},{\"attributes\":{\"graph_layout\":{\"0\":[1.0,0.0],\"1\":[0.7071067811865476,0.7071067811865475],\"2\":[6.123233995736766e-17,1.0],\"3\":[-0.7071067811865475,0.7071067811865476],\"4\":[-1.0,1.2246467991473532e-16],\"5\":[-0.7071067811865477,-0.7071067811865475],\"6\":[-1.8369701987210297e-16,-1.0],\"7\":[0.7071067811865474,-0.7071067811865477]}},\"id\":\"1400\",\"type\":\"StaticLayoutProvider\"},{\"attributes\":{},\"id\":\"1419\",\"type\":\"UnionRenderers\"},{\"attributes\":{\"formatter\":{\"id\":\"1402\",\"type\":\"BasicTickFormatter\"},\"ticker\":{\"id\":\"1377\",\"type\":\"BasicTicker\"}},\"id\":\"1376\",\"type\":\"LinearAxis\"},{\"attributes\":{},\"id\":\"1415\",\"type\":\"NodesOnly\"},{\"attributes\":{\"active_drag\":\"auto\",\"active_inspect\":\"auto\",\"active_multi\":null,\"active_scroll\":\"auto\",\"active_tap\":\"auto\"},\"id\":\"1381\",\"type\":\"Toolbar\"},{\"attributes\":{\"edge_renderer\":{\"id\":\"1398\",\"type\":\"GlyphRenderer\"},\"inspection_policy\":{\"id\":\"1415\",\"type\":\"NodesOnly\"},\"layout_provider\":{\"id\":\"1400\",\"type\":\"StaticLayoutProvider\"},\"node_renderer\":{\"id\":\"1385\",\"type\":\"GlyphRenderer\"},\"selection_policy\":{\"id\":\"1406\",\"type\":\"NodesOnly\"}},\"id\":\"1382\",\"type\":\"GraphRenderer\"}],\"root_ids\":[\"1360\"]},\"title\":\"Bokeh Application\",\"version\":\"1.4.0\"}};\n",
       "  var render_items = [{\"docid\":\"8ff29f73-9d9e-48d1-a062-d0fdc124036f\",\"roots\":{\"1360\":\"22efe401-6125-424d-8a26-cfa68fac99dd\"}}];\n",
       "  root.Bokeh.embed.embed_items_notebook(docs_json, render_items);\n",
       "\n",
       "  }\n",
       "  if (root.Bokeh !== undefined) {\n",
       "    embed_document(root);\n",
       "  } else {\n",
       "    var attempts = 0;\n",
       "    var timer = setInterval(function(root) {\n",
       "      if (root.Bokeh !== undefined) {\n",
       "        clearInterval(timer);\n",
       "        embed_document(root);\n",
       "      } else {\n",
       "        attempts++;\n",
       "        if (attempts > 100) {\n",
       "          clearInterval(timer);\n",
       "          console.log(\"Bokeh: ERROR: Unable to run BokehJS code because BokehJS library is missing\");\n",
       "        }\n",
       "      }\n",
       "    }, 10, root)\n",
       "  }\n",
       "})(window);"
      ],
      "application/vnd.bokehjs_exec.v0+json": ""
     },
     "metadata": {
      "application/vnd.bokehjs_exec.v0+json": {
       "id": "1360"
      }
     },
     "output_type": "display_data"
    }
   ],
   "source": [
    "import math\n",
    "\n",
    "from bokeh.io import output_file, show\n",
    "from bokeh.models import GraphRenderer, Oval, StaticLayoutProvider\n",
    "from bokeh.palettes import Spectral8\n",
    "from bokeh.plotting import figure\n",
    "\n",
    "N = 8\n",
    "node_indices = list(range(N))\n",
    "\n",
    "plot = figure(title='Graph Layout Demonstration', x_range=(-1.1,1.1), y_range=(-1.1,1.1),\n",
    "              tools='', toolbar_location=None)\n",
    "\n",
    "graph = GraphRenderer()\n",
    "\n",
    "graph.node_renderer.data_source.add(node_indices, 'index')\n",
    "graph.node_renderer.data_source.add(Spectral8, 'color')\n",
    "graph.node_renderer.glyph = Oval(height=0.1, width=0.2, fill_color='color')\n",
    "\n",
    "graph.edge_renderer.data_source.data = dict(\n",
    "    start=[0]*N,\n",
    "    end=node_indices)\n",
    "\n",
    "### start of layout code\n",
    "circ = [i*2*math.pi/8 for i in node_indices]\n",
    "x = [math.cos(i) for i in circ]\n",
    "y = [math.sin(i) for i in circ]\n",
    "\n",
    "graph_layout = dict(zip(node_indices, zip(x, y)))\n",
    "graph.layout_provider = StaticLayoutProvider(graph_layout=graph_layout)\n",
    "\n",
    "plot.renderers.append(graph)\n",
    "\n",
    "output_file('graph.html')\n",
    "show(plot)"
   ]
  },
  {
   "cell_type": "code",
   "execution_count": null,
   "metadata": {},
   "outputs": [],
   "source": []
  }
 ],
 "metadata": {
  "kernelspec": {
   "display_name": "Python 3",
   "language": "python",
   "name": "python3"
  },
  "language_info": {
   "codemirror_mode": {
    "name": "ipython",
    "version": 3
   },
   "file_extension": ".py",
   "mimetype": "text/x-python",
   "name": "python",
   "nbconvert_exporter": "python",
   "pygments_lexer": "ipython3",
   "version": "3.7.6"
  }
 },
 "nbformat": 4,
 "nbformat_minor": 4
}
