{
 "cells": [
  {
   "cell_type": "code",
   "execution_count": 1,
   "metadata": {},
   "outputs": [],
   "source": [
    "import numpy as np\n",
    "from numba import jit\n",
    "import matplotlib.pyplot as plt"
   ]
  },
  {
   "cell_type": "code",
   "execution_count": 12,
   "metadata": {},
   "outputs": [],
   "source": [
    "# Image width and height; parameters for the plot\n",
    "im_width, im_height = 512,512\n",
    "c = complex(0.3467, 0)\n",
    "zabs_max = 10\n",
    "nit_max = 2**8             #higer is slow\n",
    "xmin, xmax = -1.5, 1.5\n",
    "xwidth = xmax - xmin\n",
    "ymin, ymax = -1.5, 1.5\n",
    "yheight = ymax - ymin"
   ]
  },
  {
   "cell_type": "code",
   "execution_count": 13,
   "metadata": {},
   "outputs": [],
   "source": [
    "julia = np.zeros((im_width, im_height))                            #2d array, define as function to make dynamic?\n",
    "for ix in range(im_width):                                       \n",
    "    for iy in range(im_height):\n",
    "        nit = 0                                                    #reset counter\n",
    "        # Map pixel position to a point in the complex plane\n",
    "        z = complex(ix / im_width * xwidth + xmin,              \n",
    "                    iy / im_height * yheight + ymin)\n",
    "        # Do the iterations\n",
    "        while abs(z) <= zabs_max and nit < nit_max:\n",
    "            z = z**2 + c\n",
    "            nit += 1\n",
    "        shade = 1-np.sqrt(nit / nit_max)\n",
    "        ratio = nit / nit_max\n",
    "        julia[ix,iy] = ratio"
   ]
  },
  {
   "cell_type": "code",
   "execution_count": 14,
   "metadata": {},
   "outputs": [
    {
     "data": {
      "image/png": "[encoded data removed]",
      "text/plain": [
       "<Figure size 432x288 with 1 Axes>"
      ]
     },
     "metadata": {
      "needs_background": "light"
     },
     "output_type": "display_data"
    },
    {
     "data": {
      "text/plain": [
       "<Figure size 3840x3840 with 0 Axes>"
      ]
     },
     "metadata": {},
     "output_type": "display_data"
    }
   ],
   "source": [
    "fig, ax = plt.subplots()\n",
    "plt.figure(figsize=(15,15),dpi=256)\n",
    "ax.imshow(julia, interpolation='nearest', cmap='binary')\n",
    "plt.show()"
   ]
  },
  {
   "cell_type": "code",
   "execution_count": null,
   "metadata": {},
   "outputs": [],
   "source": []
  }
 ],
 "metadata": {
  "kernelspec": {
   "display_name": "Python 3",
   "language": "python",
   "name": "python3"
  },
  "language_info": {
   "codemirror_mode": {
    "name": "ipython",
    "version": 3
   },
   "file_extension": ".py",
   "mimetype": "text/x-python",
   "name": "python",
   "nbconvert_exporter": "python",
   "pygments_lexer": "ipython3",
   "version": "3.7.6"
  }
 },
 "nbformat": 4,
 "nbformat_minor": 4
}
