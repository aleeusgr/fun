{
 "cells": [
  {
   "cell_type": "markdown",
   "metadata": {},
   "source": [
    "### TODOS:\n",
    "1. Colorcode keywords for vocab.plot"
   ]
  },
  {
   "cell_type": "code",
   "execution_count": 1,
   "metadata": {
    "jupyter": {
     "source_hidden": true
    }
   },
   "outputs": [
    {
     "name": "stdout",
     "output_type": "stream",
     "text": [
      "v 0.1: imports and options\n"
     ]
    }
   ],
   "source": [
    "print('v 0.1: imports and options')\n",
    "import pandas as pd\n",
    "import datetime as dt\n",
    "import numpy as np\n",
    "import matplotlib as mpl\n",
    "import matplotlib.pyplot as plt\n",
    "# pd.set_option('display.max_colwidth',20) #change this to increse width cutoff limit\n",
    "pd.set_option('display.max_columns', 500)\n",
    "pd.set_option('display.max_rows', 20)\n",
    "pd.set_option('display.width', 1000)\n",
    "\n",
    "plt.rcParams['figure.figsize'] = [20, 10]\n",
    "\n",
    "# plt.rcParams['axes.facecolor'] = 'black'\n",
    "# pd.set_option('display.max_rows', df.shape[0]+1)"
   ]
  },
  {
   "cell_type": "code",
   "execution_count": 2,
   "metadata": {
    "jupyter": {
     "source_hidden": true
    }
   },
   "outputs": [
    {
     "name": "stdout",
     "output_type": "stream",
     "text": [
      "v0.2.0: Load excel file\n",
      "Cleaning\n",
      "Save a copy\n"
     ]
    }
   ],
   "source": [
    "print('v0.2.0: Load excel file')\n",
    "by_good = pd.read_excel('/home/alex/HDD/workshop/archive/1C/by_name.xls',skiprows=list(range(8)),header = 0,na_values=[' ']).fillna(0)\n",
    "by_good = by_good.drop(columns = ['Unnamed: 1','Unnamed: 2'])\n",
    "by_good = by_good.rename(columns={'Unnamed: 0':'name','единица':'amt',\n",
    "                                  'Сумма':'in','Сумма.1':'Out','Процент':'Prof %','Сумма.2':'Profit'})\n",
    "\n",
    "print('Cleaning')\n",
    "drop = [0,3261] \n",
    "# # Profit <=0: \n",
    "drop += [769, 1082, 113, 332, 333, 1531, 2133, 2401, 799, 1804, 1519, 778, 1338, 2391, 1518, 1568, 2567, 707, 787, 385, 1344, 2665,\n",
    "         454, 2717, 2755, 2543, 3236, 85, 2561, 132, 2803, 3254, 1828, 97, 337, 1609, 2552, 2500, 3211, 1984, 84, 1968, 2790, 875, \n",
    "         1021, 2489, 1469, 1900, 2437, 2503, 2856, 2431, 2537, 2737, 2950, 2928, 1118, 2559, 719, 33, 2930, 2929, 2323, 26, 2013, \n",
    "         1965, 1812, 54, 68, 2859, 3227, 1450, 80, 703, 602, 1253, 1437, 771, 2353, 53, 1898, 3248, 2130, 953, 768, 1705, 143, 1934, \n",
    "         1292, 206, 1107, 877, 293, 1037, 977]\n",
    "# Unrealistic profit value:\n",
    "drop+= [3170, 821, 90, 730, 1682, 1538, 1539, 1541, 2122, 62, 2299, 694, 819, 4, 1, 2,1485]\n",
    "\n",
    "by_good.loc[sorted(drop),:]\n",
    "\n",
    "df = by_good.drop(drop)\n",
    "df = df.drop(columns = ['in','Out'])\n",
    "df = df.reset_index(drop=True)\n",
    "\n",
    "print('Save a copy')\n",
    "clean_df = df.copy()"
   ]
  },
  {
   "cell_type": "code",
   "execution_count": 3,
   "metadata": {
    "jupyter": {
     "source_hidden": true
    }
   },
   "outputs": [
    {
     "name": "stdout",
     "output_type": "stream",
     "text": [
      "v0.2.3: Groups assignment and keyword filtering\n",
      "Misprocessed\n"
     ]
    },
    {
     "data": {
      "text/html": [
       "<div>\n",
       "<style scoped>\n",
       "    .dataframe tbody tr th:only-of-type {\n",
       "        vertical-align: middle;\n",
       "    }\n",
       "\n",
       "    .dataframe tbody tr th {\n",
       "        vertical-align: top;\n",
       "    }\n",
       "\n",
       "    .dataframe thead th {\n",
       "        text-align: right;\n",
       "    }\n",
       "</style>\n",
       "<table border=\"1\" class=\"dataframe\">\n",
       "  <thead>\n",
       "    <tr style=\"text-align: right;\">\n",
       "      <th></th>\n",
       "      <th>name</th>\n",
       "      <th>amt</th>\n",
       "      <th>Prof %</th>\n",
       "      <th>Profit</th>\n",
       "      <th>PPU</th>\n",
       "      <th>B&amp;W</th>\n",
       "      <th>Clothes</th>\n",
       "      <th>Boots</th>\n",
       "      <th>Accessories</th>\n",
       "      <th>Gear</th>\n",
       "      <th>status</th>\n",
       "    </tr>\n",
       "  </thead>\n",
       "  <tbody>\n",
       "    <tr>\n",
       "      <th>2068</th>\n",
       "      <td>рем. брючн. такт. № 2</td>\n",
       "      <td>10.0</td>\n",
       "      <td>99.00</td>\n",
       "      <td>1485.00</td>\n",
       "      <td>148.50</td>\n",
       "      <td>0</td>\n",
       "      <td>1</td>\n",
       "      <td>0</td>\n",
       "      <td>0</td>\n",
       "      <td>1</td>\n",
       "      <td>2</td>\n",
       "    </tr>\n",
       "    <tr>\n",
       "      <th>1972</th>\n",
       "      <td>погоны выш капит. пол. (руб)</td>\n",
       "      <td>4.0</td>\n",
       "      <td>50.68</td>\n",
       "      <td>1480.00</td>\n",
       "      <td>370.00</td>\n",
       "      <td>1</td>\n",
       "      <td>1</td>\n",
       "      <td>0</td>\n",
       "      <td>0</td>\n",
       "      <td>0</td>\n",
       "      <td>2</td>\n",
       "    </tr>\n",
       "    <tr>\n",
       "      <th>1252</th>\n",
       "      <td>комплект белья зимний 50</td>\n",
       "      <td>5.0</td>\n",
       "      <td>43.60</td>\n",
       "      <td>1456.88</td>\n",
       "      <td>291.38</td>\n",
       "      <td>0</td>\n",
       "      <td>1</td>\n",
       "      <td>0</td>\n",
       "      <td>0</td>\n",
       "      <td>1</td>\n",
       "      <td>2</td>\n",
       "    </tr>\n",
       "    <tr>\n",
       "      <th>2430</th>\n",
       "      <td>сумка д/рации универс. нагрудн. черн</td>\n",
       "      <td>3.0</td>\n",
       "      <td>66.92</td>\n",
       "      <td>1443.31</td>\n",
       "      <td>481.10</td>\n",
       "      <td>1</td>\n",
       "      <td>0</td>\n",
       "      <td>0</td>\n",
       "      <td>0</td>\n",
       "      <td>1</td>\n",
       "      <td>2</td>\n",
       "    </tr>\n",
       "    <tr>\n",
       "      <th>1236</th>\n",
       "      <td>комп. т/б (футб д/р, брюки) 50/3</td>\n",
       "      <td>2.0</td>\n",
       "      <td>95.00</td>\n",
       "      <td>1425.00</td>\n",
       "      <td>712.50</td>\n",
       "      <td>0</td>\n",
       "      <td>1</td>\n",
       "      <td>0</td>\n",
       "      <td>0</td>\n",
       "      <td>1</td>\n",
       "      <td>2</td>\n",
       "    </tr>\n",
       "  </tbody>\n",
       "</table>\n",
       "</div>"
      ],
      "text/plain": [
       "                                      name   amt  Prof %   Profit     PPU  B&W  Clothes  Boots  Accessories  Gear  status\n",
       "2068                 рем. брючн. такт. № 2  10.0   99.00  1485.00  148.50    0        1      0            0     1       2\n",
       "1972          погоны выш капит. пол. (руб)   4.0   50.68  1480.00  370.00    1        1      0            0     0       2\n",
       "1252              комплект белья зимний 50   5.0   43.60  1456.88  291.38    0        1      0            0     1       2\n",
       "2430  сумка д/рации универс. нагрудн. черн   3.0   66.92  1443.31  481.10    1        0      0            0     1       2\n",
       "1236      комп. т/б (футб д/р, брюки) 50/3   2.0   95.00  1425.00  712.50    0        1      0            0     1       2"
      ]
     },
     "execution_count": 3,
     "metadata": {},
     "output_type": "execute_result"
    }
   ],
   "source": [
    "print('v0.2.3: Groups assignment and keyword filtering')\n",
    "'''\n",
    "features: status: 0: Unprocessed, 1: assume OK; 2: double counted\n",
    "          PPU = Profit per unit'\n",
    "'''\n",
    "\n",
    "df = clean_df #clean form 0.2.1'\n",
    "\n",
    "df['PPU'] = np.round(df['Profit']/df['amt'],2)\n",
    "df['name'] = df['name'].str.lower()\n",
    "\n",
    "kwd_by_cat = {\n",
    "    \n",
    "    'B&W'        :['аксель+', 'ароматизат', 'вымп', 'галст', 'гв. вдв', 'жет+', 'за отл. в сл.', 'зажим', 'звезда', 'кл-ть', 'клямер', 'кокарда', 'кольцо', 'курсовка', 'липуч', 'лычки', 'мет. выстрел', 'нагр+', 'накл', 'наклейка', 'наш+', 'нашивка', 'обложка', 'орел', 'платочек', 'погоны', 'пуговица', 'свисток', 'сувенир', 'удост+', 'фальшп+', 'филигран', 'флаг', 'шевврон', 'шеврон', 'эмб+', 'якорь'], \n",
    "    'Clothes'    :['белье', 'бр', 'брюки', 'ввз', 'ветр', 'вкбо', 'ворот', 'дж+', 'ж-т', 'жил+', 'к-ка', 'к-м', 'к-т', 'кальсоны', 'комплект', 'кост+', 'курт+', 'куртка', 'м/халат', 'майка', 'п/комб.', 'плащ', 'полукомбинезон', 'пончо', 'пухов', 'руб', 'свитер', 'т/б', 'тельн', 'термобелье', 'толст', 'тр. ', 'трусы', 'футб', 'шорты'], \n",
    "    'Boots'      :['бот', 'ботинки', 'гамаши', 'крос+', 'п/б', 'сап+', 'стельки', 'туфли'], \n",
    "    'Accessories':['арафатка', 'балакл+', 'банд+', 'бейсб', 'бер', 'берет', 'варежки', 'капюшон', 'кепи', 'косынка', 'кошелёк', 'маска', 'накомарнок', 'носки', 'панама', 'перч+', 'пилотка', 'подтяжки', 'подшл', 'полуперч+', 'шап+', 'шапка', 'шарф'], \n",
    "    'Gear'       :['uniclean', 'авт. ист.', 'апт+', 'асидол', 'блокн+', 'блюдо', 'гермомешок', 'держатель', 'жезл', 'кейс', 'кобура', 'коврик', 'комп.', 'компас', 'котелок', 'кошелек', 'кружка', 'курвиметр', 'лента', 'лоп+', 'мешок', 'миска', 'наб. ', 'набор', 'накол', 'налокот', 'насадка', 'несессер', 'нессесер', 'огниво', 'очки', 'палатка', 'палки', 'палочка', 'перев', 'пила', 'планшет', 'подсум', 'полот+', 'пряж+', 'пряжка', 'ранец', 'рем', 'рюкз+', 'сеть', 'сиденье', 'сист', 'сп. меш.', 'станок', 'сумка', 'сухпаек', 'термокружка', 'термомиска', 'термоодеяло', 'термос', 'флажки', 'фляга', 'фонар+', 'хозпакет', 'чайник', 'чапельник', 'чехол', 'шнур+']\n",
    "\n",
    "}\n",
    "\n",
    "#Main Loop:\n",
    "for key in kwd_by_cat.keys():                      \n",
    "    df[key] = 0\n",
    "    col = df.columns.get_loc(key)\n",
    "    for word in kwd_by_cat[key]:\n",
    "        idx = df[df['name'].str.contains(word)].index\n",
    "        df.iloc[idx,col]=1 #set class manually\n",
    "\n",
    "\n",
    "# print('Manually fix duplicate categories')\n",
    "mislabeled_idx = {\n",
    "    \n",
    "    'B&W'        : [2371,2363,2375,2369,89,2370],\n",
    "    'Clothes'    : [1967,1986,2104,1985,1977,2069,2066],\n",
    "    'Boots'      : [860,858,859,861,862,1598,1597],\n",
    "    'Accessories': [958,959,957,],\n",
    "    'Gear'       : [903,1240,1241,88,905,]\n",
    "} \n",
    "\n",
    "for i in mislabeled_idx:\n",
    "#     print(key,mislabeled_idx[key])\n",
    "    df.loc[mislabeled_idx[i],i]=0\n",
    "\n",
    "# print('Check for inconsistencies')\n",
    "df['status']=df.loc[:,list(kwd_by_cat.keys())].sum(axis=1)\n",
    "\n",
    "\n",
    "print('Misprocessed')\n",
    "# #show all:\n",
    "# pd.set_option('display.max_rows', df.shape[0]+1) \n",
    "df[df['status']==2].sort_values('Profit',ascending=False).head() # "
   ]
  },
  {
   "cell_type": "code",
   "execution_count": 61,
   "metadata": {},
   "outputs": [
    {
     "name": "stdout",
     "output_type": "stream",
     "text": [
      "v 0.2.3 Visualisations\n"
     ]
    },
    {
     "data": {
      "image/png": "[encoded data removed]",
      "text/plain": [
       "<Figure size 432x216 with 1 Axes>"
      ]
     },
     "metadata": {},
     "output_type": "display_data"
    },
    {
     "data": {
      "image/png": "[encoded data removed]",
      "text/plain": [
       "<Figure size 432x216 with 10 Axes>"
      ]
     },
     "metadata": {
      "needs_background": "light"
     },
     "output_type": "display_data"
    }
   ],
   "source": [
    "print('v 0.2.3 Visualisations')\n",
    "#       relative profit by category')\n",
    "plt.rcParams['figure.figsize'] = [6, 3]\n",
    "\n",
    "\"\"\"\n",
    "Add % values in legend\n",
    "\"\"\"\n",
    "\n",
    "totals = ()\n",
    "for name in kwd_by_cat:\n",
    "    totals += df[df[name]==1]['Profit'].sum(),\n",
    "\n",
    "\n",
    "plt.figure()\n",
    "plt.title('market share',fontdict={'color':'white'})\n",
    "plt.pie(totals,labels = list(kwd_by_cat.keys()), textprops={'color':'white'})\n",
    "plt.show()\n",
    "\n",
    "feats = ['PPU','Profit']#,'amt']\n",
    "\n",
    "fig, axes = plt.subplots(ncols=len(kwd_by_cat.keys()),\n",
    "                         nrows=len(feats),)\n",
    "#                          figsize=(30,15),)\n",
    "for col,key in enumerate(kwd_by_cat.keys()):                         \n",
    "    frame = df[df[key]==1]\n",
    "    line=str(key)+': '\n",
    "    for row,feat in enumerate(feats):\n",
    "        frame[feat].plot.hist(ax=axes[row,col],title=str(feat)+';'+str(key))"
   ]
  },
  {
   "cell_type": "code",
   "execution_count": 36,
   "metadata": {},
   "outputs": [
    {
     "name": "stdout",
     "output_type": "stream",
     "text": [
      "v0.2.3\n"
     ]
    },
    {
     "data": {
      "image/png": "[encoded data removed]",
      "text/plain": [
       "<Figure size 576x288 with 1 Axes>"
      ]
     },
     "metadata": {
      "needs_background": "light"
     },
     "output_type": "display_data"
    }
   ],
   "source": [
    "print('v0.2.3')\n",
    "from sklearn.feature_extraction.text import CountVectorizer\n",
    "vect = CountVectorizer()\n",
    "X = vect.fit_transform(df['name'])\n",
    "def clean(X):\n",
    "    '''Modify visualisation\n",
    "    sets all pixels corresponding to words that are not class-defining to 0\n",
    "    TODO: \n",
    "    colored cmap\n",
    "    color words by their respective class\n",
    "    generate colormap from kwd_by_cat\n",
    "    '''\n",
    "    plot = X.toarray()\n",
    "    for n,word in enumerate(vect.vocabulary_):\n",
    "        for key in kwd_by_cat:\n",
    "            clean = True\n",
    "            if word in kwd_by_cat[key]:\n",
    "                clean = False\n",
    "        if clean:\n",
    "             plot[:,n]=0 # set color\n",
    "        return plot\n",
    "    \n",
    "# plot = clean(X)\n",
    "plot = X.toarray()\n",
    "\n",
    "plt.figure(figsize=(8,4))\n",
    "plt.title('Vocab transposed :')\n",
    "plt.imshow(plot.T,cmap='binary',interpolation= 'none')\n",
    "plt.show()"
   ]
  },
  {
   "cell_type": "code",
   "execution_count": 5,
   "metadata": {
    "jupyter": {
     "source_hidden": true
    }
   },
   "outputs": [
    {
     "name": "stdout",
     "output_type": "stream",
     "text": [
      "v.0.2.2: Vectorize text and show most common entries\n",
      "['билет', 'ввс', 'кавказе', 'крепеж', 'крылья', 'личн', 'лямки', 'спички', 'стакан', 'стр', 'тент', 'титан', 'универс']\n"
     ]
    }
   ],
   "source": [
    "print('v.0.2.2: Vectorize text and show most common entries')\n",
    "\"\"\"\n",
    "refactor if needed\n",
    "sort stop values \n",
    "\"\"\"\n",
    "\n",
    "from sklearn.feature_extraction.text import CountVectorizer\n",
    "unprocessed_df = df[df['status']==0] # drop processed entries\n",
    "stop = ['черн','хаки','олива','лет','бекас','форм','лес','тень','на','вдв','барс','бр', 'ка', 'track', 'для', 'мох', 'оливк', 'легион', 'оксф',\n",
    "        'нато', 'payer', 'цифр', 'флора','с41', 'пвх', 'оф', 'мм', 'пол', 'горн','light', 'гр', 'см', 'саяны', 'армия', 'ут', 'смог','panzer', 'маршр' ,\n",
    "        'мед', 'тр', 'мет', 'vint','тактик', 'сап', 'черный', 'трикотаж', 'арт','омон', 'комб', 'тигр', 'ст', 'bdu', 'халат', 'утепл', 'сл', 'м2', 'нерж',\n",
    "        'кл', 'grey', 'monsoon', 'чёрн', 'черные', 'eco','drysole', 'камуфл', 'трен', 'трек', 'синий', 'са','russian', 'зел', 'ть', 'gsg', 'муж', \n",
    "        'acu', 'за', 'индия', 'нейлон', 'облегч','бокс', 'урбан', 'уд', 'grid', 'сп', 'пв', 'cobalt', 'полиция', 'therm', 'torvi', 'камыш','шт','выстрел', \n",
    "        'гол', 'варан', 'атакс', 'ангара', 'кв', 'winter', 'прокл','pride','обл', 'норвегия', 'пит','мвд','tundra','вст', 'dig', 'рыбацкие', 'зн', 'готовое', 'воин', 'рег', 'дж',\n",
    "        'блюдо','авто','бежевые', 'бер', 'крон', 'большой','защ', 'отл', 'город', 'полот', 'вин', 'ветр', 'ввз', 'пр', 'пряж', 'wall', 'velvet', 'avalon', 'манарага', 'меш',\n",
    "        'primaloft', 'double', 'мчс', 'флис', 'new','поход', 'pcu', 'polar', 'фаст', 'уфсин','микрофиб', 'hardw', 'мульт','armour', 'мод','melange', 'multi', 'циклон', 'удл', \n",
    "        'realtree', 'sas','scout', 'shell','soft', 'softshell','tibet', 'vantage','wint', 'woodl','синие', 'сер','кмф','кречет','цифра', 'песок', 'оперативн', 'bl',\n",
    "        'плеч', 'пк', 'перев', 'партизан', 'паракорда','durafl', 'green' , 'laos', 'олив','plus', 'охотничьи','немезида', 'новатекс', 'ол','power', 'savanna', 'мин',]\n",
    "stop = frozenset(stop)\n",
    "vect = CountVectorizer(stop_words=stop)\n",
    "\n",
    "filtering = lambda df: df[0] > df.quantile(0.5)[0]  \n",
    "\n",
    "# process and display keyword data:\n",
    "cv_fit = vect.fit_transform(unprocessed_df['name'])\n",
    "frequencies = np.asarray(cv_fit.sum(axis=0))[0]\n",
    "\n",
    "wrd_freq = pd.DataFrame(frequencies,vect.get_feature_names())\n",
    "wrd_freq = wrd_freq.reset_index()\n",
    "\n",
    "wrd_freq.loc[filtering].sort_values(0,ascending=False)\n",
    "\n",
    "# pd.set_option('display.max_rows', df.shape[0]+1)\n",
    "print(list(wrd_freq[wrd_freq['index'].str.match('(\\D+)')].loc[filtering].sort_values(0,ascending=False)['index']),sep=',')\n",
    "# vect.vocabulary_"
   ]
  },
  {
   "cell_type": "code",
   "execution_count": 6,
   "metadata": {
    "jupyter": {
     "source_hidden": true
    }
   },
   "outputs": [
    {
     "name": "stdout",
     "output_type": "stream",
     "text": [
      "v.ANY show datapoints by keyword:\n",
      "search word: шевврон\n"
     ]
    },
    {
     "data": {
      "text/html": [
       "<div>\n",
       "<style scoped>\n",
       "    .dataframe tbody tr th:only-of-type {\n",
       "        vertical-align: middle;\n",
       "    }\n",
       "\n",
       "    .dataframe tbody tr th {\n",
       "        vertical-align: top;\n",
       "    }\n",
       "\n",
       "    .dataframe thead th {\n",
       "        text-align: right;\n",
       "    }\n",
       "</style>\n",
       "<table border=\"1\" class=\"dataframe\">\n",
       "  <thead>\n",
       "    <tr style=\"text-align: right;\">\n",
       "      <th></th>\n",
       "      <th>name</th>\n",
       "      <th>amt</th>\n",
       "      <th>Prof %</th>\n",
       "      <th>Profit</th>\n",
       "      <th>PPU</th>\n",
       "      <th>B&amp;W</th>\n",
       "      <th>Clothes</th>\n",
       "      <th>Boots</th>\n",
       "      <th>Accessories</th>\n",
       "      <th>Gear</th>\n",
       "      <th>status</th>\n",
       "    </tr>\n",
       "  </thead>\n",
       "  <tbody>\n",
       "    <tr>\n",
       "      <th>3102</th>\n",
       "      <td>шевврон 120</td>\n",
       "      <td>134.0</td>\n",
       "      <td>90.12</td>\n",
       "      <td>7608.0</td>\n",
       "      <td>56.78</td>\n",
       "      <td>1</td>\n",
       "      <td>0</td>\n",
       "      <td>0</td>\n",
       "      <td>0</td>\n",
       "      <td>0</td>\n",
       "      <td>1</td>\n",
       "    </tr>\n",
       "  </tbody>\n",
       "</table>\n",
       "</div>"
      ],
      "text/plain": [
       "             name    amt  Prof %  Profit    PPU  B&W  Clothes  Boots  Accessories  Gear  status\n",
       "3102  шевврон 120  134.0   90.12  7608.0  56.78    1        0      0            0     0       1"
      ]
     },
     "execution_count": 6,
     "metadata": {},
     "output_type": "execute_result"
    }
   ],
   "source": [
    "print('v.ANY show datapoints by keyword:')\n",
    "line = 'шевврон'\n",
    "print('search word: {}'.format(line))\n",
    "df[df['name'].str.contains(line)]"
   ]
  },
  {
   "cell_type": "code",
   "execution_count": 7,
   "metadata": {
    "jupyter": {
     "source_hidden": true
    }
   },
   "outputs": [
    {
     "name": "stdout",
     "output_type": "stream",
     "text": [
      "v. 0.2.3 split into separate DataFrames\n"
     ]
    },
    {
     "data": {
      "text/plain": [
       "2253.8070661157026"
      ]
     },
     "execution_count": 7,
     "metadata": {},
     "output_type": "execute_result"
    }
   ],
   "source": [
    "print('v. 0.2.3 split into separate DataFrames')\n",
    "\n",
    "group = {}\n",
    "for key in kwd_by_cat.keys():\n",
    "    group[key] = df[df[key]==1]\n",
    "\n",
    "group['B&W']['Profit'].mean()\n"
   ]
  },
  {
   "cell_type": "code",
   "execution_count": null,
   "metadata": {},
   "outputs": [],
   "source": [
    "print('BREAK')\n",
    "# break"
   ]
  },
  {
   "cell_type": "code",
   "execution_count": 37,
   "metadata": {
    "jupyter": {
     "source_hidden": true
    }
   },
   "outputs": [
    {
     "name": "stdout",
     "output_type": "stream",
     "text": [
      "v 0.2.1 sklearn methods for group labelling: debugged 0.2.3\n",
      "load clean DF\n",
      "K-means\n",
      "PCA and and unsupervised model experimantation\n",
      "plotting\n",
      "Bokeh, default:OFF, add colors?\n"
     ]
    },
    {
     "data": {
      "text/html": [
       "<div style=\"display: table;\"><div style=\"display: table-row;\"><div style=\"display: table-cell;\"><b title=\"bokeh.models.renderers.GlyphRenderer\">GlyphRenderer</b>(</div><div style=\"display: table-cell;\">id&nbsp;=&nbsp;'1025', <span id=\"1028\" style=\"cursor: pointer;\">&hellip;)</span></div></div><div class=\"1027\" style=\"display: none;\"><div style=\"display: table-cell;\"></div><div style=\"display: table-cell;\">data_source&nbsp;=&nbsp;ColumnDataSource(id='1001', ...),</div></div><div class=\"1027\" style=\"display: none;\"><div style=\"display: table-cell;\"></div><div style=\"display: table-cell;\">glyph&nbsp;=&nbsp;Scatter(id='1023', ...),</div></div><div class=\"1027\" style=\"display: none;\"><div style=\"display: table-cell;\"></div><div style=\"display: table-cell;\">hover_glyph&nbsp;=&nbsp;None,</div></div><div class=\"1027\" style=\"display: none;\"><div style=\"display: table-cell;\"></div><div style=\"display: table-cell;\">js_event_callbacks&nbsp;=&nbsp;{},</div></div><div class=\"1027\" style=\"display: none;\"><div style=\"display: table-cell;\"></div><div style=\"display: table-cell;\">js_property_callbacks&nbsp;=&nbsp;{},</div></div><div class=\"1027\" style=\"display: none;\"><div style=\"display: table-cell;\"></div><div style=\"display: table-cell;\">level&nbsp;=&nbsp;'glyph',</div></div><div class=\"1027\" style=\"display: none;\"><div style=\"display: table-cell;\"></div><div style=\"display: table-cell;\">muted&nbsp;=&nbsp;False,</div></div><div class=\"1027\" style=\"display: none;\"><div style=\"display: table-cell;\"></div><div style=\"display: table-cell;\">muted_glyph&nbsp;=&nbsp;None,</div></div><div class=\"1027\" style=\"display: none;\"><div style=\"display: table-cell;\"></div><div style=\"display: table-cell;\">name&nbsp;=&nbsp;None,</div></div><div class=\"1027\" style=\"display: none;\"><div style=\"display: table-cell;\"></div><div style=\"display: table-cell;\">nonselection_glyph&nbsp;=&nbsp;Scatter(id='1024', ...),</div></div><div class=\"1027\" style=\"display: none;\"><div style=\"display: table-cell;\"></div><div style=\"display: table-cell;\">selection_glyph&nbsp;=&nbsp;None,</div></div><div class=\"1027\" style=\"display: none;\"><div style=\"display: table-cell;\"></div><div style=\"display: table-cell;\">subscribed_events&nbsp;=&nbsp;[],</div></div><div class=\"1027\" style=\"display: none;\"><div style=\"display: table-cell;\"></div><div style=\"display: table-cell;\">tags&nbsp;=&nbsp;[],</div></div><div class=\"1027\" style=\"display: none;\"><div style=\"display: table-cell;\"></div><div style=\"display: table-cell;\">view&nbsp;=&nbsp;CDSView(id='1026', ...),</div></div><div class=\"1027\" style=\"display: none;\"><div style=\"display: table-cell;\"></div><div style=\"display: table-cell;\">visible&nbsp;=&nbsp;True,</div></div><div class=\"1027\" style=\"display: none;\"><div style=\"display: table-cell;\"></div><div style=\"display: table-cell;\">x_range_name&nbsp;=&nbsp;'default',</div></div><div class=\"1027\" style=\"display: none;\"><div style=\"display: table-cell;\"></div><div style=\"display: table-cell;\">y_range_name&nbsp;=&nbsp;'default')</div></div></div>\n",
       "<script>\n",
       "(function() {\n",
       "  var expanded = false;\n",
       "  var ellipsis = document.getElementById(\"1028\");\n",
       "  ellipsis.addEventListener(\"click\", function() {\n",
       "    var rows = document.getElementsByClassName(\"1027\");\n",
       "    for (var i = 0; i < rows.length; i++) {\n",
       "      var el = rows[i];\n",
       "      el.style.display = expanded ? \"none\" : \"table-row\";\n",
       "    }\n",
       "    ellipsis.innerHTML = expanded ? \"&hellip;)\" : \"&lsaquo;&lsaquo;&lsaquo;\";\n",
       "    expanded = !expanded;\n",
       "  });\n",
       "})();\n",
       "</script>\n"
      ],
      "text/plain": [
       "GlyphRenderer(id='1025', ...)"
      ]
     },
     "execution_count": 37,
     "metadata": {},
     "output_type": "execute_result"
    },
    {
     "data": {
      "image/png": "[encoded data removed]",
      "text/plain": [
       "<Figure size 720x360 with 6 Axes>"
      ]
     },
     "metadata": {
      "needs_background": "light"
     },
     "output_type": "display_data"
    }
   ],
   "source": [
    "print('v 0.2.1 sklearn methods for group labelling: debugged 0.2.3')\n",
    "print('load clean DF')\n",
    "df = clean_df.copy()\n",
    "# print('Feature extraction and pipeline')\n",
    "'''\n",
    "Try differents scaling approach\n",
    "CountVectorizer parameters??\n",
    "Stop words??\n",
    "feature selection: nums?, \n",
    "'''\n",
    "\n",
    "df['PPU'] = np.round(df['Profit']/df['amt'],2) # profit per unit\n",
    "# df['name']=df['name'].str.extract('(\\D+)')[0] #remove all numbers\n",
    "\n",
    "# pipeline\n",
    "from sklearn.compose import ColumnTransformer\n",
    "from sklearn.feature_extraction.text import CountVectorizer\n",
    "from sklearn.preprocessing import StandardScaler\n",
    "from sklearn.preprocessing import RobustScaler\n",
    "\n",
    "\n",
    "nums = ['amt','Profit','PPU']\n",
    "nums = ['PPU']\n",
    "\n",
    "colTrans = ColumnTransformer([\n",
    "    ('freq_terms',CountVectorizer(),'name'),\n",
    "#     ('std',StandardScaler(),nums),\n",
    "#     ('robust',RobustScaler(),nums),\n",
    "\n",
    "])\n",
    "\n",
    "X = colTrans.fit_transform(df)\n",
    "\n",
    "print('K-means')\n",
    "\n",
    "from sklearn.cluster import KMeans \n",
    "\n",
    "model = KMeans(n_clusters=5,random_state=8934) # poor accuracy, need to find optimal number of clusters\n",
    "\n",
    "model.fit_transform(X)\n",
    "df['cat_K_Means'] = model.labels_\n",
    "\n",
    "print('PCA and and unsupervised model experimantation')\n",
    "\n",
    "from sklearn.decomposition import PCA\n",
    "\n",
    "# n_comp = X.shape[1] # no PCA\n",
    "n_comp = 30\n",
    "clusters = 5\n",
    "\n",
    "pca = PCA(n_components = n_comp)\n",
    "X_reduced = pca.fit_transform(X.toarray())\n",
    "evr = pca.explained_variance_ratio_\n",
    "\n",
    "# plt.figure(figsize=(5,5))\n",
    "# plt.title('pca.explained_variance_ratio_')\n",
    "# plt.plot(evr)\n",
    "# plt.show()\n",
    "\n",
    "\n",
    "'''models tried '''\n",
    "from sklearn.mixture import BayesianGaussianMixture \n",
    "from sklearn import cluster as cl\n",
    "\n",
    "model = BayesianGaussianMixture(n_components = clusters,n_init=10) # O(kmn^2+ kn^3) -> slow;  \n",
    "# model = cl.AffinityPropagation() #did not converge\n",
    "# model = cl.SpectralClustering(n_clusters=15) # number of distinct clusters (2) found smaller than n_clusters (15). Possibly due to duplicate points in X.\n",
    "model = cl.AgglomerativeClustering(n_clusters = clusters)\n",
    "# model = cl.MeanShift()   # Slow\n",
    "\n",
    "\n",
    "df['cat_Model2'] = model.fit_predict(X_reduced)\n",
    "\n",
    "print(\"plotting\")\n",
    "\n",
    "groups = ['cat_K_Means','cat_Model2']\n",
    "feats = ['PPU','Prof %','amt']\n",
    "fig, axes = plt.subplots(nrows=len(groups),\n",
    "                         ncols=len(feats),\n",
    "                         figsize=(10,5))\n",
    "for a,c in enumerate(groups):\n",
    "    for b,v in enumerate(feats):\n",
    "            df.boxplot(v,c,ax=axes[a,b])\n",
    "    \n",
    "\n",
    "print('Bokeh, default:OFF, add colors?')\n",
    "\n",
    "from bokeh.plotting import figure, show\n",
    "import bokeh.plotting as bpl\n",
    "# import bokeh.models as bmo\n",
    "# from bokeh.palettes import d3\n",
    "from bokeh.models.tools import HoverTool\n",
    "\n",
    "source = bpl.ColumnDataSource(df)\n",
    "hover = HoverTool(tooltips = [('name','@name'),('PPU','@PPU'),('amt','@amt') ])\n",
    "p = figure(width=1800,height = 1000,tools=[hover])\n",
    "\n",
    "# use whatever palette you want...\n",
    "# palette = d3['Category10'][len(df['cat'].unique())]\n",
    "# color_map = bmo.CategoricalColorMapper(factors = df['cat'].unique().astype('U'),palette=palette)\n",
    "\n",
    "# create figure and plot\n",
    "p.scatter('cat_K_Means','PPU',\n",
    "#           color={'field': 'cat', 'transform': color_map},\n",
    "          source=source)\n",
    "\n",
    "# #uncomment to ON\n",
    "# bpl.show(p) "
   ]
  },
  {
   "cell_type": "code",
   "execution_count": 40,
   "metadata": {
    "jupyter": {
     "source_hidden": true
    }
   },
   "outputs": [
    {
     "name": "stdout",
     "output_type": "stream",
     "text": [
      "word frequency by group\n"
     ]
    }
   ],
   "source": [
    "print('word frequency by group')\n",
    "from sklearn.feature_extraction.text import CountVectorizer\n",
    "\n",
    "grouped = {}\n",
    "category = 'cat_K_Means'\n",
    "    \n",
    "for i in sorted(df[category].unique()):\n",
    "    vect = CountVectorizer()\n",
    "    \n",
    "    cv_fit = vect.fit_transform(df[df[category]==i]['name'])\n",
    "\n",
    "    frequencies = np.asarray(cv_fit.sum(axis=0))[0]\n",
    "    grouped[i] = pd.DataFrame(frequencies,vect.get_feature_names()).reset_index() \n",
    "    \n",
    "#     print(grouped[i].loc[filtering].sort_values(0,ascending=False))"
   ]
  },
  {
   "cell_type": "code",
   "execution_count": null,
   "metadata": {},
   "outputs": [],
   "source": []
  }
 ],
 "metadata": {
  "kernelspec": {
   "display_name": "Python 3",
   "language": "python",
   "name": "python3"
  },
  "language_info": {
   "codemirror_mode": {
    "name": "ipython",
    "version": 3
   },
   "file_extension": ".py",
   "mimetype": "text/x-python",
   "name": "python",
   "nbconvert_exporter": "python",
   "pygments_lexer": "ipython3",
   "version": "3.7.6"
  }
 },
 "nbformat": 4,
 "nbformat_minor": 4
}
