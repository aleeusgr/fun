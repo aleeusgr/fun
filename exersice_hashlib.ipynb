{
 "cells": [
  {
   "cell_type": "code",
   "execution_count": 4,
   "metadata": {},
   "outputs": [
    {
     "ename": "SyntaxError",
     "evalue": "invalid syntax (<ipython-input-4-9b2f7ccdb21c>, line 12)",
     "output_type": "error",
     "traceback": [
      "\u001b[1;36m  File \u001b[1;32m\"<ipython-input-4-9b2f7ccdb21c>\"\u001b[1;36m, line \u001b[1;32m12\u001b[0m\n\u001b[1;33m    if user_input[i] # is fount in list, cont_numbers = true\u001b[0m\n\u001b[1;37m                                                            ^\u001b[0m\n\u001b[1;31mSyntaxError\u001b[0m\u001b[1;31m:\u001b[0m invalid syntax\n"
     ]
    }
   ],
   "source": [
    "user_input = input('Input pass to check or 3-99 to designate length to generate.')\n",
    "import hashlib\n",
    "import secrets\n",
    "pswd = \"\"\n",
    "if 2 < int(user_input) < 100 :       # simple passgen\n",
    "  for i in range(int(user_input)+1):\n",
    "    chr_code = 64 + secrets.randbelow(62)\n",
    "    pswd = pswd + chr(chr_code)\n",
    "  \n",
    "else :\n",
    "    for i in user_input:  \n",
    "      if user_input[i] # is fount in list, cont_numbers = true\n",
    "      if user_input[i] # is fount in list a, cont_lowecase = true\n",
    "      if user_input[i] # is fount in list,   cont_uppercase = true\n"
   ]
  },
  {
   "cell_type": "code",
   "execution_count": null,
   "metadata": {},
   "outputs": [],
   "source": []
  }
 ],
 "metadata": {
  "kernelspec": {
   "display_name": "Python 3",
   "language": "python",
   "name": "python3"
  },
  "language_info": {
   "codemirror_mode": {
    "name": "ipython",
    "version": 3
   },
   "file_extension": ".py",
   "mimetype": "text/x-python",
   "name": "python",
   "nbconvert_exporter": "python",
   "pygments_lexer": "ipython3",
   "version": "3.7.4"
  }
 },
 "nbformat": 4,
 "nbformat_minor": 4
}
