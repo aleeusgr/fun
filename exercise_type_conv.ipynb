{
 "cells": [
  {
   "cell_type": "code",
   "execution_count": 2,
   "metadata": {},
   "outputs": [
    {
     "name": "stdin",
     "output_type": "stream",
     "text": [
      "enter_age,f-t DD-MM-YYYY  27-05-1988\n"
     ]
    },
    {
     "name": "stdout",
     "output_type": "stream",
     "text": [
      "Ye'r 31.48 years old\n"
     ]
    }
   ],
   "source": [
    "user_input = input('enter_age,f-t DD-MM-YYYY ' )\n",
    "day, month, year = map(int, user_input.split('-'))\n",
    "import datetime\n",
    "user_date = datetime.date(year,month, day)\n",
    "now_date = datetime.date.today()\n",
    "user_age = now_date - user_date\n",
    "print (\"Ye'r\", round(user_age.days/365,2) , \"years old\")"
   ]
  },
  {
   "cell_type": "code",
   "execution_count": null,
   "metadata": {},
   "outputs": [],
   "source": []
  }
 ],
 "metadata": {
  "kernelspec": {
   "display_name": "Python 3",
   "language": "python",
   "name": "python3"
  },
  "language_info": {
   "codemirror_mode": {
    "name": "ipython",
    "version": 3
   },
   "file_extension": ".py",
   "mimetype": "text/x-python",
   "name": "python",
   "nbconvert_exporter": "python",
   "pygments_lexer": "ipython3",
   "version": "3.7.4"
  }
 },
 "nbformat": 4,
 "nbformat_minor": 4
}
