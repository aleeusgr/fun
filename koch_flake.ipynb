{
 "cells": [
  {
   "cell_type": "code",
   "execution_count": 12,
   "metadata": {},
   "outputs": [
    {
     "name": "stdin",
     "output_type": "stream",
     "text": [
      "input scale: 200\n",
      "input depth: 3\n"
     ]
    }
   ],
   "source": [
    "#use run > config_per_file > console > execute in ext terminal\n",
    "\n",
    "\n",
    "# Python program to print partial Koch Curve. \n",
    "# importing the libraries : turtle standard  \n",
    "# graphics library for python \n",
    "from turtle import *\n",
    "size = float(input('input scale:'))\n",
    "depth = int(input('input depth:'))\n",
    "#function to create koch snowflake or koch curve \n",
    "def snowflake(lengthSide, levels): \n",
    "    if levels == 0: \n",
    "        forward(lengthSide) \n",
    "        return\n",
    "    lengthSide /= 3.0 #divide length_side by 3.0\n",
    "    snowflake(lengthSide, levels-1) \n",
    "    left(60) \n",
    "    snowflake(lengthSide, levels-1) \n",
    "    right(120) \n",
    "    snowflake(lengthSide, levels-1) \n",
    "    left(60) \n",
    "    snowflake(lengthSide, levels-1) \n",
    "  \n",
    "# main function \n",
    "if __name__ == \"__main__\": \n",
    "  \n",
    "    # defining the speed of the turtle \n",
    "    speed(0)                    \n",
    "    length = size           \n",
    "  \n",
    "    # Pull the pen up – no drawing when moving. \n",
    "    penup()                      \n",
    "      \n",
    "    # Move the turtle backward by distance,  \n",
    "    # opposite to the direction the turtle  \n",
    "    # is headed. \n",
    "    # Do not change the turtle’s heading. \n",
    "    backward(length/2.0)         \n",
    "  \n",
    "    # Pull the pen down – drawing when moving. \n",
    "    pendown()          \n",
    "  \n",
    "    snowflake(length, depth) \n",
    "  \n",
    "    # To control the closing windows of the turtle \n",
    "    done()  \n"
   ]
  },
  {
   "cell_type": "code",
   "execution_count": null,
   "metadata": {},
   "outputs": [],
   "source": []
  }
 ],
 "metadata": {
  "kernelspec": {
   "display_name": "Python 3",
   "language": "python",
   "name": "python3"
  },
  "language_info": {
   "codemirror_mode": {
    "name": "ipython",
    "version": 3
   },
   "file_extension": ".py",
   "mimetype": "text/x-python",
   "name": "python",
   "nbconvert_exporter": "python",
   "pygments_lexer": "ipython3",
   "version": "3.7.4"
  }
 },
 "nbformat": 4,
 "nbformat_minor": 4
}
