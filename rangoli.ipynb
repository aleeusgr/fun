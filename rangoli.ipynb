{
 "cells": [
  {
   "cell_type": "code",
   "execution_count": 1,
   "metadata": {},
   "outputs": [
    {
     "data": {
      "text/plain": [
       "['----------------------------o----------------------------',\n",
       " '--------------------------o-n-o--------------------------',\n",
       " '------------------------o-n-m-n-o------------------------',\n",
       " '----------------------o-n-m-l-m-n-o----------------------',\n",
       " '--------------------o-n-m-l-k-l-m-n-o--------------------',\n",
       " '------------------o-n-m-l-k-j-k-l-m-n-o------------------',\n",
       " '----------------o-n-m-l-k-j-i-j-k-l-m-n-o----------------',\n",
       " '--------------o-n-m-l-k-j-i-h-i-j-k-l-m-n-o--------------',\n",
       " '------------o-n-m-l-k-j-i-h-g-h-i-j-k-l-m-n-o------------',\n",
       " '----------o-n-m-l-k-j-i-h-g-f-g-h-i-j-k-l-m-n-o----------',\n",
       " '--------o-n-m-l-k-j-i-h-g-f-e-f-g-h-i-j-k-l-m-n-o--------',\n",
       " '------o-n-m-l-k-j-i-h-g-f-e-d-e-f-g-h-i-j-k-l-m-n-o------',\n",
       " '----o-n-m-l-k-j-i-h-g-f-e-d-c-d-e-f-g-h-i-j-k-l-m-n-o----',\n",
       " '--o-n-m-l-k-j-i-h-g-f-e-d-c-b-c-d-e-f-g-h-i-j-k-l-m-n-o--',\n",
       " 'o-n-m-l-k-j-i-h-g-f-e-d-c-b-a-b-c-d-e-f-g-h-i-j-k-l-m-n-o',\n",
       " '--o-n-m-l-k-j-i-h-g-f-e-d-c-b-c-d-e-f-g-h-i-j-k-l-m-n-o--',\n",
       " '----o-n-m-l-k-j-i-h-g-f-e-d-c-d-e-f-g-h-i-j-k-l-m-n-o----',\n",
       " '------o-n-m-l-k-j-i-h-g-f-e-d-e-f-g-h-i-j-k-l-m-n-o------',\n",
       " '--------o-n-m-l-k-j-i-h-g-f-e-f-g-h-i-j-k-l-m-n-o--------',\n",
       " '----------o-n-m-l-k-j-i-h-g-f-g-h-i-j-k-l-m-n-o----------',\n",
       " '------------o-n-m-l-k-j-i-h-g-h-i-j-k-l-m-n-o------------',\n",
       " '--------------o-n-m-l-k-j-i-h-i-j-k-l-m-n-o--------------',\n",
       " '----------------o-n-m-l-k-j-i-j-k-l-m-n-o----------------',\n",
       " '------------------o-n-m-l-k-j-k-l-m-n-o------------------',\n",
       " '--------------------o-n-m-l-k-l-m-n-o--------------------',\n",
       " '----------------------o-n-m-l-m-n-o----------------------',\n",
       " '------------------------o-n-m-n-o------------------------',\n",
       " '--------------------------o-n-o--------------------------',\n",
       " '----------------------------o----------------------------']"
      ]
     },
     "execution_count": 1,
     "metadata": {},
     "output_type": "execute_result"
    }
   ],
   "source": [
    "def print_rangoli(size):\n",
    "    chr_lst=list(map(chr, range(97, 97+size)))\n",
    "    width=4*(size-1)+1\n",
    "    def sym_range (size,start=0,step=1):\n",
    "        '''same as range(), but goes up and down'''\n",
    "        if size==0:\n",
    "            return (0,)\n",
    "        values=()\n",
    "        for i in range(start,start+size-1,step):\n",
    "            values+=(i,)\n",
    "        for i in range(start+size-1,start-1,-step):\n",
    "            values+=(i,)                \n",
    "        return values\n",
    "    carpet=[]\n",
    "    for line_order in sym_range(size):\n",
    "        #use string.join() to populate string             \n",
    "        line=''\n",
    "        for num in sym_range(line_order+1):\n",
    "            line+=str(chr_lst[len(chr_lst)-num-1])+'-'\n",
    "        \n",
    "        carpet.append('{:{fill}^{width}}'.format(line[:-1] ,fill='-',width=width))        \n",
    "    return carpet\n",
    "size=15\n",
    "print_rangoli(size)"
   ]
  },
  {
   "cell_type": "code",
   "execution_count": null,
   "metadata": {},
   "outputs": [],
   "source": []
  }
 ],
 "metadata": {
  "kernelspec": {
   "display_name": "Python 3",
   "language": "python",
   "name": "python3"
  },
  "language_info": {
   "codemirror_mode": {
    "name": "ipython",
    "version": 3
   },
   "file_extension": ".py",
   "mimetype": "text/x-python",
   "name": "python",
   "nbconvert_exporter": "python",
   "pygments_lexer": "ipython3",
   "version": "3.7.6"
  }
 },
 "nbformat": 4,
 "nbformat_minor": 4
}
