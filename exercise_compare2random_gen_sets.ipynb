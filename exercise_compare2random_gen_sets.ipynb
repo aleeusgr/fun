{
 "cells": [
  {
   "cell_type": "code",
   "execution_count": 24,
   "metadata": {},
   "outputs": [
    {
     "name": "stdin",
     "output_type": "stream",
     "text": [
      "Enter list length 99\n"
     ]
    },
    {
     "name": "stdout",
     "output_type": "stream",
     "text": [
      "['Ö', 'Ú', 'ĕ', 'Ƚ', 'ʂ', 'ʧ', '˗', 'ͅ', '͟', 'ͨ']\n"
     ]
    }
   ],
   "source": [
    "import random\n",
    "length = int(input('Enter list length'))\n",
    "list_a = []\n",
    "list_b = []\n",
    "for i in range(length):\n",
    "    chr_code_a = random.randrange(1,999)\n",
    "    chr_code_b = random.randrange(1,999)\n",
    "    list_a.append(chr(chr_code_a))\n",
    "    list_b.append(chr(chr_code_b))\n",
    "#print(list_a,'***',list_b)\n",
    "section = list(set(list_a).intersection(list_b))\n",
    "section.sort()\n",
    "print(section)\n"
   ]
  },
  {
   "cell_type": "code",
   "execution_count": null,
   "metadata": {},
   "outputs": [],
   "source": []
  }
 ],
 "metadata": {
  "kernelspec": {
   "display_name": "Python 3",
   "language": "python",
   "name": "python3"
  },
  "language_info": {
   "codemirror_mode": {
    "name": "ipython",
    "version": 3
   },
   "file_extension": ".py",
   "mimetype": "text/x-python",
   "name": "python",
   "nbconvert_exporter": "python",
   "pygments_lexer": "ipython3",
   "version": "3.7.4"
  }
 },
 "nbformat": 4,
 "nbformat_minor": 4
}
