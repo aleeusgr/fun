{
 "cells": [
  {
   "cell_type": "markdown",
   "id": "d4e3d1a9-5f3a-4dac-ba0e-35161aeef4c2",
   "metadata": {},
   "source": [
    "## Case:"
   ]
  },
  {
   "cell_type": "markdown",
   "id": "6d21d5d7-f15a-441b-861a-a51f2f9f802f",
   "metadata": {},
   "source": [
    "An ant leaves its anthill in order to forage for food. It moves with the speed of 10cm per second, but it doesn't know where to go, therefore every second it moves randomly 10cm directly north, south, east or west with equal probability.\n",
    "\n",
    "1. If the food is located on east-west lines 20cm to the north and 20cm to the south, as well as on north-south lines 20cm to the east and 20cm to the west from the anthill, how long will it take the ant to reach it on average?\n",
    "2. What is the average time the ant will reach food if it is located only on a diagonal line passing through (10cm, 0cm) and (0cm, 10cm) points?\n",
    "3. Can you write a program that comes up with an estimate of average time to find food for any closed boundary around the anthill? What would be the answer if food is located outside an defined by <br>\n",
    "$( \\frac{x – 2.5cm} {30cm} )^2 + ( \\frac{y – 2.5cm} {40cm} )^{2} < 1$ <br>\n",
    "in coordinate system where the anthill is located at (x = 0cm, y = 0cm)? Provide us with a solution rounded to the nearest integer.\n",
    "\n"
   ]
  },
  {
   "cell_type": "markdown",
   "id": "10cb1068-1d31-48a2-99e2-feb93a8b6da9",
   "metadata": {},
   "source": [
    "first of all, this here is an example of simple random walk in $\\mathbb{Z}^2$"
   ]
  },
  {
   "cell_type": "markdown",
   "id": "c2197558-f3d5-4bc9-bf29-847fd5ee2965",
   "metadata": {},
   "source": [
    "#### 1. Boxed by food \n",
    "Let us visualise the case <br>"
   ]
  },
  {
   "cell_type": "code",
   "execution_count": 4,
   "id": "8e12549f-e380-42a9-a87d-643346ca0a8b",
   "metadata": {
    "jupyter": {
     "source_hidden": true
    },
    "tags": []
   },
   "outputs": [],
   "source": [
    "import numpy as np\n",
    "import matplotlib.pyplot as plt\n",
    "from itertools import permutations \n"
   ]
  },
  {
   "cell_type": "code",
   "execution_count": 14,
   "id": "f88a10fb-77b5-4a1c-ac24-e00f2c49d32a",
   "metadata": {
    "jupyter": {
     "source_hidden": true
    },
    "tags": []
   },
   "outputs": [
    {
     "data": {
      "image/png": "[encoded data removed]",
      "text/plain": [
       "<Figure size 720x720 with 1 Axes>"
      ]
     },
     "metadata": {
      "needs_background": "light"
     },
     "output_type": "display_data"
    }
   ],
   "source": [
    "fig, ax = plt.subplots(figsize=(10, 10))\n",
    "velocity = 10\n",
    "movement_vectors = np.array([[0,velocity], [velocity,0], [0,-1*velocity], [-1*velocity,0]])\n",
    "\n",
    "def plot_ant(ax, movement_vectors, scale = 45):\n",
    "   \n",
    "    origin = np.array([[0, 0, 0, 0],[0, 0, 0, 0]]) # origin point\n",
    "    ax.quiver(*origin, movement_vectors[:,0], movement_vectors[:,1], scale = scale, alpha = 0.25)\n",
    "    ax.plot(0,0, 'go', label = 'origin')\n",
    "    \n",
    "\n",
    "plot_ant(ax, movement_vectors, 45)\n",
    "\n",
    "food = np.linspace(-20,20,5)\n",
    "coord = np.full((len(food)),20)\n",
    "a=permutations ([food, coord],2)\n",
    "for i in a:\n",
    "    for j in (1,-1):\n",
    "        ax.plot(j*i[0],j*i[1],'ro')\n",
    "\n",
    "def plot_grid(ax):\n",
    "    major_ticks = np.arange(-20, food[-1]+1, 10)\n",
    "    ax.set_xticks(major_ticks)\n",
    "    ax.set_yticks(major_ticks)\n",
    "    ax.grid()\n",
    "plot_grid(ax)\n",
    "plt.show()"
   ]
  },
  {
   "cell_type": "markdown",
   "id": "51be15ac-8fd2-42c4-a2b7-a762f0fc21c6",
   "metadata": {},
   "source": [
    "One way to study stochastic processes is simulation, here is a simulation I wrote on a train using python for Android: "
   ]
  },
  {
   "cell_type": "code",
   "execution_count": 45,
   "id": "b95d474c-7237-4c87-b214-ecd02e99492c",
   "metadata": {
    "jupyter": {
     "source_hidden": true
    },
    "tags": []
   },
   "outputs": [
    {
     "name": "stdout",
     "output_type": "stream",
     "text": [
      "Average length of a random walk is 4.42 based on parameters: iterations: 1000 , distance from origin: 20, velocity: 10, \n"
     ]
    },
    {
     "data": {
      "image/png": "[encoded data removed]",
      "text/plain": [
       "<Figure size 432x288 with 1 Axes>"
      ]
     },
     "metadata": {
      "needs_background": "light"
     },
     "output_type": "display_data"
    }
   ],
   "source": [
    "def distance (coord =(1,1)): #default value for testing purposes\n",
    "    ''' Pythagoras theorem'''\n",
    "    import math\n",
    "    return math.sqrt(sum((i**2 for i in coord)))\n",
    "\n",
    "def move(coord = (0,0), v=10):\n",
    "    \n",
    "    import random\n",
    "    steps = ((0,v),(v,0),(0,-1*v),(-1*v,0))\n",
    "    step = random.choice(steps)\n",
    "    return [sum(x) for x in zip(coord,step)]\n",
    "\n",
    "def simulate_1(limit=20, v = 10):\n",
    "    coord =(0,0)    \n",
    "    length = 0\n",
    "    while distance (coord)<limit:\n",
    "        length+=1\n",
    "        coord = move(coord,v)\n",
    "    return length, coord\n",
    "\n",
    "iterations = 1000\n",
    "velocity = 10\n",
    "dist = 20\n",
    "lengths =()\n",
    "coords = ()\n",
    "for i in range (iterations):\n",
    "    l, c = simulate_1(dist,velocity)\n",
    "    lengths+=l,\n",
    "    coords+=c,\n",
    "time = sum(lengths)/len(lengths)\n",
    "\n",
    "print('Average length of a random walk is {} based on parameters: iterations: {} , distance from origin: {}, velocity: {}, '.format(time, iterations, dist, velocity))\n",
    "plt.title(label= 'Walk lengths distribution:')\n",
    "plt.hist(lengths)\n",
    "plt.show()\n"
   ]
  },
  {
   "cell_type": "markdown",
   "id": "d4fc7e78-00af-49fb-912d-f82fd4b54676",
   "metadata": {},
   "source": [
    "https://digitalcommons.wku.edu/cgi/viewcontent.cgi?article=2504&context=theses\n"
   ]
  },
  {
   "cell_type": "code",
   "execution_count": null,
   "id": "4befc437-714e-409d-84c9-4bf2aedbbbd3",
   "metadata": {},
   "outputs": [],
   "source": [
    "#and distance to go back??"
   ]
  },
  {
   "cell_type": "markdown",
   "id": "3c559c53-7eb9-45af-82be-28401e32ea37",
   "metadata": {},
   "source": [
    "### 2. Food on a diagonal"
   ]
  },
  {
   "cell_type": "code",
   "execution_count": 7,
   "id": "689fb4b4-7d3f-4c10-8305-dfa12efabdf5",
   "metadata": {
    "jupyter": {
     "source_hidden": true
    },
    "tags": []
   },
   "outputs": [
    {
     "data": {
      "image/png": "[encoded data removed]",
      "text/plain": [
       "<Figure size 720x720 with 1 Axes>"
      ]
     },
     "metadata": {
      "needs_background": "light"
     },
     "output_type": "display_data"
    }
   ],
   "source": [
    "fig, ax = plt.subplots(figsize=(10, 10))\n",
    "\n",
    "plot_ant(ax,scale = 42)\n",
    "food_x = np.arange(-10,21,10)\n",
    "food_y = 10-food_x\n",
    "plt.plot(food_x,food_y, 'r-')\n",
    "plot_grid(ax)\n",
    "plt.show()"
   ]
  },
  {
   "cell_type": "markdown",
   "id": "c1e3fd0f-6468-442c-b4d4-8dd7adb11cbc",
   "metadata": {},
   "source": [
    "If we look at things at other angle, we would see Gambler's ruin with fair coin flipping for two players. ??\n",
    "The set of all lengths \n"
   ]
  },
  {
   "cell_type": "code",
   "execution_count": 12,
   "id": "8896701b-1c79-4159-9592-325c642ae758",
   "metadata": {},
   "outputs": [
    {
     "name": "stdout",
     "output_type": "stream",
     "text": [
      "[[  0  10]\n",
      " [ 10   0]\n",
      " [  0 -10]\n",
      " [-10   0]]\n"
     ]
    }
   ],
   "source": [
    "v = 10\n",
    "movement_vectors = np.array(((0,v),(v,0),(0,-1*v),(-1*v,0)))"
   ]
  }
 ],
 "metadata": {
  "kernelspec": {
   "display_name": "Python 3",
   "language": "python",
   "name": "python3"
  },
  "language_info": {
   "codemirror_mode": {
    "name": "ipython",
    "version": 3
   },
   "file_extension": ".py",
   "mimetype": "text/x-python",
   "name": "python",
   "nbconvert_exporter": "python",
   "pygments_lexer": "ipython3",
   "version": "3.7.11"
  }
 },
 "nbformat": 4,
 "nbformat_minor": 5
}
