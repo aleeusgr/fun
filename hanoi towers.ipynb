{
 "cells": [
  {
   "cell_type": "code",
   "execution_count": 1,
   "metadata": {},
   "outputs": [
    {
     "data": {
      "text/plain": [
       "'\\n    1.Only one disk can be moved at a time.\\n    2.Each move consists of taking the upper disk from one of the stacks and placing it on top of another stack or on an empty rod.\\n    3.No larger disk may be placed on top of a smaller disk.'"
      ]
     },
     "execution_count": 1,
     "metadata": {},
     "output_type": "execute_result"
    }
   ],
   "source": [
    "\"\"\"case study for 6.0001, lecture 6:\n",
    "               \n",
    "               RECURSION!!!!\n",
    "   \n",
    "   use a sorting algorithm to solve towers of hanoi\n",
    "   3 pillars, one has n disks of reducing size\"\"\"\n",
    "'''\n",
    "    1.Only one disk can be moved at a time.\n",
    "    2.Each move consists of taking the upper disk from one of the stacks and placing it on top of another stack or on an empty rod.\n",
    "    3.No larger disk may be placed on top of a smaller disk.'''"
   ]
  },
  {
   "cell_type": "code",
   "execution_count": 2,
   "metadata": {},
   "outputs": [],
   "source": [
    "import numpy as np\n",
    "def reset(size):\n",
    "    pillars=np.zeros((3,size),dtype=int)\n",
    "    pillars.reshape(size,3)\n",
    "    pillars[:1]=np.arange(1,size+1)\n",
    "    return pillars\n",
    "def show():\n",
    "    size=len(pillars[0])\n",
    "    for layer in range(size):\n",
    "        print(\"{0:^{width}}\".format('='*pillars[0,layer]\n",
    "              +str(pillars[0,layer])\n",
    "                                    +'='*pillars[0,layer],width=2*size+5)\n",
    "              +\"{0:^{width}}\".format('='*pillars[1,layer]\n",
    "              +str(pillars[1,layer])\n",
    "                                     +'='*pillars[1,layer],width=2*size+5)\n",
    "              +\"{0:^{width}}\".format('='*pillars[2,layer]\n",
    "              +str(pillars[2,layer])\n",
    "                                     +'='*pillars[2,layer],width=2*size+5))\n",
    "def move_disk(k,p):\n",
    "    '''\n",
    "    moves disk number (n) to pillar (p)\n",
    "    '''\n",
    "    pos = np.where(pillars==k)\n",
    "    hand = int(pillars[pos[0].item(),\n",
    "                       pos[1].item()])\n",
    "    pillars[pos[0],\n",
    "            pos[1]] = 0 \n",
    "    l=size-1\n",
    "    while pillars[p,l]>0:\n",
    "        l-=1\n",
    "    pillars[p,l]=hand"
   ]
  },
  {
   "cell_type": "code",
   "execution_count": 3,
   "metadata": {},
   "outputs": [
    {
     "name": "stdout",
     "output_type": "stream",
     "text": [
      "step:  0\n",
      "     =1=           0            0      \n",
      "    ==2==          0            0      \n",
      "   ===3===         0            0      \n",
      "  ====4====        0            0      \n",
      "step:  1\n",
      "      0            0            0      \n",
      "    ==2==          0            0      \n",
      "   ===3===         0            0      \n",
      "  ====4====       =1=           0      \n",
      "step:  2\n",
      "      0            0            0      \n",
      "      0            0            0      \n",
      "   ===3===         0            0      \n",
      "  ====4====       =1=         ==2==    \n",
      "step:  3\n",
      "      0            0            0      \n",
      "      0            0            0      \n",
      "   ===3===         0           =1=     \n",
      "  ====4====        0          ==2==    \n",
      "step:  4\n",
      "      0            0            0      \n",
      "      0            0            0      \n",
      "      0            0           =1=     \n",
      "  ====4====     ===3===       ==2==    \n",
      "step:  5\n",
      "      0            0            0      \n",
      "      0            0            0      \n",
      "     =1=           0            0      \n",
      "  ====4====     ===3===       ==2==    \n",
      "step:  6\n",
      "      0            0            0      \n",
      "      0            0            0      \n",
      "     =1=         ==2==          0      \n",
      "  ====4====     ===3===         0      \n",
      "step:  7\n",
      "      0            0            0      \n",
      "      0           =1=           0      \n",
      "      0          ==2==          0      \n",
      "  ====4====     ===3===         0      \n",
      "step:  8\n",
      "      0            0            0      \n",
      "      0           =1=           0      \n",
      "      0          ==2==          0      \n",
      "      0         ===3===     ====4====  \n",
      "step:  9\n",
      "      0            0            0      \n",
      "      0            0            0      \n",
      "      0          ==2==         =1=     \n",
      "      0         ===3===     ====4====  \n",
      "step:  10\n",
      "      0            0            0      \n",
      "      0            0            0      \n",
      "      0            0           =1=     \n",
      "    ==2==       ===3===     ====4====  \n",
      "step:  11\n",
      "      0            0            0      \n",
      "      0            0            0      \n",
      "     =1=           0            0      \n",
      "    ==2==       ===3===     ====4====  \n",
      "step:  12\n",
      "      0            0            0      \n",
      "      0            0            0      \n",
      "     =1=           0         ===3===   \n",
      "    ==2==          0        ====4====  \n",
      "step:  13\n",
      "      0            0            0      \n",
      "      0            0            0      \n",
      "      0            0         ===3===   \n",
      "    ==2==         =1=       ====4====  \n",
      "step:  14\n",
      "      0            0            0      \n",
      "      0            0          ==2==    \n",
      "      0            0         ===3===   \n",
      "      0           =1=       ====4====  \n",
      "15\n",
      "      0            0           =1=     \n",
      "      0            0          ==2==    \n",
      "      0            0         ===3===   \n",
      "      0            0        ====4====  \n"
     ]
    }
   ],
   "source": [
    "\"\"\"Solution by hand, nps4 - solutions for size 4 produced by hand\"\"\"\n",
    "size=4                             #n=size\n",
    "pillars=reset(size)\n",
    "kps4=((1, 1),         \n",
    "      (2, 2), (1, 2),    \n",
    "      (3, 1),                 \n",
    "      (1, 0),            \n",
    "      (2, 1), (1, 1),         \n",
    "      (4, 2),                      \n",
    "      (1, 2), (2, 0), \n",
    "      (1, 0), \n",
    "      (3, 2), \n",
    "      (1, 1), (2, 2), \n",
    "      (1, 2))\n",
    "kps=()\n",
    "i=0\n",
    "# for i in range(size**2):\n",
    "while pillars[2,0].item()==0:\n",
    "    print('step: ',i)\n",
    "    if i>len(kps4)-1:\n",
    "            k,p=map(int,input().split())\n",
    "    else:\n",
    "        k,p=kps4[i][0],kps4[i][1]\n",
    "    i+=1\n",
    "    show()\n",
    "    kps+=((k,p),)\n",
    "    move_disk(k,p)\n",
    "print(i)\n",
    "show()"
   ]
  },
  {
   "cell_type": "raw",
   "metadata": {},
   "source": [
    "label 3 stacks (from,to,spare) {o},{t},{e}\n",
    "if size is 1, move the tower size 1 from {o} to {t}\n",
    "otherwise move tower (n-1) to {e}\n",
    "move tower size 1 from to the {t}\n",
    "move tower (n-1) to {t}"
   ]
  },
  {
   "cell_type": "code",
   "execution_count": 5,
   "metadata": {},
   "outputs": [
    {
     "name": "stdout",
     "output_type": "stream",
     "text": [
      "           =1=                       0                        0            \n",
      "          ==2==                      0                        0            \n",
      "         ===3===                     0                        0            \n",
      "        ====4====                    0                        0            \n",
      "       =====5=====                   0                        0            \n",
      "      ======6======                  0                        0            \n",
      "     =======7=======                 0                        0            \n",
      "    ========8========                0                        0            \n",
      "   =========9=========               0                        0            \n",
      " ==========10==========              0                        0            \n",
      "None\n"
     ]
    }
   ],
   "source": [
    "size=10\n",
    "pillars=reset(size)\n",
    "show()\n",
    "def move(fr,to):\n",
    "    return (1,2)\n",
    "\n",
    "def towers(n,fr,to,spare):\n",
    "    if n==1:\n",
    "        move(fr,to)\n",
    "    else:\n",
    "        towers(n-1,fr,spare,to)\n",
    "        towers(1,fr,to,spare)\n",
    "        towers(n-1,spare,to,fr)\n",
    "        \n",
    "print(towers(size,0,2,1))"
   ]
  },
  {
   "cell_type": "code",
   "execution_count": null,
   "metadata": {},
   "outputs": [],
   "source": []
  }
 ],
 "metadata": {
  "kernelspec": {
   "display_name": "Python 3",
   "language": "python",
   "name": "python3"
  },
  "language_info": {
   "codemirror_mode": {
    "name": "ipython",
    "version": 3
   },
   "file_extension": ".py",
   "mimetype": "text/x-python",
   "name": "python",
   "nbconvert_exporter": "python",
   "pygments_lexer": "ipython3",
   "version": "3.7.6"
  }
 },
 "nbformat": 4,
 "nbformat_minor": 4
}
