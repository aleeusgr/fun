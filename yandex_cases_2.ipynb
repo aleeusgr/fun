{
 "cells": [
  {
   "cell_type": "markdown",
   "id": "5a3713bd-76b7-40b3-ad94-c1e6b993d66c",
   "metadata": {
    "tags": []
   },
   "source": [
    "### Task1\n",
    "To complete this task, use the data set in the attached file. Indicate the answer to each of the\n",
    "following steps and time to complete the entire task."
   ]
  },
  {
   "cell_type": "markdown",
   "id": "9a6a8893-b0f6-4ef8-99f8-2a0212b562d9",
   "metadata": {
    "tags": []
   },
   "source": [
    "\n",
    "1.1. Download the data set movie_metadata.csv, which contains data about films from IMDb\n",
    "(Internet Movie Database).\n",
    "\n",
    "[movie_metadata.csv](https://s3-us-west-2.amazonaws.com/secure.notion-static.com/ad88c1ae-a16a-4a9b-a0dd-a12ecc5a9568/movie_metadata.csv)"
   ]
  },
  {
   "cell_type": "code",
   "execution_count": 4,
   "id": "88b4c78f-c6a1-4c5d-9bae-b301edddb6ab",
   "metadata": {
    "tags": []
   },
   "outputs": [
    {
     "data": {
      "text/html": [
       "<div>\n",
       "<style scoped>\n",
       "    .dataframe tbody tr th:only-of-type {\n",
       "        vertical-align: middle;\n",
       "    }\n",
       "\n",
       "    .dataframe tbody tr th {\n",
       "        vertical-align: top;\n",
       "    }\n",
       "\n",
       "    .dataframe thead th {\n",
       "        text-align: right;\n",
       "    }\n",
       "</style>\n",
       "<table border=\"1\" class=\"dataframe\">\n",
       "  <thead>\n",
       "    <tr style=\"text-align: right;\">\n",
       "      <th></th>\n",
       "      <th>color</th>\n",
       "      <th>director_name</th>\n",
       "      <th>num_critic_for_reviews</th>\n",
       "      <th>duration</th>\n",
       "      <th>director_facebook_likes</th>\n",
       "      <th>actor_3_facebook_likes</th>\n",
       "      <th>actor_2_name</th>\n",
       "      <th>actor_1_facebook_likes</th>\n",
       "      <th>gross</th>\n",
       "      <th>genres</th>\n",
       "      <th>...</th>\n",
       "      <th>num_user_for_reviews</th>\n",
       "      <th>language</th>\n",
       "      <th>country</th>\n",
       "      <th>content_rating</th>\n",
       "      <th>budget</th>\n",
       "      <th>title_year</th>\n",
       "      <th>actor_2_facebook_likes</th>\n",
       "      <th>imdb_score</th>\n",
       "      <th>aspect_ratio</th>\n",
       "      <th>movie_facebook_likes</th>\n",
       "    </tr>\n",
       "  </thead>\n",
       "  <tbody>\n",
       "    <tr>\n",
       "      <th>0</th>\n",
       "      <td>Color</td>\n",
       "      <td>James Cameron</td>\n",
       "      <td>723.0</td>\n",
       "      <td>178.0</td>\n",
       "      <td>0.0</td>\n",
       "      <td>855.0</td>\n",
       "      <td>Joel David Moore</td>\n",
       "      <td>1000.0</td>\n",
       "      <td>760505847.0</td>\n",
       "      <td>Action|Adventure|Fantasy|Sci-Fi</td>\n",
       "      <td>...</td>\n",
       "      <td>3054.0</td>\n",
       "      <td>English</td>\n",
       "      <td>USA</td>\n",
       "      <td>PG-13</td>\n",
       "      <td>237000000.0$</td>\n",
       "      <td>2009.0</td>\n",
       "      <td>936.0</td>\n",
       "      <td>7.9</td>\n",
       "      <td>1.78</td>\n",
       "      <td>33000</td>\n",
       "    </tr>\n",
       "    <tr>\n",
       "      <th>1</th>\n",
       "      <td>Color</td>\n",
       "      <td>Gore Verbinski</td>\n",
       "      <td>302.0</td>\n",
       "      <td>169.0</td>\n",
       "      <td>563.0</td>\n",
       "      <td>1000.0</td>\n",
       "      <td>Orlando Bloom</td>\n",
       "      <td>40000.0</td>\n",
       "      <td>309404152.0</td>\n",
       "      <td>Action|Adventure|Fantasy</td>\n",
       "      <td>...</td>\n",
       "      <td>1238.0</td>\n",
       "      <td>English</td>\n",
       "      <td>USA</td>\n",
       "      <td>PG-13</td>\n",
       "      <td>300000000.0$</td>\n",
       "      <td>2007.0</td>\n",
       "      <td>5000.0</td>\n",
       "      <td>7.1</td>\n",
       "      <td>2.35</td>\n",
       "      <td>0</td>\n",
       "    </tr>\n",
       "    <tr>\n",
       "      <th>2</th>\n",
       "      <td>Color</td>\n",
       "      <td>Sam Mendes</td>\n",
       "      <td>602.0</td>\n",
       "      <td>148.0</td>\n",
       "      <td>0.0</td>\n",
       "      <td>161.0</td>\n",
       "      <td>Rory Kinnear</td>\n",
       "      <td>11000.0</td>\n",
       "      <td>200074175.0</td>\n",
       "      <td>Action|Adventure|Thriller</td>\n",
       "      <td>...</td>\n",
       "      <td>994.0</td>\n",
       "      <td>English</td>\n",
       "      <td>UK</td>\n",
       "      <td>PG-13</td>\n",
       "      <td>245000000.0$</td>\n",
       "      <td>2015.0</td>\n",
       "      <td>393.0</td>\n",
       "      <td>6.8</td>\n",
       "      <td>2.35</td>\n",
       "      <td>85000</td>\n",
       "    </tr>\n",
       "    <tr>\n",
       "      <th>3</th>\n",
       "      <td>Color</td>\n",
       "      <td>Christopher Nolan</td>\n",
       "      <td>813.0</td>\n",
       "      <td>164.0</td>\n",
       "      <td>22000.0</td>\n",
       "      <td>23000.0</td>\n",
       "      <td>Christian Bale</td>\n",
       "      <td>27000.0</td>\n",
       "      <td>448130642.0</td>\n",
       "      <td>Action|Thriller</td>\n",
       "      <td>...</td>\n",
       "      <td>2701.0</td>\n",
       "      <td>English</td>\n",
       "      <td>USA</td>\n",
       "      <td>PG-13</td>\n",
       "      <td>250000000.0$</td>\n",
       "      <td>2012.0</td>\n",
       "      <td>23000.0</td>\n",
       "      <td>8.5</td>\n",
       "      <td>2.35</td>\n",
       "      <td>164000</td>\n",
       "    </tr>\n",
       "    <tr>\n",
       "      <th>4</th>\n",
       "      <td>NaN</td>\n",
       "      <td>Doug Walker</td>\n",
       "      <td>NaN</td>\n",
       "      <td>NaN</td>\n",
       "      <td>131.0</td>\n",
       "      <td>NaN</td>\n",
       "      <td>Rob Walker</td>\n",
       "      <td>131.0</td>\n",
       "      <td>NaN</td>\n",
       "      <td>Documentary</td>\n",
       "      <td>...</td>\n",
       "      <td>NaN</td>\n",
       "      <td>NaN</td>\n",
       "      <td>NaN</td>\n",
       "      <td>NaN</td>\n",
       "      <td>0.0$</td>\n",
       "      <td>NaN</td>\n",
       "      <td>12.0</td>\n",
       "      <td>7.1</td>\n",
       "      <td>NaN</td>\n",
       "      <td>0</td>\n",
       "    </tr>\n",
       "  </tbody>\n",
       "</table>\n",
       "<p>5 rows × 28 columns</p>\n",
       "</div>"
      ],
      "text/plain": [
       "   color      director_name  num_critic_for_reviews  duration  \\\n",
       "0  Color      James Cameron                   723.0     178.0   \n",
       "1  Color     Gore Verbinski                   302.0     169.0   \n",
       "2  Color         Sam Mendes                   602.0     148.0   \n",
       "3  Color  Christopher Nolan                   813.0     164.0   \n",
       "4    NaN        Doug Walker                     NaN       NaN   \n",
       "\n",
       "   director_facebook_likes  actor_3_facebook_likes      actor_2_name  \\\n",
       "0                      0.0                   855.0  Joel David Moore   \n",
       "1                    563.0                  1000.0     Orlando Bloom   \n",
       "2                      0.0                   161.0      Rory Kinnear   \n",
       "3                  22000.0                 23000.0    Christian Bale   \n",
       "4                    131.0                     NaN        Rob Walker   \n",
       "\n",
       "   actor_1_facebook_likes        gross                           genres  ...  \\\n",
       "0                  1000.0  760505847.0  Action|Adventure|Fantasy|Sci-Fi  ...   \n",
       "1                 40000.0  309404152.0         Action|Adventure|Fantasy  ...   \n",
       "2                 11000.0  200074175.0        Action|Adventure|Thriller  ...   \n",
       "3                 27000.0  448130642.0                  Action|Thriller  ...   \n",
       "4                   131.0          NaN                      Documentary  ...   \n",
       "\n",
       "  num_user_for_reviews language  country  content_rating        budget  \\\n",
       "0               3054.0  English      USA           PG-13  237000000.0$   \n",
       "1               1238.0  English      USA           PG-13  300000000.0$   \n",
       "2                994.0  English       UK           PG-13  245000000.0$   \n",
       "3               2701.0  English      USA           PG-13  250000000.0$   \n",
       "4                  NaN      NaN      NaN             NaN          0.0$   \n",
       "\n",
       "   title_year actor_2_facebook_likes imdb_score  aspect_ratio  \\\n",
       "0      2009.0                  936.0        7.9          1.78   \n",
       "1      2007.0                 5000.0        7.1          2.35   \n",
       "2      2015.0                  393.0        6.8          2.35   \n",
       "3      2012.0                23000.0        8.5          2.35   \n",
       "4         NaN                   12.0        7.1           NaN   \n",
       "\n",
       "  movie_facebook_likes  \n",
       "0                33000  \n",
       "1                    0  \n",
       "2                85000  \n",
       "3               164000  \n",
       "4                    0  \n",
       "\n",
       "[5 rows x 28 columns]"
      ]
     },
     "execution_count": 4,
     "metadata": {},
     "output_type": "execute_result"
    }
   ],
   "source": [
    "import pandas as pd\n",
    "df = pd.read_csv('/home/alex/HDD/workshop/.datasets/yndx/movie_metadata.csv')\n",
    "df.head()"
   ]
  },
  {
   "cell_type": "markdown",
   "id": "f691055e-8799-4af0-9868-7f41279db480",
   "metadata": {
    "tags": []
   },
   "source": [
    "1.2. The __duration__ column contains data on the film __length__. How many missing values are there\n",
    "in this column?"
   ]
  },
  {
   "cell_type": "code",
   "execution_count": 3,
   "id": "a302a996-a320-43ca-9acb-1c01a05e03f7",
   "metadata": {
    "tags": []
   },
   "outputs": [
    {
     "data": {
      "text/plain": [
       "15"
      ]
     },
     "execution_count": 3,
     "metadata": {},
     "output_type": "execute_result"
    }
   ],
   "source": [
    "df.duration.isnull().sum()"
   ]
  },
  {
   "cell_type": "markdown",
   "id": "f7a04af9-f650-4bbc-9419-8c7341c45370",
   "metadata": {
    "tags": []
   },
   "source": [
    "1.3. Replace the missing values in the duration column with the median value for this column."
   ]
  },
  {
   "cell_type": "code",
   "execution_count": 4,
   "id": "56d84ea7-21e1-4b7f-8ac9-1b193abb7f23",
   "metadata": {
    "collapsed": true,
    "jupyter": {
     "outputs_hidden": true,
     "source_hidden": true
    },
    "tags": []
   },
   "outputs": [
    {
     "data": {
      "text/plain": [
       "0"
      ]
     },
     "execution_count": 4,
     "metadata": {},
     "output_type": "execute_result"
    }
   ],
   "source": [
    "duration_m = df.duration.median()\n",
    "df.duration.fillna(duration_m,inplace=True)\n",
    "df.duration.isnull().sum()"
   ]
  },
  {
   "cell_type": "markdown",
   "id": "0b142fbd-8789-4d63-bd04-376804152fb8",
   "metadata": {
    "jupyter": {
     "source_hidden": true
    },
    "tags": []
   },
   "source": [
    "1.4. What is the average film length? Give the answer as a floating-point figure rounded to\n",
    "two decimal places."
   ]
  },
  {
   "cell_type": "code",
   "execution_count": 5,
   "id": "58acb3ec-9b18-4b44-8bb8-32e15f21075e",
   "metadata": {
    "collapsed": true,
    "jupyter": {
     "outputs_hidden": true,
     "source_hidden": true
    },
    "tags": []
   },
   "outputs": [
    {
     "data": {
      "text/plain": [
       "107.19"
      ]
     },
     "execution_count": 5,
     "metadata": {},
     "output_type": "execute_result"
    }
   ],
   "source": [
    "round(df.duration.mean(),2)"
   ]
  },
  {
   "cell_type": "markdown",
   "id": "60017a67-163e-47f8-8134-028f622e13ad",
   "metadata": {
    "jupyter": {
     "source_hidden": true
    },
    "tags": []
   },
   "source": [
    "1.5. Create a movie_duration_category column, which will contain three categories\n",
    "depending on the film length:\n",
    "• Category \"1. <90\" if the film is less than 90 minutes long\n",
    "• Category \"2. 90–120\" if the film is between 90 minutes and two hours long (inclusively)\n",
    "• Category \"3. >120\" if the film is more than two hours long"
   ]
  },
  {
   "cell_type": "code",
   "execution_count": 10,
   "id": "69c39c72-3053-4504-adfe-d8d417d08609",
   "metadata": {
    "collapsed": true,
    "jupyter": {
     "outputs_hidden": true,
     "source_hidden": true
    },
    "tags": []
   },
   "outputs": [
    {
     "data": {
      "text/html": [
       "<div>\n",
       "<style scoped>\n",
       "    .dataframe tbody tr th:only-of-type {\n",
       "        vertical-align: middle;\n",
       "    }\n",
       "\n",
       "    .dataframe tbody tr th {\n",
       "        vertical-align: top;\n",
       "    }\n",
       "\n",
       "    .dataframe thead th {\n",
       "        text-align: right;\n",
       "    }\n",
       "</style>\n",
       "<table border=\"1\" class=\"dataframe\">\n",
       "  <thead>\n",
       "    <tr style=\"text-align: right;\">\n",
       "      <th></th>\n",
       "      <th>duration</th>\n",
       "      <th>movie_duration_category</th>\n",
       "    </tr>\n",
       "  </thead>\n",
       "  <tbody>\n",
       "    <tr>\n",
       "      <th>0</th>\n",
       "      <td>178.0</td>\n",
       "      <td>&gt;120</td>\n",
       "    </tr>\n",
       "    <tr>\n",
       "      <th>1</th>\n",
       "      <td>169.0</td>\n",
       "      <td>&gt;120</td>\n",
       "    </tr>\n",
       "    <tr>\n",
       "      <th>2</th>\n",
       "      <td>148.0</td>\n",
       "      <td>&gt;120</td>\n",
       "    </tr>\n",
       "    <tr>\n",
       "      <th>3</th>\n",
       "      <td>164.0</td>\n",
       "      <td>&gt;120</td>\n",
       "    </tr>\n",
       "    <tr>\n",
       "      <th>4</th>\n",
       "      <td>103.0</td>\n",
       "      <td>90-120</td>\n",
       "    </tr>\n",
       "    <tr>\n",
       "      <th>...</th>\n",
       "      <td>...</td>\n",
       "      <td>...</td>\n",
       "    </tr>\n",
       "    <tr>\n",
       "      <th>5038</th>\n",
       "      <td>87.0</td>\n",
       "      <td>&lt;90</td>\n",
       "    </tr>\n",
       "    <tr>\n",
       "      <th>5039</th>\n",
       "      <td>43.0</td>\n",
       "      <td>&lt;90</td>\n",
       "    </tr>\n",
       "    <tr>\n",
       "      <th>5040</th>\n",
       "      <td>76.0</td>\n",
       "      <td>&lt;90</td>\n",
       "    </tr>\n",
       "    <tr>\n",
       "      <th>5041</th>\n",
       "      <td>100.0</td>\n",
       "      <td>90-120</td>\n",
       "    </tr>\n",
       "    <tr>\n",
       "      <th>5042</th>\n",
       "      <td>90.0</td>\n",
       "      <td>&lt;90</td>\n",
       "    </tr>\n",
       "  </tbody>\n",
       "</table>\n",
       "<p>5043 rows × 2 columns</p>\n",
       "</div>"
      ],
      "text/plain": [
       "      duration movie_duration_category\n",
       "0        178.0                    >120\n",
       "1        169.0                    >120\n",
       "2        148.0                    >120\n",
       "3        164.0                    >120\n",
       "4        103.0                  90-120\n",
       "...        ...                     ...\n",
       "5038      87.0                     <90\n",
       "5039      43.0                     <90\n",
       "5040      76.0                     <90\n",
       "5041     100.0                  90-120\n",
       "5042      90.0                     <90\n",
       "\n",
       "[5043 rows x 2 columns]"
      ]
     },
     "execution_count": 10,
     "metadata": {},
     "output_type": "execute_result"
    }
   ],
   "source": [
    "short = 90\n",
    "long = 120\n",
    "labels = [f'<{short}', f'{short}-{long}',f'>{long}']\n",
    "df['movie_duration_category'] = pd.cut(df['duration'],bins = (df.duration.min(),short,long ,df.duration.max()), labels = labels,include_lowest = True)\n",
    "df.loc[:,('duration','movie_duration_category')]"
   ]
  },
  {
   "cell_type": "markdown",
   "id": "ffb41f15-90b0-48ad-a6df-58c468358d05",
   "metadata": {
    "jupyter": {
     "source_hidden": true
    },
    "tags": []
   },
   "source": [
    "1.6. Build a summary table for films released after 2000 (inclusively), to list the numbers of\n",
    "films:<br>\n",
    "• Table rows: year<br>\n",
    "• Table columns: movie duration category (\"<90\", \"90–120\", \">120\")<br>\n",
    "• The year of release should be displayed in the YYYY format.<br>"
   ]
  },
  {
   "cell_type": "code",
   "execution_count": 11,
   "id": "248a9d8f-fcb4-4a51-a66b-625646014c9e",
   "metadata": {
    "collapsed": true,
    "jupyter": {
     "outputs_hidden": true,
     "source_hidden": true
    },
    "tags": []
   },
   "outputs": [
    {
     "name": "stderr",
     "output_type": "stream",
     "text": [
      "/home/alex/anaconda3/lib/python3.7/site-packages/ipykernel_launcher.py:3: SettingWithCopyWarning: \n",
      "A value is trying to be set on a copy of a slice from a DataFrame.\n",
      "Try using .loc[row_indexer,col_indexer] = value instead\n",
      "\n",
      "See the caveats in the documentation: https://pandas.pydata.org/pandas-docs/stable/user_guide/indexing.html#returning-a-view-versus-a-copy\n",
      "  This is separate from the ipykernel package so we can avoid doing imports until\n"
     ]
    },
    {
     "data": {
      "text/html": [
       "<div>\n",
       "<style scoped>\n",
       "    .dataframe tbody tr th:only-of-type {\n",
       "        vertical-align: middle;\n",
       "    }\n",
       "\n",
       "    .dataframe tbody tr th {\n",
       "        vertical-align: top;\n",
       "    }\n",
       "\n",
       "    .dataframe thead th {\n",
       "        text-align: right;\n",
       "    }\n",
       "</style>\n",
       "<table border=\"1\" class=\"dataframe\">\n",
       "  <thead>\n",
       "    <tr style=\"text-align: right;\">\n",
       "      <th></th>\n",
       "      <th>&lt;90</th>\n",
       "      <th>90-120</th>\n",
       "      <th>&gt;120</th>\n",
       "    </tr>\n",
       "    <tr>\n",
       "      <th>title_year</th>\n",
       "      <th></th>\n",
       "      <th></th>\n",
       "      <th></th>\n",
       "    </tr>\n",
       "  </thead>\n",
       "  <tbody>\n",
       "    <tr>\n",
       "      <th>2000</th>\n",
       "      <td>33</td>\n",
       "      <td>104</td>\n",
       "      <td>34</td>\n",
       "    </tr>\n",
       "    <tr>\n",
       "      <th>2001</th>\n",
       "      <td>36</td>\n",
       "      <td>113</td>\n",
       "      <td>39</td>\n",
       "    </tr>\n",
       "    <tr>\n",
       "      <th>2002</th>\n",
       "      <td>40</td>\n",
       "      <td>142</td>\n",
       "      <td>27</td>\n",
       "    </tr>\n",
       "    <tr>\n",
       "      <th>2003</th>\n",
       "      <td>37</td>\n",
       "      <td>102</td>\n",
       "      <td>30</td>\n",
       "    </tr>\n",
       "    <tr>\n",
       "      <th>2004</th>\n",
       "      <td>38</td>\n",
       "      <td>134</td>\n",
       "      <td>42</td>\n",
       "    </tr>\n",
       "    <tr>\n",
       "      <th>2005</th>\n",
       "      <td>40</td>\n",
       "      <td>133</td>\n",
       "      <td>48</td>\n",
       "    </tr>\n",
       "    <tr>\n",
       "      <th>2006</th>\n",
       "      <td>50</td>\n",
       "      <td>136</td>\n",
       "      <td>53</td>\n",
       "    </tr>\n",
       "    <tr>\n",
       "      <th>2007</th>\n",
       "      <td>37</td>\n",
       "      <td>124</td>\n",
       "      <td>43</td>\n",
       "    </tr>\n",
       "    <tr>\n",
       "      <th>2008</th>\n",
       "      <td>42</td>\n",
       "      <td>147</td>\n",
       "      <td>36</td>\n",
       "    </tr>\n",
       "    <tr>\n",
       "      <th>2009</th>\n",
       "      <td>55</td>\n",
       "      <td>165</td>\n",
       "      <td>40</td>\n",
       "    </tr>\n",
       "    <tr>\n",
       "      <th>2010</th>\n",
       "      <td>34</td>\n",
       "      <td>163</td>\n",
       "      <td>33</td>\n",
       "    </tr>\n",
       "    <tr>\n",
       "      <th>2011</th>\n",
       "      <td>50</td>\n",
       "      <td>136</td>\n",
       "      <td>39</td>\n",
       "    </tr>\n",
       "    <tr>\n",
       "      <th>2012</th>\n",
       "      <td>44</td>\n",
       "      <td>136</td>\n",
       "      <td>41</td>\n",
       "    </tr>\n",
       "    <tr>\n",
       "      <th>2013</th>\n",
       "      <td>48</td>\n",
       "      <td>135</td>\n",
       "      <td>54</td>\n",
       "    </tr>\n",
       "    <tr>\n",
       "      <th>2014</th>\n",
       "      <td>45</td>\n",
       "      <td>162</td>\n",
       "      <td>45</td>\n",
       "    </tr>\n",
       "    <tr>\n",
       "      <th>2015</th>\n",
       "      <td>42</td>\n",
       "      <td>137</td>\n",
       "      <td>47</td>\n",
       "    </tr>\n",
       "    <tr>\n",
       "      <th>2016</th>\n",
       "      <td>10</td>\n",
       "      <td>77</td>\n",
       "      <td>19</td>\n",
       "    </tr>\n",
       "  </tbody>\n",
       "</table>\n",
       "</div>"
      ],
      "text/plain": [
       "            <90  90-120  >120\n",
       "title_year                   \n",
       "2000         33     104    34\n",
       "2001         36     113    39\n",
       "2002         40     142    27\n",
       "2003         37     102    30\n",
       "2004         38     134    42\n",
       "2005         40     133    48\n",
       "2006         50     136    53\n",
       "2007         37     124    43\n",
       "2008         42     147    36\n",
       "2009         55     165    40\n",
       "2010         34     163    33\n",
       "2011         50     136    39\n",
       "2012         44     136    41\n",
       "2013         48     135    54\n",
       "2014         45     162    45\n",
       "2015         42     137    47\n",
       "2016         10      77    19"
      ]
     },
     "execution_count": 11,
     "metadata": {},
     "output_type": "execute_result"
    }
   ],
   "source": [
    "def summary(df):\n",
    "    df = df[df.title_year>=2000]\n",
    "    df['title_year']  = df.title_year.astype(int)\n",
    "    return df.groupby(df.title_year).movie_duration_category.value_counts().unstack()\n",
    "summary(df)"
   ]
  },
  {
   "cell_type": "markdown",
   "id": "2873973e-3e52-4844-b736-7250012cb406",
   "metadata": {},
   "source": [
    "1.7. How many films between 90 minutes and two hours long were released in 2008?"
   ]
  },
  {
   "cell_type": "code",
   "execution_count": 12,
   "id": "43ad3f7c-6163-4571-ab7c-40e68a73b2c7",
   "metadata": {
    "collapsed": true,
    "jupyter": {
     "outputs_hidden": true,
     "source_hidden": true
    },
    "tags": []
   },
   "outputs": [
    {
     "name": "stderr",
     "output_type": "stream",
     "text": [
      "/home/alex/anaconda3/lib/python3.7/site-packages/ipykernel_launcher.py:3: SettingWithCopyWarning: \n",
      "A value is trying to be set on a copy of a slice from a DataFrame.\n",
      "Try using .loc[row_indexer,col_indexer] = value instead\n",
      "\n",
      "See the caveats in the documentation: https://pandas.pydata.org/pandas-docs/stable/user_guide/indexing.html#returning-a-view-versus-a-copy\n",
      "  This is separate from the ipykernel package so we can avoid doing imports until\n"
     ]
    },
    {
     "data": {
      "text/plain": [
       "147"
      ]
     },
     "execution_count": 12,
     "metadata": {},
     "output_type": "execute_result"
    }
   ],
   "source": [
    "summary(df).loc[2008,'90-120']"
   ]
  },
  {
   "cell_type": "markdown",
   "id": "5468c188-fbb1-412d-9a56-a2066f9973e9",
   "metadata": {
    "jupyter": {
     "source_hidden": true
    },
    "tags": []
   },
   "source": [
    "1.8. The plot_keywords column holds keywords characterizing the film's plot. Using the data in this column, create a column called __movie_plot_category__, to contain four categories depending on the key words in the column: <br>\n",
    "* Category \"love_and_death\" if the keywords include both \"love\" and \"death\" \n",
    "* Category \"love\" if the keywords include the word \"love\" \n",
    "* Category \"death\" if the keywords include the word \"death\" \n",
    "* Category \"other\" if the keywords do not meet the conditions above"
   ]
  },
  {
   "cell_type": "code",
   "execution_count": 34,
   "id": "ddec184f-f4e7-4d94-b8a5-28ee246eac33",
   "metadata": {
    "jupyter": {
     "source_hidden": true
    },
    "tags": []
   },
   "outputs": [],
   "source": [
    "df.plot_keywords.fillna('dummy', inplace = True)\n",
    "df['movie_plot_category'] = 'other'\n",
    "df.loc[df.plot_keywords.str.contains('love'),'movie_plot_category'] = 'love'\n",
    "df.loc[df.plot_keywords.str.contains('death'),'movie_plot_category'] = 'death'\n",
    "df.loc[df.plot_keywords.str.contains('death') * df.plot_keywords.str.contains('love'),'movie_plot_category'] = 'love_and_death'"
   ]
  },
  {
   "cell_type": "markdown",
   "id": "768125e2-eb4a-4a28-a3c2-ed5f6709e05b",
   "metadata": {
    "jupyter": {
     "source_hidden": true
    },
    "tags": []
   },
   "source": [
    "1.9. The imdb_score column shows a viewer rating for the film. Build a table to reflect the average rating of films depending on which movie_plot_category category they belong to."
   ]
  },
  {
   "cell_type": "code",
   "execution_count": 35,
   "id": "10760da8-66c3-48fd-981a-debc167b3ce1",
   "metadata": {
    "collapsed": true,
    "jupyter": {
     "outputs_hidden": true,
     "source_hidden": true
    },
    "tags": []
   },
   "outputs": [
    {
     "data": {
      "text/plain": [
       "movie_plot_category\n",
       "death             6.535465\n",
       "love              6.580769\n",
       "love_and_death    6.506250\n",
       "other             6.431422\n",
       "Name: imdb_score, dtype: float64"
      ]
     },
     "execution_count": 35,
     "metadata": {},
     "output_type": "execute_result"
    }
   ],
   "source": [
    "df.groupby(df.movie_plot_category).imdb_score.mean()"
   ]
  },
  {
   "cell_type": "markdown",
   "id": "8352f8df-8933-407a-bf82-af6cb2c524bd",
   "metadata": {
    "jupyter": {
     "source_hidden": true
    },
    "tags": []
   },
   "source": [
    "1.10. What is the average rating of films in the \"love\" category? Give the answer as a floatingpoint\n",
    "figure rounded to two decimal places."
   ]
  },
  {
   "cell_type": "code",
   "execution_count": 37,
   "id": "e8b9e024-a5b7-4212-89b0-d8e7e0424b52",
   "metadata": {
    "collapsed": true,
    "jupyter": {
     "outputs_hidden": true,
     "source_hidden": true
    },
    "tags": []
   },
   "outputs": [
    {
     "data": {
      "text/plain": [
       "6.58"
      ]
     },
     "execution_count": 37,
     "metadata": {},
     "output_type": "execute_result"
    }
   ],
   "source": [
    "round(df.groupby(df.movie_plot_category).imdb_score.mean().love,2)"
   ]
  },
  {
   "cell_type": "markdown",
   "id": "b44acf81-d1c2-40ae-8700-8579a9ce2aac",
   "metadata": {
    "jupyter": {
     "source_hidden": true
    },
    "tags": []
   },
   "source": [
    "1.11. The budget column contains the film's budget. What is the median budget for all the films\n",
    "listed? Give the answer as an integer."
   ]
  },
  {
   "cell_type": "code",
   "execution_count": 10,
   "id": "7835d902-0511-4166-bc3e-bbe6a0bbdba9",
   "metadata": {
    "collapsed": true,
    "jupyter": {
     "outputs_hidden": true,
     "source_hidden": true
    },
    "tags": []
   },
   "outputs": [
    {
     "name": "stderr",
     "output_type": "stream",
     "text": [
      "/home/alex/anaconda3/lib/python3.7/site-packages/ipykernel_launcher.py:1: FutureWarning: The default value of regex will change from True to False in a future version.\n",
      "  \"\"\"Entry point for launching an IPython kernel.\n"
     ]
    },
    {
     "data": {
      "text/plain": [
       "15000000"
      ]
     },
     "execution_count": 10,
     "metadata": {},
     "output_type": "execute_result"
    }
   ],
   "source": [
    "df.budget = pd.to_numeric(df.budget.astype(str).str.replace('[$,]', ''), downcast = 'integer')\n",
    "int(df.budget.median())"
   ]
  },
  {
   "cell_type": "markdown",
   "id": "458b762e-fa61-4262-bfff-a489a002dd71",
   "metadata": {
    "tags": []
   },
   "source": [
    "### TASK2\n",
    "To complete this task, use the data set in the attached file. Indicate the answer to each of the\n",
    "following steps and time to complete the entire task.\n",
    "\n",
    "[event_data.csv](https://s3-us-west-2.amazonaws.com/secure.notion-static.com/3d249c69-fd8f-419f-8606-554c9a089cd7/event_data.csv)\n",
    "\n",
    "1. Download the event_data.csv dataset, which contains data on the use of the mobile\n",
    "application of users who registered from July 29 to September 1, 2019:\n",
    "* user_id - user identifier;\n",
    "* event_date - time of the event;\n",
    "* event_type - type of event: registration - registration in the application; simple_event click event in the application; purchase - an event of purchase within the application;\n",
    "* purchase_amount - purchase amount."
   ]
  },
  {
   "cell_type": "code",
   "execution_count": 1,
   "id": "e9d775c4-20f9-4df4-8c82-05deffe47095",
   "metadata": {
    "tags": []
   },
   "outputs": [
    {
     "name": "stdout",
     "output_type": "stream",
     "text": [
      "<class 'pandas.core.frame.DataFrame'>\n",
      "RangeIndex: 79742 entries, 0 to 79741\n",
      "Data columns (total 4 columns):\n",
      " #   Column           Non-Null Count  Dtype         \n",
      "---  ------           --------------  -----         \n",
      " 0   user_id          79742 non-null  object        \n",
      " 1   event_date       79742 non-null  datetime64[ns]\n",
      " 2   event_type       79742 non-null  object        \n",
      " 3   purchase_amount  6207 non-null   float64       \n",
      "dtypes: datetime64[ns](1), float64(1), object(2)\n",
      "memory usage: 2.4+ MB\n"
     ]
    }
   ],
   "source": [
    "import pandas as pd\n",
    "df2 = pd.read_csv('/home/alex/HDD/workshop/.datasets/yndx/event_data.csv', parse_dates = ['event_date'])\n",
    "df2.info()"
   ]
  },
  {
   "cell_type": "markdown",
   "id": "64516309-0d6e-43fe-9ecb-7db6e6522c3c",
   "metadata": {
    "jp-MarkdownHeadingCollapsed": true,
    "tags": []
   },
   "source": [
    "2. Highlight user cohorts based on the week of registration in the application. \n",
    "The cohort identifier should be the week ordinal (for example, the week from July 29 to August 4 should have identifier 31)."
   ]
  },
  {
   "cell_type": "code",
   "execution_count": 2,
   "id": "fd8b3d15-c9b8-4d1f-b3f7-c683201f4b54",
   "metadata": {
    "tags": []
   },
   "outputs": [
    {
     "data": {
      "text/html": [
       "<div>\n",
       "<style scoped>\n",
       "    .dataframe tbody tr th:only-of-type {\n",
       "        vertical-align: middle;\n",
       "    }\n",
       "\n",
       "    .dataframe tbody tr th {\n",
       "        vertical-align: top;\n",
       "    }\n",
       "\n",
       "    .dataframe thead th {\n",
       "        text-align: right;\n",
       "    }\n",
       "</style>\n",
       "<table border=\"1\" class=\"dataframe\">\n",
       "  <thead>\n",
       "    <tr style=\"text-align: right;\">\n",
       "      <th></th>\n",
       "      <th>Unnamed: 0</th>\n",
       "      <th>user_id</th>\n",
       "      <th>event_date</th>\n",
       "      <th>event_type</th>\n",
       "      <th>purchase_amount</th>\n",
       "      <th>event_week</th>\n",
       "      <th>reg_week</th>\n",
       "    </tr>\n",
       "  </thead>\n",
       "  <tbody>\n",
       "    <tr>\n",
       "      <th>0</th>\n",
       "      <td>24</td>\n",
       "      <td>af679d</td>\n",
       "      <td>2019-07-29 02:25:19</td>\n",
       "      <td>simple_event</td>\n",
       "      <td>NaN</td>\n",
       "      <td>31</td>\n",
       "      <td>31</td>\n",
       "    </tr>\n",
       "    <tr>\n",
       "      <th>1</th>\n",
       "      <td>73</td>\n",
       "      <td>71ac11</td>\n",
       "      <td>2019-07-29 06:19:19</td>\n",
       "      <td>simple_event</td>\n",
       "      <td>NaN</td>\n",
       "      <td>31</td>\n",
       "      <td>31</td>\n",
       "    </tr>\n",
       "    <tr>\n",
       "      <th>2</th>\n",
       "      <td>78</td>\n",
       "      <td>85367a</td>\n",
       "      <td>2019-07-29 06:37:26</td>\n",
       "      <td>simple_event</td>\n",
       "      <td>NaN</td>\n",
       "      <td>31</td>\n",
       "      <td>31</td>\n",
       "    </tr>\n",
       "    <tr>\n",
       "      <th>3</th>\n",
       "      <td>79</td>\n",
       "      <td>9b887b</td>\n",
       "      <td>2019-07-29 06:39:29</td>\n",
       "      <td>simple_event</td>\n",
       "      <td>NaN</td>\n",
       "      <td>31</td>\n",
       "      <td>31</td>\n",
       "    </tr>\n",
       "    <tr>\n",
       "      <th>4</th>\n",
       "      <td>80</td>\n",
       "      <td>b2e16e</td>\n",
       "      <td>2019-07-29 06:51:51</td>\n",
       "      <td>simple_event</td>\n",
       "      <td>NaN</td>\n",
       "      <td>31</td>\n",
       "      <td>31</td>\n",
       "    </tr>\n",
       "    <tr>\n",
       "      <th>...</th>\n",
       "      <td>...</td>\n",
       "      <td>...</td>\n",
       "      <td>...</td>\n",
       "      <td>...</td>\n",
       "      <td>...</td>\n",
       "      <td>...</td>\n",
       "      <td>...</td>\n",
       "    </tr>\n",
       "    <tr>\n",
       "      <th>69741</th>\n",
       "      <td>79737</td>\n",
       "      <td>930c23</td>\n",
       "      <td>2019-09-01 23:57:41</td>\n",
       "      <td>simple_event</td>\n",
       "      <td>NaN</td>\n",
       "      <td>35</td>\n",
       "      <td>32</td>\n",
       "    </tr>\n",
       "    <tr>\n",
       "      <th>69742</th>\n",
       "      <td>79738</td>\n",
       "      <td>a84999</td>\n",
       "      <td>2019-09-01 23:57:50</td>\n",
       "      <td>simple_event</td>\n",
       "      <td>NaN</td>\n",
       "      <td>35</td>\n",
       "      <td>33</td>\n",
       "    </tr>\n",
       "    <tr>\n",
       "      <th>69743</th>\n",
       "      <td>79739</td>\n",
       "      <td>175e4d</td>\n",
       "      <td>2019-09-01 23:59:40</td>\n",
       "      <td>simple_event</td>\n",
       "      <td>NaN</td>\n",
       "      <td>35</td>\n",
       "      <td>32</td>\n",
       "    </tr>\n",
       "    <tr>\n",
       "      <th>69744</th>\n",
       "      <td>79740</td>\n",
       "      <td>1c2210</td>\n",
       "      <td>2019-09-01 23:59:51</td>\n",
       "      <td>simple_event</td>\n",
       "      <td>NaN</td>\n",
       "      <td>35</td>\n",
       "      <td>33</td>\n",
       "    </tr>\n",
       "    <tr>\n",
       "      <th>69745</th>\n",
       "      <td>79741</td>\n",
       "      <td>d799dc</td>\n",
       "      <td>2019-09-01 23:59:54</td>\n",
       "      <td>simple_event</td>\n",
       "      <td>NaN</td>\n",
       "      <td>35</td>\n",
       "      <td>35</td>\n",
       "    </tr>\n",
       "  </tbody>\n",
       "</table>\n",
       "<p>69746 rows × 7 columns</p>\n",
       "</div>"
      ],
      "text/plain": [
       "       Unnamed: 0 user_id           event_date    event_type  purchase_amount  \\\n",
       "0              24  af679d  2019-07-29 02:25:19  simple_event              NaN   \n",
       "1              73  71ac11  2019-07-29 06:19:19  simple_event              NaN   \n",
       "2              78  85367a  2019-07-29 06:37:26  simple_event              NaN   \n",
       "3              79  9b887b  2019-07-29 06:39:29  simple_event              NaN   \n",
       "4              80  b2e16e  2019-07-29 06:51:51  simple_event              NaN   \n",
       "...           ...     ...                  ...           ...              ...   \n",
       "69741       79737  930c23  2019-09-01 23:57:41  simple_event              NaN   \n",
       "69742       79738  a84999  2019-09-01 23:57:50  simple_event              NaN   \n",
       "69743       79739  175e4d  2019-09-01 23:59:40  simple_event              NaN   \n",
       "69744       79740  1c2210  2019-09-01 23:59:51  simple_event              NaN   \n",
       "69745       79741  d799dc  2019-09-01 23:59:54  simple_event              NaN   \n",
       "\n",
       "       event_week  reg_week  \n",
       "0              31        31  \n",
       "1              31        31  \n",
       "2              31        31  \n",
       "3              31        31  \n",
       "4              31        31  \n",
       "...           ...       ...  \n",
       "69741          35        32  \n",
       "69742          35        33  \n",
       "69743          35        32  \n",
       "69744          35        33  \n",
       "69745          35        35  \n",
       "\n",
       "[69746 rows x 7 columns]"
      ]
     },
     "execution_count": 2,
     "metadata": {},
     "output_type": "execute_result"
    }
   ],
   "source": [
    "df2['event_week'] = df2['event_date'].dt.isocalendar().week\n",
    "def split(df2):\n",
    "    regs = df2.loc[df2.event_type == 'registration']\n",
    "    events = df2.loc[df2.event_type != 'registration']\n",
    "    events = events.assign(reg_week = 0)\n",
    "    for _,user in regs.user_id.iteritems():\n",
    "        events.reg_week.mask(events.user_id == user, int(regs.loc[regs.user_id == user].event_week), inplace = True)\n",
    "    return events, regs\n",
    "\n",
    "events = pd.read_csv('events_csv')\n",
    "regs = df2.loc[df2.event_type == 'registration']\n",
    "events"
   ]
  },
  {
   "cell_type": "markdown",
   "id": "1b06e946-da30-43c0-b441-883bc1541be5",
   "metadata": {
    "jp-MarkdownHeadingCollapsed": true,
    "tags": []
   },
   "source": [
    "3. How many unique users in the cohort with ID 33?"
   ]
  },
  {
   "cell_type": "code",
   "execution_count": 3,
   "id": "267efba9-f3a7-4962-8de7-9bfa35c997f0",
   "metadata": {},
   "outputs": [
    {
     "data": {
      "text/plain": [
       "2045"
      ]
     },
     "execution_count": 3,
     "metadata": {},
     "output_type": "execute_result"
    }
   ],
   "source": [
    "len(events.loc[events.reg_week == 33].user_id.unique())"
   ]
  },
  {
   "cell_type": "markdown",
   "id": "e423d8f2-6c1f-41d7-a118-fa23ecc8c1d3",
   "metadata": {
    "jp-MarkdownHeadingCollapsed": true,
    "tags": []
   },
   "source": [
    "4. For each event, highlight the indicator lifetime - the weekly lifetime of the cohort. <br>\n",
    "The __lifetime indicator__ is calculated based on the serial number of the week in which the event\n",
    "is committed, relative to the week of registration. For example, an event committed on\n",
    "August 3 by a user from a cohort of registrants at 31 weeks will be committed on the zero\n",
    "week of lifetime, and an event committed by the same user on August 5 will be committed\n",
    "on the first week of lifetime)."
   ]
  },
  {
   "cell_type": "code",
   "execution_count": 4,
   "id": "76faac5f-edfa-41a0-a07c-4cc0175bbd96",
   "metadata": {},
   "outputs": [],
   "source": [
    "events['lifetime'] = events.event_week - events.reg_week"
   ]
  },
  {
   "cell_type": "markdown",
   "id": "5b70141e-3c5c-45ee-bc48-dceaf193d8f7",
   "metadata": {
    "jp-MarkdownHeadingCollapsed": true,
    "tags": []
   },
   "source": [
    "5. Build a summary table of changes in the __Retention Rate__ for cohorts depending on lifetime."
   ]
  },
  {
   "cell_type": "markdown",
   "id": "16706c0a-ea62-4863-ad29-d4f404dff908",
   "metadata": {},
   "source": [
    "RR is expressed as a percentage of a company’s existing customers who remain loyal within that time frame. "
   ]
  },
  {
   "cell_type": "code",
   "execution_count": 14,
   "id": "fb94b762-d38b-47cd-a40e-3dd61bec212e",
   "metadata": {
    "collapsed": true,
    "jupyter": {
     "outputs_hidden": true,
     "source_hidden": true
    },
    "tags": []
   },
   "outputs": [
    {
     "data": {
      "text/html": [
       "<div>\n",
       "<style scoped>\n",
       "    .dataframe tbody tr th:only-of-type {\n",
       "        vertical-align: middle;\n",
       "    }\n",
       "\n",
       "    .dataframe tbody tr th {\n",
       "        vertical-align: top;\n",
       "    }\n",
       "\n",
       "    .dataframe thead th {\n",
       "        text-align: right;\n",
       "    }\n",
       "</style>\n",
       "<table border=\"1\" class=\"dataframe\">\n",
       "  <thead>\n",
       "    <tr style=\"text-align: right;\">\n",
       "      <th></th>\n",
       "      <th>Unnamed: 0</th>\n",
       "      <th>user_id</th>\n",
       "      <th>event_date</th>\n",
       "      <th>event_type</th>\n",
       "      <th>purchase_amount</th>\n",
       "      <th>event_week</th>\n",
       "      <th>reg_week</th>\n",
       "      <th>lifetime</th>\n",
       "    </tr>\n",
       "  </thead>\n",
       "  <tbody>\n",
       "    <tr>\n",
       "      <th>0</th>\n",
       "      <td>24</td>\n",
       "      <td>af679d</td>\n",
       "      <td>2019-07-29 02:25:19</td>\n",
       "      <td>simple_event</td>\n",
       "      <td>NaN</td>\n",
       "      <td>31</td>\n",
       "      <td>31</td>\n",
       "      <td>0</td>\n",
       "    </tr>\n",
       "    <tr>\n",
       "      <th>1</th>\n",
       "      <td>73</td>\n",
       "      <td>71ac11</td>\n",
       "      <td>2019-07-29 06:19:19</td>\n",
       "      <td>simple_event</td>\n",
       "      <td>NaN</td>\n",
       "      <td>31</td>\n",
       "      <td>31</td>\n",
       "      <td>0</td>\n",
       "    </tr>\n",
       "    <tr>\n",
       "      <th>2</th>\n",
       "      <td>78</td>\n",
       "      <td>85367a</td>\n",
       "      <td>2019-07-29 06:37:26</td>\n",
       "      <td>simple_event</td>\n",
       "      <td>NaN</td>\n",
       "      <td>31</td>\n",
       "      <td>31</td>\n",
       "      <td>0</td>\n",
       "    </tr>\n",
       "    <tr>\n",
       "      <th>3</th>\n",
       "      <td>79</td>\n",
       "      <td>9b887b</td>\n",
       "      <td>2019-07-29 06:39:29</td>\n",
       "      <td>simple_event</td>\n",
       "      <td>NaN</td>\n",
       "      <td>31</td>\n",
       "      <td>31</td>\n",
       "      <td>0</td>\n",
       "    </tr>\n",
       "    <tr>\n",
       "      <th>4</th>\n",
       "      <td>80</td>\n",
       "      <td>b2e16e</td>\n",
       "      <td>2019-07-29 06:51:51</td>\n",
       "      <td>simple_event</td>\n",
       "      <td>NaN</td>\n",
       "      <td>31</td>\n",
       "      <td>31</td>\n",
       "      <td>0</td>\n",
       "    </tr>\n",
       "    <tr>\n",
       "      <th>...</th>\n",
       "      <td>...</td>\n",
       "      <td>...</td>\n",
       "      <td>...</td>\n",
       "      <td>...</td>\n",
       "      <td>...</td>\n",
       "      <td>...</td>\n",
       "      <td>...</td>\n",
       "      <td>...</td>\n",
       "    </tr>\n",
       "    <tr>\n",
       "      <th>3778</th>\n",
       "      <td>5752</td>\n",
       "      <td>fce459</td>\n",
       "      <td>2019-08-04 23:53:36</td>\n",
       "      <td>simple_event</td>\n",
       "      <td>NaN</td>\n",
       "      <td>31</td>\n",
       "      <td>31</td>\n",
       "      <td>0</td>\n",
       "    </tr>\n",
       "    <tr>\n",
       "      <th>3779</th>\n",
       "      <td>5753</td>\n",
       "      <td>7e3a50</td>\n",
       "      <td>2019-08-04 23:54:53</td>\n",
       "      <td>simple_event</td>\n",
       "      <td>NaN</td>\n",
       "      <td>31</td>\n",
       "      <td>31</td>\n",
       "      <td>0</td>\n",
       "    </tr>\n",
       "    <tr>\n",
       "      <th>3780</th>\n",
       "      <td>5754</td>\n",
       "      <td>3b3712</td>\n",
       "      <td>2019-08-04 23:55:23</td>\n",
       "      <td>simple_event</td>\n",
       "      <td>NaN</td>\n",
       "      <td>31</td>\n",
       "      <td>31</td>\n",
       "      <td>0</td>\n",
       "    </tr>\n",
       "    <tr>\n",
       "      <th>3781</th>\n",
       "      <td>5756</td>\n",
       "      <td>5b7d54</td>\n",
       "      <td>2019-08-04 23:55:56</td>\n",
       "      <td>purchase</td>\n",
       "      <td>20.0</td>\n",
       "      <td>31</td>\n",
       "      <td>31</td>\n",
       "      <td>0</td>\n",
       "    </tr>\n",
       "    <tr>\n",
       "      <th>3782</th>\n",
       "      <td>5757</td>\n",
       "      <td>625c6f</td>\n",
       "      <td>2019-08-04 23:57:12</td>\n",
       "      <td>simple_event</td>\n",
       "      <td>NaN</td>\n",
       "      <td>31</td>\n",
       "      <td>31</td>\n",
       "      <td>0</td>\n",
       "    </tr>\n",
       "  </tbody>\n",
       "</table>\n",
       "<p>3783 rows × 8 columns</p>\n",
       "</div>"
      ],
      "text/plain": [
       "      Unnamed: 0 user_id           event_date    event_type  purchase_amount  \\\n",
       "0             24  af679d  2019-07-29 02:25:19  simple_event              NaN   \n",
       "1             73  71ac11  2019-07-29 06:19:19  simple_event              NaN   \n",
       "2             78  85367a  2019-07-29 06:37:26  simple_event              NaN   \n",
       "3             79  9b887b  2019-07-29 06:39:29  simple_event              NaN   \n",
       "4             80  b2e16e  2019-07-29 06:51:51  simple_event              NaN   \n",
       "...          ...     ...                  ...           ...              ...   \n",
       "3778        5752  fce459  2019-08-04 23:53:36  simple_event              NaN   \n",
       "3779        5753  7e3a50  2019-08-04 23:54:53  simple_event              NaN   \n",
       "3780        5754  3b3712  2019-08-04 23:55:23  simple_event              NaN   \n",
       "3781        5756  5b7d54  2019-08-04 23:55:56      purchase             20.0   \n",
       "3782        5757  625c6f  2019-08-04 23:57:12  simple_event              NaN   \n",
       "\n",
       "      event_week  reg_week  lifetime  \n",
       "0             31        31         0  \n",
       "1             31        31         0  \n",
       "2             31        31         0  \n",
       "3             31        31         0  \n",
       "4             31        31         0  \n",
       "...          ...       ...       ...  \n",
       "3778          31        31         0  \n",
       "3779          31        31         0  \n",
       "3780          31        31         0  \n",
       "3781          31        31         0  \n",
       "3782          31        31         0  \n",
       "\n",
       "[3783 rows x 8 columns]"
      ]
     },
     "execution_count": 14,
     "metadata": {},
     "output_type": "execute_result"
    }
   ],
   "source": [
    "# def cohort(df, lifetime = 0, reg_week = 31):\n",
    "#     return df.loc[(df['reg_week']==reg_week) & (df['lifetime']==lifetime)]\n",
    "# cohort(events)"
   ]
  },
  {
   "cell_type": "code",
   "execution_count": 45,
   "id": "9ea2da3c-7fc6-4761-99eb-8586c7a64187",
   "metadata": {
    "tags": []
   },
   "outputs": [
    {
     "name": "stdout",
     "output_type": "stream",
     "text": [
      "in %\n"
     ]
    },
    {
     "data": {
      "text/html": [
       "<div>\n",
       "<style scoped>\n",
       "    .dataframe tbody tr th:only-of-type {\n",
       "        vertical-align: middle;\n",
       "    }\n",
       "\n",
       "    .dataframe tbody tr th {\n",
       "        vertical-align: top;\n",
       "    }\n",
       "\n",
       "    .dataframe thead th {\n",
       "        text-align: right;\n",
       "    }\n",
       "</style>\n",
       "<table border=\"1\" class=\"dataframe\">\n",
       "  <thead>\n",
       "    <tr style=\"text-align: right;\">\n",
       "      <th></th>\n",
       "      <th>31</th>\n",
       "      <th>32</th>\n",
       "      <th>33</th>\n",
       "      <th>34</th>\n",
       "      <th>35</th>\n",
       "    </tr>\n",
       "  </thead>\n",
       "  <tbody>\n",
       "    <tr>\n",
       "      <th>0</th>\n",
       "      <td>27.326</td>\n",
       "      <td>28.872</td>\n",
       "      <td>33.113</td>\n",
       "      <td>45.514</td>\n",
       "      <td>100.0</td>\n",
       "    </tr>\n",
       "    <tr>\n",
       "      <th>1</th>\n",
       "      <td>32.656</td>\n",
       "      <td>34.098</td>\n",
       "      <td>38.993</td>\n",
       "      <td>54.486</td>\n",
       "      <td>0.0</td>\n",
       "    </tr>\n",
       "    <tr>\n",
       "      <th>2</th>\n",
       "      <td>22.157</td>\n",
       "      <td>23.778</td>\n",
       "      <td>27.894</td>\n",
       "      <td>0.000</td>\n",
       "      <td>0.0</td>\n",
       "    </tr>\n",
       "    <tr>\n",
       "      <th>3</th>\n",
       "      <td>12.567</td>\n",
       "      <td>13.252</td>\n",
       "      <td>0.000</td>\n",
       "      <td>0.000</td>\n",
       "      <td>0.0</td>\n",
       "    </tr>\n",
       "    <tr>\n",
       "      <th>4</th>\n",
       "      <td>5.294</td>\n",
       "      <td>0.000</td>\n",
       "      <td>0.000</td>\n",
       "      <td>0.000</td>\n",
       "      <td>0.0</td>\n",
       "    </tr>\n",
       "  </tbody>\n",
       "</table>\n",
       "</div>"
      ],
      "text/plain": [
       "       31      32      33      34     35\n",
       "0  27.326  28.872  33.113  45.514  100.0\n",
       "1  32.656  34.098  38.993  54.486    0.0\n",
       "2  22.157  23.778  27.894   0.000    0.0\n",
       "3  12.567  13.252   0.000   0.000    0.0\n",
       "4   5.294   0.000   0.000   0.000    0.0"
      ]
     },
     "execution_count": 45,
     "metadata": {},
     "output_type": "execute_result"
    }
   ],
   "source": [
    "d = {}\n",
    "for reg_week in range(31,36):\n",
    "    d[reg_week] = ()\n",
    "    for lifetime in range(5):\n",
    "        d[reg_week] += events.loc[(events['reg_week']==reg_week) & (events['lifetime']==lifetime)].user_id.nunique(),\n",
    "\n",
    "data =pd.DataFrame(d)\n",
    "data = data / data.sum()\n",
    "print('in %')\n",
    "data = data.round(5)\n",
    "data*100"
   ]
  },
  {
   "cell_type": "markdown",
   "id": "36b1f4be-cc1e-482a-ac12-9ce39c170316",
   "metadata": {
    "jp-MarkdownHeadingCollapsed": true,
    "tags": []
   },
   "source": [
    "6. What is the 3 week retention rate for a cohort with ID 32? Give the answer in percent,rounded to 2 decimal places, inclusive."
   ]
  },
  {
   "cell_type": "markdown",
   "id": "f3637dd2-04c7-4266-9064-093ecbe36c2c",
   "metadata": {},
   "source": [
    "13.25%"
   ]
  },
  {
   "cell_type": "markdown",
   "id": "d3bf095f-a1fe-4e6d-84d2-22a386ea935f",
   "metadata": {},
   "source": [
    "7. Build a summary table of changes in the indicator ARPPU (Average Revenue Per Paying User) for cohorts depending on lifetime."
   ]
  },
  {
   "cell_type": "code",
   "execution_count": 31,
   "id": "77409d75-f4b4-48be-999c-3ae0c856b212",
   "metadata": {},
   "outputs": [
    {
     "name": "stderr",
     "output_type": "stream",
     "text": [
      "/home/alex/anaconda3/lib/python3.7/site-packages/ipykernel_launcher.py:6: RuntimeWarning: invalid value encountered in double_scalars\n",
      "  \n"
     ]
    },
    {
     "data": {
      "text/html": [
       "<div>\n",
       "<style scoped>\n",
       "    .dataframe tbody tr th:only-of-type {\n",
       "        vertical-align: middle;\n",
       "    }\n",
       "\n",
       "    .dataframe tbody tr th {\n",
       "        vertical-align: top;\n",
       "    }\n",
       "\n",
       "    .dataframe thead th {\n",
       "        text-align: right;\n",
       "    }\n",
       "</style>\n",
       "<table border=\"1\" class=\"dataframe\">\n",
       "  <thead>\n",
       "    <tr style=\"text-align: right;\">\n",
       "      <th></th>\n",
       "      <th>31</th>\n",
       "      <th>32</th>\n",
       "      <th>33</th>\n",
       "      <th>34</th>\n",
       "      <th>35</th>\n",
       "    </tr>\n",
       "  </thead>\n",
       "  <tbody>\n",
       "    <tr>\n",
       "      <th>0</th>\n",
       "      <td>30.445205</td>\n",
       "      <td>32.978723</td>\n",
       "      <td>33.186441</td>\n",
       "      <td>33.843416</td>\n",
       "      <td>34.094955</td>\n",
       "    </tr>\n",
       "    <tr>\n",
       "      <th>1</th>\n",
       "      <td>35.413793</td>\n",
       "      <td>35.024958</td>\n",
       "      <td>35.858086</td>\n",
       "      <td>35.904936</td>\n",
       "      <td>NaN</td>\n",
       "    </tr>\n",
       "    <tr>\n",
       "      <th>2</th>\n",
       "      <td>35.911765</td>\n",
       "      <td>35.294118</td>\n",
       "      <td>34.784810</td>\n",
       "      <td>NaN</td>\n",
       "      <td>NaN</td>\n",
       "    </tr>\n",
       "    <tr>\n",
       "      <th>3</th>\n",
       "      <td>33.081081</td>\n",
       "      <td>33.297872</td>\n",
       "      <td>NaN</td>\n",
       "      <td>NaN</td>\n",
       "      <td>NaN</td>\n",
       "    </tr>\n",
       "    <tr>\n",
       "      <th>4</th>\n",
       "      <td>31.406250</td>\n",
       "      <td>NaN</td>\n",
       "      <td>NaN</td>\n",
       "      <td>NaN</td>\n",
       "      <td>NaN</td>\n",
       "    </tr>\n",
       "  </tbody>\n",
       "</table>\n",
       "</div>"
      ],
      "text/plain": [
       "          31         32         33         34         35\n",
       "0  30.445205  32.978723  33.186441  33.843416  34.094955\n",
       "1  35.413793  35.024958  35.858086  35.904936        NaN\n",
       "2  35.911765  35.294118  34.784810        NaN        NaN\n",
       "3  33.081081  33.297872        NaN        NaN        NaN\n",
       "4  31.406250        NaN        NaN        NaN        NaN"
      ]
     },
     "execution_count": 31,
     "metadata": {},
     "output_type": "execute_result"
    }
   ],
   "source": [
    "def arppu(cohort):\n",
    "    total_revenue = cohort.purchase_amount.sum()\n",
    "    paying_users = cohort.loc[cohort.purchase_amount.notna()].user_id.nunique()\n",
    "    return total_revenue / paying_users\n",
    "    \n",
    "d = {}\n",
    "for reg_week in range(31,36):\n",
    "    d[reg_week] = ()\n",
    "    for lifetime in range(5):\n",
    "        cohort = events.loc[(events['reg_week']==reg_week) & (events['lifetime']==lifetime)]\n",
    "        d[reg_week]+=(arppu(cohort)),\n",
    "\n",
    "data = pd.DataFrame(d)\n",
    "data"
   ]
  },
  {
   "cell_type": "markdown",
   "id": "087be711-4bb0-49d5-b97f-1a3b17dcfc17",
   "metadata": {
    "jp-MarkdownHeadingCollapsed": true,
    "tags": []
   },
   "source": [
    "8. What is the 3-week ARPPU of a cohort with ID 31? Give the answer with a floating point number, rounded to 2 decimal places, inclusive."
   ]
  },
  {
   "cell_type": "code",
   "execution_count": 32,
   "id": "fe7c1cd3-df23-4186-9c9e-6c8c455324d5",
   "metadata": {},
   "outputs": [
    {
     "data": {
      "text/plain": [
       "33.08"
      ]
     },
     "execution_count": 32,
     "metadata": {},
     "output_type": "execute_result"
    }
   ],
   "source": [
    "data.loc[3,31].round(2)"
   ]
  },
  {
   "cell_type": "markdown",
   "id": "b498d96e-08b4-4f38-a404-c85020c3c0db",
   "metadata": {
    "jp-MarkdownHeadingCollapsed": true,
    "tags": []
   },
   "source": [
    "9. What is the median time between user registration and first purchase? Give the answer in seconds (!) As an integer."
   ]
  },
  {
   "cell_type": "code",
   "execution_count": 33,
   "id": "b9c4b7b8-032a-41e2-9a50-32fb316a349c",
   "metadata": {
    "jupyter": {
     "source_hidden": true
    },
    "tags": []
   },
   "outputs": [
    {
     "data": {
      "text/plain": [
       "83626"
      ]
     },
     "execution_count": 33,
     "metadata": {},
     "output_type": "execute_result"
    }
   ],
   "source": [
    "purchases = events.loc[events.purchase_amount.notna()]\n",
    "first_purchase = purchases.groupby('user_id').event_date.min()\n",
    "registrations = regs.set_index(regs.user_id)\n",
    "data = registrations.loc[first_purchase.index]\n",
    "\n",
    "data['first_purchase'] = pd.to_datetime(first_purchase)\n",
    "difference = data.event_date - data.first_purchase\n",
    "difference.median().seconds"
   ]
  },
  {
   "cell_type": "markdown",
   "id": "fa6b1552-6098-4f1c-b5fa-78c95492028f",
   "metadata": {
    "tags": []
   },
   "source": [
    "### Task3 \n",
    "How would you answer the student's question below? <br>\n",
    "Your task is to get your message across in such a way that a beginner can understand your explanation. <br>\n",
    "You can do this any way you want (pictures, GIFs, metaphors, anything) so long as it makes your explanation clear. <br>\n",
    "Answer the question: _\"What is the difference between DataFrame and Series?\"_\n",
    "Indicate how much time you spent completing this task."
   ]
  },
  {
   "cell_type": "markdown",
   "id": "aeb6ac90-731f-4155-bb6c-9bdea2fb2bad",
   "metadata": {},
   "source": [
    "The __DataFrame__ is the primary pandas data structure. It can be thought as dict-like container for __Series__ objects <br>\n",
    "_Why DataFrame is a data structure and Series is an object?_ <br>\n",
    "* because here we speak of DF abstractly, as a description of a general Class of objects; when we speak of objects, we usually assume that an instantiation procedure has been called, and the data structure was created in computer's memory. \n",
    "\n",
    "The __Series__ is the data structure for a single column of a DataFrame, not only conceptually, but literally, i.e. the data in a DataFrame is actually stored in memory as a collection of Series. <br>\n",
    "\n",
    "DF contains 2 labeled axes, while Series only one.  \n",
    "\n",
    "\n",
    "more on [DataFrames](https://pandas.pydata.org/pandas-docs/version/0.13.1/generated/pandas.DataFrame.html), [Series](https://pandas.pydata.org/pandas-docs/stable/reference/series.html) <br>"
   ]
  },
  {
   "cell_type": "markdown",
   "id": "01f9b982-cf21-4eb3-8bd4-e4f53f2d6e68",
   "metadata": {},
   "source": [
    "### Task4\n",
    "You are given two random variables X and Y. <br>\n",
    "E(X) = 0.5, Var(X) = 2 <br>\n",
    "E(Y) = 7, Var(Y) = 3.5 <br>\n",
    "cov (X, Y) = -0.8 <br>\n",
    "Find the variance of the random variable Z = 2X - 3Y"
   ]
  },
  {
   "cell_type": "code",
   "execution_count": 12,
   "id": "8c4481ce-95b0-45d0-af35-070e2d258561",
   "metadata": {
    "jupyter": {
     "source_hidden": true
    },
    "tags": []
   },
   "outputs": [
    {
     "name": "stdout",
     "output_type": "stream",
     "text": [
      "49.1\n"
     ]
    }
   ],
   "source": [
    "import numpy as np\n",
    "# x(E,D)?\n",
    "x = np.array((0.5, 2))\n",
    "y = np.array((7, 3.5))\n",
    "covariance = -0.8\n",
    "a = 2\n",
    "b = -3\n",
    "var_X, var_Y = [i[1] for i in (x,y) ]\n",
    "variance = a**2*var_X + b**2*var_Y + 2*a*b* covariance\n",
    "\n",
    "\n",
    "print(variance)\n",
    "#find dispersion of z"
   ]
  },
  {
   "cell_type": "markdown",
   "id": "43ee92ea-4cf2-4d38-97c6-1894ad2a1d69",
   "metadata": {},
   "source": [
    "### Task5\n",
    "Omer trained a linear regression model and tested its performance on a test sample of 500 objects. <br>\n",
    "On 400 of those, the model returned a prediction higher than expected by 0.5, and on the remaining 100, the model returned a prediction lower than expected by 0.7. What is the MSE for his model?\n",
    "Limor claims that the linear regression model wasn't trained correctly, and we can do improve it by changing all the answers by a constant value. \n",
    "What will be her MSE?\n",
    "You can assume that Limor found the smallest error under her constraints.\n",
    "Return two values - Omer's and Limor's MSE."
   ]
  },
  {
   "cell_type": "code",
   "execution_count": 42,
   "id": "fd76ede1-d9c2-4888-8205-31ffcca693c7",
   "metadata": {},
   "outputs": [
    {
     "name": "stdout",
     "output_type": "stream",
     "text": [
      "MSE_Omer =  0.298\n",
      "MSE_Limor =  0.230401\n"
     ]
    }
   ],
   "source": [
    "n_high = 400\n",
    "n_low = 100\n",
    "n_objects = n_high+n_low\n",
    "error_high = 0.5\n",
    "error_low = -0.7\n",
    "\n",
    "MSE = (n_high*error_high**2 + n_low*error_low**2)/n_objects\n",
    "print(f'MSE_Omer = ',MSE)\n",
    "change = -0.259\n",
    "error_low+=change\n",
    "error_high+=change\n",
    "MSE = (n_high*error_high**2 + n_low*error_low**2)/n_objects\n",
    "print(f'MSE_Limor = ',MSE)"
   ]
  }
 ],
 "metadata": {
  "kernelspec": {
   "display_name": "Python 3",
   "language": "python",
   "name": "python3"
  },
  "language_info": {
   "codemirror_mode": {
    "name": "ipython",
    "version": 3
   },
   "file_extension": ".py",
   "mimetype": "text/x-python",
   "name": "python",
   "nbconvert_exporter": "python",
   "pygments_lexer": "ipython3",
   "version": "3.7.11"
  }
 },
 "nbformat": 4,
 "nbformat_minor": 5
}
